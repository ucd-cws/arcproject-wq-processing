{
 "cells": [
  {
   "cell_type": "markdown",
   "metadata": {
    "collapsed": false
   },
   "source": [
    "# Water Quality CSV Transects joined by TIME/DATE "
   ]
  },
  {
   "cell_type": "code",
   "execution_count": 1,
   "metadata": {
    "collapsed": false
   },
   "outputs": [],
   "source": [
    "import os\n",
    "import pandas\n",
    "from scripts import wqt_timestamp_match\n",
    "from datetime import datetime"
   ]
  },
  {
   "cell_type": "code",
   "execution_count": 2,
   "metadata": {
    "collapsed": false
   },
   "outputs": [
    {
     "name": "stdout",
     "output_type": "stream",
     "text": [
      "C:\\Users\\Andy\\Documents\\arcproject-wq-processing\\scripts\\tests\\testfiles\\Arc_040413\\Arc_040413_GPS\\040413_PosnPnt.shp\n",
      "C:\\Users\\Andy\\Documents\\arcproject-wq-processing\\scripts\\tests\\testfiles\\Arc_040413\\Arc_040413_WQ\\Arc_040413_wqt_cc.csv\n"
     ]
    }
   ],
   "source": [
    "# set wd to Arcproject-wq-processing folder\n",
    "wd = os.path.abspath(os.path.join(os.path.dirname(os.path.dirname(\"__file__\"))))\n",
    "# example shp\n",
    "shp = os.path.join(wd, \"scripts\", \"tests\", \"testfiles\", \"Arc_040413\\\\Arc_040413_GPS\\\\040413_PosnPnt.shp\")\n",
    "\n",
    "# example water quality\n",
    "wq_file = os.path.join(wd, \"scripts\", \"tests\", \"testfiles\", \"Arc_040413\\\\Arc_040413_WQ\\\\Arc_040413_wqt_cc.csv\")\n",
    "\n",
    "\n",
    "print(shp)\n",
    "print(wq_file)"
   ]
  },
  {
   "cell_type": "markdown",
   "metadata": {},
   "source": [
    "### Import CSV file from the Sonde as Pandas Dataframe"
   ]
  },
  {
   "cell_type": "code",
   "execution_count": 3,
   "metadata": {
    "collapsed": false,
    "scrolled": true
   },
   "outputs": [
    {
     "name": "stdout",
     "output_type": "stream",
     "text": [
      "            Date_Time   Temp    pH SpCond   Sal DEP25  PAR RPAR TurbSC   CHL  \\\n",
      "1 2013-04-04 13:01:03  17.40  7.84    520  0.26  0.39  573  417   13.4  5.34   \n",
      "2 2013-04-04 13:01:04  17.40  7.84    520  0.26  0.35  573  417   13.4  5.34   \n",
      "3 2013-04-04 13:01:05  17.40  7.88    520  0.26  0.35  576  419   13.5  5.29   \n",
      "4 2013-04-04 13:01:06  17.41  7.85    521  0.26  0.39  576  417   13.5  5.31   \n",
      "5 2013-04-04 13:01:07  17.41  7.85    521  0.26  0.39  576  417   13.5  5.31   \n",
      "\n",
      "  CHL_VOLTS              WQ_SOURCE  \n",
      "1   0.05078  Arc_040413_wqt_cc.csv  \n",
      "2   0.05078  Arc_040413_wqt_cc.csv  \n",
      "3   0.05095  Arc_040413_wqt_cc.csv  \n",
      "4   0.05073  Arc_040413_wqt_cc.csv  \n",
      "5   0.05073  Arc_040413_wqt_cc.csv  \n"
     ]
    }
   ],
   "source": [
    "water_quality = wqt_timestamp_match.wq_from_file(wq_file)\n",
    "print(water_quality.head())"
   ]
  },
  {
   "cell_type": "markdown",
   "metadata": {},
   "source": [
    "### Transect Shapefile "
   ]
  },
  {
   "cell_type": "code",
   "execution_count": 4,
   "metadata": {
    "collapsed": false
   },
   "outputs": [
    {
     "name": "stdout",
     "output_type": "stream",
     "text": [
      "         GPS_Date    GPS_Time     POINT_X    POINT_Y          GPS_SOURCE  \\\n",
      "0      2013-04-04  08:18:47am -121.675982  38.233225  040413_PosnPnt.shp   \n",
      "1      2013-04-04  08:18:48am -121.675986  38.233220  040413_PosnPnt.shp   \n",
      "2      2013-04-04  08:18:49am -121.675990  38.233214  040413_PosnPnt.shp   \n",
      "3      2013-04-04  08:18:50am -121.675994  38.233209  040413_PosnPnt.shp   \n",
      "4      2013-04-04  08:18:51am -121.675997  38.233204  040413_PosnPnt.shp   \n",
      "5      2013-04-04  08:18:52am -121.676001  38.233199  040413_PosnPnt.shp   \n",
      "6      2013-04-04  08:18:53am -121.676004  38.233193  040413_PosnPnt.shp   \n",
      "7      2013-04-04  08:18:54am -121.676006  38.233188  040413_PosnPnt.shp   \n",
      "8      2013-04-04  08:18:55am -121.676009  38.233183  040413_PosnPnt.shp   \n",
      "9      2013-04-04  08:18:56am -121.676011  38.233177  040413_PosnPnt.shp   \n",
      "10     2013-04-04  08:18:57am -121.676013  38.233172  040413_PosnPnt.shp   \n",
      "11     2013-04-04  08:18:58am -121.676015  38.233166  040413_PosnPnt.shp   \n",
      "12     2013-04-04  08:18:59am -121.676017  38.233160  040413_PosnPnt.shp   \n",
      "13     2013-04-04  08:19:00am -121.676018  38.233155  040413_PosnPnt.shp   \n",
      "14     2013-04-04  08:19:01am -121.676018  38.233150  040413_PosnPnt.shp   \n",
      "15     2013-04-04  08:19:02am -121.676018  38.233144  040413_PosnPnt.shp   \n",
      "16     2013-04-04  08:19:03am -121.676018  38.233139  040413_PosnPnt.shp   \n",
      "17     2013-04-04  08:19:04am -121.676018  38.233134  040413_PosnPnt.shp   \n",
      "18     2013-04-04  08:19:05am -121.676017  38.233130  040413_PosnPnt.shp   \n",
      "19     2013-04-04  08:19:06am -121.676017  38.233125  040413_PosnPnt.shp   \n",
      "20     2013-04-04  08:19:07am -121.676017  38.233119  040413_PosnPnt.shp   \n",
      "21     2013-04-04  08:19:08am -121.676017  38.233114  040413_PosnPnt.shp   \n",
      "22     2013-04-04  08:19:09am -121.676016  38.233109  040413_PosnPnt.shp   \n",
      "23     2013-04-04  08:19:10am -121.676016  38.233104  040413_PosnPnt.shp   \n",
      "24     2013-04-04  08:19:11am -121.676014  38.233099  040413_PosnPnt.shp   \n",
      "25     2013-04-04  08:19:12am -121.676012  38.233095  040413_PosnPnt.shp   \n",
      "26     2013-04-04  08:19:13am -121.676009  38.233092  040413_PosnPnt.shp   \n",
      "27     2013-04-04  08:19:14am -121.676006  38.233091  040413_PosnPnt.shp   \n",
      "28     2013-04-04  08:19:15am -121.676002  38.233090  040413_PosnPnt.shp   \n",
      "29     2013-04-04  08:19:16am -121.675998  38.233091  040413_PosnPnt.shp   \n",
      "...           ...         ...         ...        ...                 ...   \n",
      "15946  2013-04-04  05:49:38pm -121.759450  38.307124  040413_PosnPnt.shp   \n",
      "15947  2013-04-04  05:49:39pm -121.759458  38.307129  040413_PosnPnt.shp   \n",
      "15948  2013-04-04  05:49:40pm -121.759466  38.307140  040413_PosnPnt.shp   \n",
      "15949  2013-04-04  05:49:41pm -121.759467  38.307152  040413_PosnPnt.shp   \n",
      "15950  2013-04-04  05:49:42pm -121.759467  38.307158  040413_PosnPnt.shp   \n",
      "15951  2013-04-04  05:49:43pm -121.759469  38.307161  040413_PosnPnt.shp   \n",
      "15952  2013-04-04  05:49:44pm -121.759475  38.307168  040413_PosnPnt.shp   \n",
      "15953  2013-04-04  05:49:45pm -121.759473  38.307178  040413_PosnPnt.shp   \n",
      "15954  2013-04-04  05:49:46pm -121.759475  38.307186  040413_PosnPnt.shp   \n",
      "15955  2013-04-04  05:49:47pm -121.759479  38.307194  040413_PosnPnt.shp   \n",
      "15956  2013-04-04  05:49:48pm -121.759481  38.307201  040413_PosnPnt.shp   \n",
      "15957  2013-04-04  05:49:49pm -121.759484  38.307209  040413_PosnPnt.shp   \n",
      "15958  2013-04-04  05:49:50pm -121.759486  38.307216  040413_PosnPnt.shp   \n",
      "15959  2013-04-04  05:49:51pm -121.759488  38.307223  040413_PosnPnt.shp   \n",
      "15960  2013-04-04  05:49:52pm -121.759490  38.307230  040413_PosnPnt.shp   \n",
      "15961  2013-04-04  05:49:53pm -121.759492  38.307237  040413_PosnPnt.shp   \n",
      "15962  2013-04-04  05:49:54pm -121.759490  38.307243  040413_PosnPnt.shp   \n",
      "15963  2013-04-04  05:49:55pm -121.759492  38.307244  040413_PosnPnt.shp   \n",
      "15964  2013-04-04  05:49:56pm -121.759490  38.307254  040413_PosnPnt.shp   \n",
      "15965  2013-04-04  05:49:57pm -121.759489  38.307266  040413_PosnPnt.shp   \n",
      "15966  2013-04-04  05:49:58pm -121.759487  38.307274  040413_PosnPnt.shp   \n",
      "15967  2013-04-04  05:49:59pm -121.759488  38.307280  040413_PosnPnt.shp   \n",
      "15968  2013-04-04  05:50:00pm -121.759491  38.307291  040413_PosnPnt.shp   \n",
      "15969  2013-04-04  05:50:01pm -121.759491  38.307297  040413_PosnPnt.shp   \n",
      "15970  2013-04-04  05:50:02pm -121.759489  38.307303  040413_PosnPnt.shp   \n",
      "15971  2013-04-04  05:50:03pm -121.759493  38.307307  040413_PosnPnt.shp   \n",
      "15972  2013-04-04  05:50:04pm -121.759489  38.307313  040413_PosnPnt.shp   \n",
      "15973  2013-04-04  05:50:05pm -121.759487  38.307317  040413_PosnPnt.shp   \n",
      "15974  2013-04-04  05:56:39pm -121.760051  38.307271  040413_PosnPnt.shp   \n",
      "15975  2013-04-04  06:18:08pm -133.267691  19.500014  040413_PosnPnt.shp   \n",
      "\n",
      "                Date_Time  \n",
      "0     2013-04-04 08:18:47  \n",
      "1     2013-04-04 08:18:48  \n",
      "2     2013-04-04 08:18:49  \n",
      "3     2013-04-04 08:18:50  \n",
      "4     2013-04-04 08:18:51  \n",
      "5     2013-04-04 08:18:52  \n",
      "6     2013-04-04 08:18:53  \n",
      "7     2013-04-04 08:18:54  \n",
      "8     2013-04-04 08:18:55  \n",
      "9     2013-04-04 08:18:56  \n",
      "10    2013-04-04 08:18:57  \n",
      "11    2013-04-04 08:18:58  \n",
      "12    2013-04-04 08:18:59  \n",
      "13    2013-04-04 08:19:00  \n",
      "14    2013-04-04 08:19:01  \n",
      "15    2013-04-04 08:19:02  \n",
      "16    2013-04-04 08:19:03  \n",
      "17    2013-04-04 08:19:04  \n",
      "18    2013-04-04 08:19:05  \n",
      "19    2013-04-04 08:19:06  \n",
      "20    2013-04-04 08:19:07  \n",
      "21    2013-04-04 08:19:08  \n",
      "22    2013-04-04 08:19:09  \n",
      "23    2013-04-04 08:19:10  \n",
      "24    2013-04-04 08:19:11  \n",
      "25    2013-04-04 08:19:12  \n",
      "26    2013-04-04 08:19:13  \n",
      "27    2013-04-04 08:19:14  \n",
      "28    2013-04-04 08:19:15  \n",
      "29    2013-04-04 08:19:16  \n",
      "...                   ...  \n",
      "15946 2013-04-04 17:49:38  \n",
      "15947 2013-04-04 17:49:39  \n",
      "15948 2013-04-04 17:49:40  \n",
      "15949 2013-04-04 17:49:41  \n",
      "15950 2013-04-04 17:49:42  \n",
      "15951 2013-04-04 17:49:43  \n",
      "15952 2013-04-04 17:49:44  \n",
      "15953 2013-04-04 17:49:45  \n",
      "15954 2013-04-04 17:49:46  \n",
      "15955 2013-04-04 17:49:47  \n",
      "15956 2013-04-04 17:49:48  \n",
      "15957 2013-04-04 17:49:49  \n",
      "15958 2013-04-04 17:49:50  \n",
      "15959 2013-04-04 17:49:51  \n",
      "15960 2013-04-04 17:49:52  \n",
      "15961 2013-04-04 17:49:53  \n",
      "15962 2013-04-04 17:49:54  \n",
      "15963 2013-04-04 17:49:55  \n",
      "15964 2013-04-04 17:49:56  \n",
      "15965 2013-04-04 17:49:57  \n",
      "15966 2013-04-04 17:49:58  \n",
      "15967 2013-04-04 17:49:59  \n",
      "15968 2013-04-04 17:50:00  \n",
      "15969 2013-04-04 17:50:01  \n",
      "15970 2013-04-04 17:50:02  \n",
      "15971 2013-04-04 17:50:03  \n",
      "15972 2013-04-04 17:50:04  \n",
      "15973 2013-04-04 17:50:05  \n",
      "15974 2013-04-04 17:56:39  \n",
      "15975 2013-04-04 18:18:08  \n",
      "\n",
      "[15976 rows x 6 columns]\n",
      "GPS_Date              object\n",
      "GPS_Time              object\n",
      "POINT_X              float64\n",
      "POINT_Y              float64\n",
      "GPS_SOURCE            object\n",
      "Date_Time     datetime64[ns]\n",
      "dtype: object\n"
     ]
    }
   ],
   "source": [
    "shp_df = wqt_timestamp_match.wqtshp2pd(shp)\n",
    "\n",
    "print(shp_df)\n",
    "\n",
    "print(shp_df.dtypes)"
   ]
  },
  {
   "cell_type": "markdown",
   "metadata": {},
   "source": [
    "### Join the transect geodataframe with the water quality dataframe"
   ]
  },
  {
   "cell_type": "code",
   "execution_count": 5,
   "metadata": {
    "collapsed": false
   },
   "outputs": [
    {
     "name": "stdout",
     "output_type": "stream",
     "text": [
      "     GPS_Date    GPS_Time     POINT_X    POINT_Y          GPS_SOURCE  \\\n",
      "0  2013-04-04  08:18:47am -121.675982  38.233225  040413_PosnPnt.shp   \n",
      "1  2013-04-04  08:18:48am -121.675986  38.233220  040413_PosnPnt.shp   \n",
      "2  2013-04-04  08:18:49am -121.675990  38.233214  040413_PosnPnt.shp   \n",
      "3  2013-04-04  08:18:50am -121.675994  38.233209  040413_PosnPnt.shp   \n",
      "4  2013-04-04  08:18:51am -121.675997  38.233204  040413_PosnPnt.shp   \n",
      "\n",
      "            Date_Time Temp   pH SpCond  Sal DEP25  PAR RPAR TurbSC  CHL  \\\n",
      "0 2013-04-04 08:18:47  NaN  NaN    NaN  NaN   NaN  NaN  NaN    NaN  NaN   \n",
      "1 2013-04-04 08:18:48  NaN  NaN    NaN  NaN   NaN  NaN  NaN    NaN  NaN   \n",
      "2 2013-04-04 08:18:49  NaN  NaN    NaN  NaN   NaN  NaN  NaN    NaN  NaN   \n",
      "3 2013-04-04 08:18:50  NaN  NaN    NaN  NaN   NaN  NaN  NaN    NaN  NaN   \n",
      "4 2013-04-04 08:18:51  NaN  NaN    NaN  NaN   NaN  NaN  NaN    NaN  NaN   \n",
      "\n",
      "  CHL_VOLTS WQ_SOURCE  \n",
      "0       NaN       NaN  \n",
      "1       NaN       NaN  \n",
      "2       NaN       NaN  \n",
      "3       NaN       NaN  \n",
      "4       NaN       NaN  \n",
      "(15976, 6)\n",
      "(977, 12)\n",
      "(16019, 17)\n",
      "(934, 17)\n",
      "(43, 17)\n",
      "(15042, 17)\n"
     ]
    }
   ],
   "source": [
    "merged = wqt_timestamp_match.JoinByTimeStamp(water_quality, shp_df)\n",
    "print(merged.head())\n",
    "\n",
    "print(shp_df.shape)\n",
    "print(water_quality.shape)\n",
    "print(merged.shape)\n",
    "\n",
    "\n",
    "#match = wqt_timestamp_match.splitunmatched(merged)\n",
    "joined_data = merged\n",
    "match = joined_data.dropna(axis='index')\n",
    "no_geo = joined_data[joined_data[\"GPS_SOURCE\"].isnull()]\n",
    "no_wq = joined_data[joined_data[\"WQ_SOURCE\"].isnull()]\n",
    "\n",
    "print(match.shape)\n",
    "print(no_geo.shape)\n",
    "print(no_wq.shape)"
   ]
  },
  {
   "cell_type": "code",
   "execution_count": 7,
   "metadata": {
    "collapsed": false
   },
   "outputs": [
    {
     "name": "stdout",
     "output_type": "stream",
     "text": [
      "[(1, u'testText1', [471316.3835861763, 5000448.782036674])\n",
      " (2, u'testText2', [470402.49348005146, 5000049.216449278])]\n"
     ]
    }
   ],
   "source": [
    "import arcpy\n",
    "import numpy\n",
    "\n",
    "outFC = r\"C:\\Users\\Andy\\Desktop\\testShape.shp\"  \n",
    "array = numpy.array([(1, 'testText1', (471316.3835861763, 5000448.782036674)),  \n",
    "                     (2, 'testText2', (470402.49348005146, 5000049.216449278))],  \n",
    "                    numpy.dtype([('idfield',numpy.int32),('textField','<U10'),('XY', '<f8', 2)]))  \n",
    " \n",
    "print(array)    \n",
    "    \n",
    "arcpy.da.NumPyArrayToFeatureClass(array, outFC, ['XY'])"
   ]
  },
  {
   "cell_type": "code",
   "execution_count": null,
   "metadata": {
    "collapsed": false
   },
   "outputs": [],
   "source": [
    ""
   ]
  },
  {
   "cell_type": "code",
   "execution_count": null,
   "metadata": {
    "collapsed": false
   },
   "outputs": [],
   "source": [
    "# save to csv format?\n",
    "csv = match.to_csv()\n",
    "\n",
    "# save to numpy format? and then convert to feature class in arcpy \n",
    "# see https://my.usgs.gov/confluence/display/cdi/pandas.DataFrame+to+ArcGIS+Table\n",
    "\n",
    "\n",
    "\n",
    "df = match\n",
    "\n",
    "\n",
    "import numpy as np\n",
    "\n",
    "x = np.array(np.rec.fromrecords(df.values))\n",
    "names = df.dtypes.index.tolist()\n",
    "x.dtype.names = tuple(names)\n",
    "\n",
    "\n",
    "x = x.astype([('GPS_Date', 'S10'), ('GPS_Time', 'S10'), ('POINT_X', '<f8'), ('POINT_Y', '<f8'), ('GPS_SOURCE', 'S18'),\n",
    "              ('Date_Time', '<M8[us]'), ('Temp', '<f'), ('pH', '<f'), ('SpCond', '<f'), ('Sal', '<f'), ('DEP25', '<f'), \n",
    "              ('PAR', '<f'), ('RPAR', '<f'), ('TurbSC', '<f'), ('CHL', '<f'), ('CHL_VOLTS', '<f'), ('WQ_SOURCE', 'S21')])\n",
    "\n",
    "\n",
    "print(x.dtype)"
   ]
  },
  {
   "cell_type": "code",
   "execution_count": null,
   "metadata": {
    "collapsed": false
   },
   "outputs": [],
   "source": [
    "field_type_dict = {'GPS_Time': 'S10', 'Date_Time': '<M8[us]', 'PAR': '<f', 'Temp': '<f', 'Sal': '<f', 'DEP25': '<f', 'CHL': '<f', 'TurbSC': '<f', 'RPAR': '<f', 'SpCond': '<f', 'POINT_X': '<f8', 'POINT_Y': '<f8', 'GPS_Date': 'S10', 'pH': '<f', 'WQ_SOURCE': 'S21', 'GPS_SOURCE': 'S18', 'CHL_VOLTS': '<f'}\n",
    "\n",
    "print(field_type_dict)\n",
    "\n",
    "print(field_type_dict.items())"
   ]
  },
  {
   "cell_type": "code",
   "execution_count": null,
   "metadata": {
    "collapsed": false,
    "scrolled": false
   },
   "outputs": [],
   "source": [
    "import arcpy\n",
    "\n",
    "out = r\"C:\\Users\\Andy\\Desktop\\ex.shp\" \n",
    "arcpy.da.NumPyArrayToFeatureClass(r, out, (\"POINT_X\", \"POINT_Y\"))"
   ]
  },
  {
   "cell_type": "code",
   "execution_count": 10,
   "metadata": {
    "collapsed": false
   },
   "outputs": [],
   "source": [
    "a = wqt_timestamp_match.pd2np(match, wqt_timestamp_match.field_type_dict.items())\n",
    "wqt_timestamp_match.np2feature(a, r\"C:\\Users\\Andy\\Desktop\\b.shp\" )"
   ]
  }
 ],
 "metadata": {
  "kernelspec": {
   "display_name": "Python 2",
   "language": "python",
   "name": "python2"
  },
  "language_info": {
   "codemirror_mode": {
    "name": "ipython",
    "version": 2.0
   },
   "file_extension": ".py",
   "mimetype": "text/x-python",
   "name": "python",
   "nbconvert_exporter": "python",
   "pygments_lexer": "ipython2",
   "version": "2.7.10"
  }
 },
 "nbformat": 4,
 "nbformat_minor": 0
}