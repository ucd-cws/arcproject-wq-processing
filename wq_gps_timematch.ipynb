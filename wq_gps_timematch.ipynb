{
 "cells": [
  {
   "cell_type": "markdown",
   "metadata": {
    "collapsed": false
   },
   "source": [
    "# Water Quality CSV Transects joined by TIME/DATE "
   ]
  },
  {
   "cell_type": "code",
   "execution_count": 1,
   "metadata": {
    "collapsed": true
   },
   "outputs": [],
   "source": [
    "import os\n",
    "import pandas\n",
    "from wq_gps_match import timestamp_match"
   ]
  },
  {
   "cell_type": "code",
   "execution_count": 2,
   "metadata": {
    "collapsed": false
   },
   "outputs": [
    {
     "name": "stdout",
     "output_type": "stream",
     "text": [
      "C:\\Users\\Andy\\Documents\\arcproject-wq-processing\\wq_gps_match\\examples\\Apr_2013\\SummaryFiles\\Apr2013_GPS\\Arc_Apr2013_PosnPnt.shp\n",
      "C:\\Users\\Andy\\Documents\\arcproject-wq-processing\\wq_gps_match\\examples\\Apr_2013\\Arc_040213\\Arc_040213_WQ\\Arc_040213_wqt_sh_2.csv\n"
     ]
    }
   ],
   "source": [
    "# set wd to Arcproject-wq-processing folder\n",
    "wd = os.path.abspath(os.path.join(os.path.dirname(os.path.dirname(\"__file__\"))))\n",
    "# example shp\n",
    "shp = os.path.join(wd, \"wq_gps_match\", \"examples\", \"Apr_2013\", \"SummaryFiles\", \"Apr2013_GPS\", \"Arc_Apr2013_PosnPnt.shp\")\n",
    "\n",
    "# example water quality\n",
    "wq_file = os.path.join(wd, \"wq_gps_match\", \"examples\", \"Apr_2013\", \"Arc_040213\", \"Arc_040213_WQ\", \"Arc_040213_wqt_sh_2.csv\")\n",
    "\n",
    "print(shp)\n",
    "print(wq_file)"
   ]
  },
  {
   "cell_type": "markdown",
   "metadata": {},
   "source": [
    "Import CSV file from the MiniSonde as Pandas Dataframe"
   ]
  },
  {
   "cell_type": "code",
   "execution_count": 3,
   "metadata": {
    "collapsed": false
   },
   "outputs": [
    {
     "name": "stdout",
     "output_type": "stream",
     "text": [
      "            Date_Time   Temp    pH SpCond   Sal   DO%    DO DEP25  PAR RPAR  \\\n",
      "1 2013-04-02 09:18:19  15.87  7.77   2809  1.51  87.9  7.15  0.23  529  610   \n",
      "2 2013-04-02 09:18:20  15.87  7.77   2809  1.51  87.9  7.15  0.23  529  610   \n",
      "3 2013-04-02 09:18:21  15.87  7.76   2809  1.51  88.0  7.17  0.21  527  610   \n",
      "4 2013-04-02 09:18:22  15.87  7.76   2813  1.52  88.0  7.17  0.21  527  610   \n",
      "5 2013-04-02 09:18:23  15.87  7.77   2813  1.52  88.1  7.17  0.22  536  610   \n",
      "\n",
      "  TurbSC   CHL    CHL.1  \n",
      "1   37.7  5.36  0.05174  \n",
      "2   37.7  5.36  0.05174  \n",
      "3   37.6  5.39  0.05200  \n",
      "4   37.6  5.39  0.05200  \n",
      "5   37.9  5.42  0.05216  \n"
     ]
    }
   ],
   "source": [
    "water_quality = timestamp_match.wq_from_csv(wq_file)\n",
    "print(water_quality.head())"
   ]
  },
  {
   "cell_type": "code",
   "execution_count": 4,
   "metadata": {
    "collapsed": false
   },
   "outputs": [
    {
     "name": "stdout",
     "output_type": "stream",
     "text": [
      "       GPS_Date    GPS_Time            Date_Time              POINT_X  \\\n",
      "0  [2013, 4, 4]  08:18:47am  4/4/2013_08:18:47am  -1.21675981849e+002   \n",
      "1  [2013, 4, 4]  08:18:48am  4/4/2013_08:18:48am  -1.21675986001e+002   \n",
      "2  [2013, 4, 4]  08:18:49am  4/4/2013_08:18:49am  -1.21675990421e+002   \n",
      "3  [2013, 4, 4]  08:18:50am  4/4/2013_08:18:50am  -1.21675994058e+002   \n",
      "4  [2013, 4, 4]  08:18:51am  4/4/2013_08:18:51am  -1.21675997428e+002   \n",
      "\n",
      "              POINT_Y                               XY  \n",
      "0  3.82332247674e+001  [-121.675981849, 38.2332247674]  \n",
      "1  3.82332196115e+001  [-121.675986001, 38.2332196115]  \n",
      "2  3.82332143150e+001   [-121.675990421, 38.233214315]  \n",
      "3  3.82332090390e+001   [-121.675994058, 38.233209039]  \n",
      "4  3.82332039378e+001  [-121.675997428, 38.2332039378]  \n"
     ]
    }
   ],
   "source": [
    "shp_df = timestamp_match.shp2dataframe(shp)\n",
    "\n",
    "print(shp_df.head())"
   ]
  },
  {
   "cell_type": "code",
   "execution_count": 5,
   "metadata": {
    "collapsed": false
   },
   "outputs": [
    {
     "name": "stdout",
     "output_type": "stream",
     "text": [
      "       GPS_Date    GPS_Time           Date_Time              POINT_X  \\\n",
      "0  [2013, 4, 4]  08:18:47am 2013-04-04 08:18:47  -1.21675981849e+002   \n",
      "1  [2013, 4, 4]  08:18:48am 2013-04-04 08:18:48  -1.21675986001e+002   \n",
      "2  [2013, 4, 4]  08:18:49am 2013-04-04 08:18:49  -1.21675990421e+002   \n",
      "3  [2013, 4, 4]  08:18:50am 2013-04-04 08:18:50  -1.21675994058e+002   \n",
      "4  [2013, 4, 4]  08:18:51am 2013-04-04 08:18:51  -1.21675997428e+002   \n",
      "\n",
      "              POINT_Y                               XY  \n",
      "0  3.82332247674e+001  [-121.675981849, 38.2332247674]  \n",
      "1  3.82332196115e+001  [-121.675986001, 38.2332196115]  \n",
      "2  3.82332143150e+001   [-121.675990421, 38.233214315]  \n",
      "3  3.82332090390e+001   [-121.675994058, 38.233209039]  \n",
      "4  3.82332039378e+001  [-121.675997428, 38.2332039378]  \n"
     ]
    }
   ],
   "source": [
    "# combine the GPS_date and GPS time fields to match a timestamp to use as join field\n",
    "timestamp_match.addCombinedDateTime(shp_df, \"GPS_Date\", \"GPS_Time\")\n",
    "print(shp_df.head())"
   ]
  },
  {
   "cell_type": "code",
   "execution_count": 6,
   "metadata": {
    "collapsed": false
   },
   "outputs": [
    {
     "name": "stdout",
     "output_type": "stream",
     "text": [
      "Dimensions - origninal WQ:  (1921, 13),  Matches: (1921, 18)\n",
      "Number of rows different: 0\n",
      "Percent Match: 100.0 %\n"
     ]
    }
   ],
   "source": [
    "merged = timestamp_match.JoinByTimeStamp(water_quality, shp_df)\n",
    "#print(merged)\n",
    "\n",
    "matches = merged[0]\n",
    "\n",
    "print('Dimensions - origninal WQ:  {},  Matches: {}'.format( water_quality.shape, matches.shape))\n",
    "\n",
    "print('Number of rows different: {}'.format(water_quality.shape[0] - matches.shape[0]))\n",
    "\n",
    "percent_match = timestamp_match.JoinMatchPercent(water_quality, matches)\n",
    "\n",
    "print('Percent Match: {} %'.format(percent_match))"
   ]
  },
  {
   "cell_type": "code",
   "execution_count": 7,
   "metadata": {
    "collapsed": false
   },
   "outputs": [
    {
     "name": "stdout",
     "output_type": "stream",
     "text": [
      "            Date_Time   Temp    pH SpCond   Sal   DO%    DO DEP25  PAR RPAR  \\\n",
      "0 2013-04-02 09:18:19  15.87  7.77   2809  1.51  87.9  7.15  0.23  529  610   \n",
      "1 2013-04-02 09:18:20  15.87  7.77   2809  1.51  87.9  7.15  0.23  529  610   \n",
      "2 2013-04-02 09:18:21  15.87  7.76   2809  1.51  88.0  7.17  0.21  527  610   \n",
      "3 2013-04-02 09:18:22  15.87  7.76   2813  1.52  88.0  7.17  0.21  527  610   \n",
      "4 2013-04-02 09:18:23  15.87  7.77   2813  1.52  88.1  7.17  0.22  536  610   \n",
      "\n",
      "  TurbSC   CHL    CHL.1      GPS_Date    GPS_Time              POINT_X  \\\n",
      "0   37.7  5.36  0.05174  [2013, 4, 2]  09:18:19am  -1.21791064969e+002   \n",
      "1   37.7  5.36  0.05174  [2013, 4, 2]  09:18:20am  -1.21791061180e+002   \n",
      "2   37.6  5.39  0.05200  [2013, 4, 2]  09:18:21am  -1.21791053513e+002   \n",
      "3   37.6  5.39  0.05200  [2013, 4, 2]  09:18:22am  -1.21791048668e+002   \n",
      "4   37.9  5.42  0.05216  [2013, 4, 2]  09:18:23am  -1.21791041399e+002   \n",
      "\n",
      "              POINT_Y                               XY  \\\n",
      "0  3.80591446356e+001  [-121.791064969, 38.0591446356]   \n",
      "1  3.80591325573e+001   [-121.79106118, 38.0591325573]   \n",
      "2  3.80591204769e+001  [-121.791053513, 38.0591204769]   \n",
      "3  3.80591072426e+001  [-121.791048668, 38.0591072426]   \n",
      "4  3.80590934551e+001  [-121.791041399, 38.0590934551]   \n",
      "\n",
      "                 WQ_SOURCE               GPS_SOURCE  \n",
      "0  Arc_040213_wqt_sh_2.csv  Arc_Apr2013_PosnPnt.shp  \n",
      "1  Arc_040213_wqt_sh_2.csv  Arc_Apr2013_PosnPnt.shp  \n",
      "2  Arc_040213_wqt_sh_2.csv  Arc_Apr2013_PosnPnt.shp  \n",
      "3  Arc_040213_wqt_sh_2.csv  Arc_Apr2013_PosnPnt.shp  \n",
      "4  Arc_040213_wqt_sh_2.csv  Arc_Apr2013_PosnPnt.shp  \n"
     ]
    }
   ],
   "source": [
    "# add sources to the data frame\n",
    "timestamp_match.addsourcefield(matches, \"WQ_SOURCE\", wq_file)\n",
    "timestamp_match.addsourcefield(matches, \"GPS_SOURCE\", shp)\n",
    "print(matches.head())"
   ]
  },
  {
   "cell_type": "code",
   "execution_count": 8,
   "metadata": {
    "collapsed": false
   },
   "outputs": [
    {
     "name": "stdout",
     "output_type": "stream",
     "text": [
      "Time offset: -1 hour\n",
      "96.0437272254 %\n",
      "Time offset: -0.5 hour\n",
      "60.6975533576 %\n",
      "Time offset: 0 hour\n",
      "100.0 %\n",
      "Time offset: 0.5 hour\n",
      "68.3498178032 %\n",
      "Time offset: 1 hour\n",
      "16.1374284227 %\n",
      "{-0.5: 60.697553357626234, 0: 100.0, 1: 16.137428422696512, -1: 96.04372722540343, 0.5: 68.34981780322748}\n",
      "0\n"
     ]
    },
    {
     "data": {
      "text/html": [
       "<div>\n",
       "<table border=\"1\" class=\"dataframe\">\n",
       "  <thead>\n",
       "    <tr style=\"text-align: right;\">\n",
       "      <th></th>\n",
       "      <th>Date_Time</th>\n",
       "      <th>Temp</th>\n",
       "      <th>pH</th>\n",
       "      <th>SpCond</th>\n",
       "      <th>Sal</th>\n",
       "      <th>DO%</th>\n",
       "      <th>DO</th>\n",
       "      <th>DEP25</th>\n",
       "      <th>PAR</th>\n",
       "      <th>RPAR</th>\n",
       "      <th>TurbSC</th>\n",
       "      <th>CHL</th>\n",
       "      <th>CHL.1</th>\n",
       "    </tr>\n",
       "  </thead>\n",
       "  <tbody>\n",
       "    <tr>\n",
       "      <th>1</th>\n",
       "      <td>2013-04-02 09:18:19</td>\n",
       "      <td>15.87</td>\n",
       "      <td>7.77</td>\n",
       "      <td>2809</td>\n",
       "      <td>1.51</td>\n",
       "      <td>87.9</td>\n",
       "      <td>7.15</td>\n",
       "      <td>0.23</td>\n",
       "      <td>529</td>\n",
       "      <td>610</td>\n",
       "      <td>37.7</td>\n",
       "      <td>5.36</td>\n",
       "      <td>0.05174</td>\n",
       "    </tr>\n",
       "    <tr>\n",
       "      <th>2</th>\n",
       "      <td>2013-04-02 09:18:20</td>\n",
       "      <td>15.87</td>\n",
       "      <td>7.77</td>\n",
       "      <td>2809</td>\n",
       "      <td>1.51</td>\n",
       "      <td>87.9</td>\n",
       "      <td>7.15</td>\n",
       "      <td>0.23</td>\n",
       "      <td>529</td>\n",
       "      <td>610</td>\n",
       "      <td>37.7</td>\n",
       "      <td>5.36</td>\n",
       "      <td>0.05174</td>\n",
       "    </tr>\n",
       "    <tr>\n",
       "      <th>3</th>\n",
       "      <td>2013-04-02 09:18:21</td>\n",
       "      <td>15.87</td>\n",
       "      <td>7.76</td>\n",
       "      <td>2809</td>\n",
       "      <td>1.51</td>\n",
       "      <td>88.0</td>\n",
       "      <td>7.17</td>\n",
       "      <td>0.21</td>\n",
       "      <td>527</td>\n",
       "      <td>610</td>\n",
       "      <td>37.6</td>\n",
       "      <td>5.39</td>\n",
       "      <td>0.05200</td>\n",
       "    </tr>\n",
       "    <tr>\n",
       "      <th>4</th>\n",
       "      <td>2013-04-02 09:18:22</td>\n",
       "      <td>15.87</td>\n",
       "      <td>7.76</td>\n",
       "      <td>2813</td>\n",
       "      <td>1.52</td>\n",
       "      <td>88.0</td>\n",
       "      <td>7.17</td>\n",
       "      <td>0.21</td>\n",
       "      <td>527</td>\n",
       "      <td>610</td>\n",
       "      <td>37.6</td>\n",
       "      <td>5.39</td>\n",
       "      <td>0.05200</td>\n",
       "    </tr>\n",
       "    <tr>\n",
       "      <th>5</th>\n",
       "      <td>2013-04-02 09:18:23</td>\n",
       "      <td>15.87</td>\n",
       "      <td>7.77</td>\n",
       "      <td>2813</td>\n",
       "      <td>1.52</td>\n",
       "      <td>88.1</td>\n",
       "      <td>7.17</td>\n",
       "      <td>0.22</td>\n",
       "      <td>536</td>\n",
       "      <td>610</td>\n",
       "      <td>37.9</td>\n",
       "      <td>5.42</td>\n",
       "      <td>0.05216</td>\n",
       "    </tr>\n",
       "  </tbody>\n",
       "</table>\n",
       "</div>"
      ],
      "text/plain": [
       "            Date_Time   Temp    pH SpCond   Sal   DO%    DO DEP25  PAR RPAR  \\\n",
       "1 2013-04-02 09:18:19  15.87  7.77   2809  1.51  87.9  7.15  0.23  529  610   \n",
       "2 2013-04-02 09:18:20  15.87  7.77   2809  1.51  87.9  7.15  0.23  529  610   \n",
       "3 2013-04-02 09:18:21  15.87  7.76   2809  1.51  88.0  7.17  0.21  527  610   \n",
       "4 2013-04-02 09:18:22  15.87  7.76   2813  1.52  88.0  7.17  0.21  527  610   \n",
       "5 2013-04-02 09:18:23  15.87  7.77   2813  1.52  88.1  7.17  0.22  536  610   \n",
       "\n",
       "  TurbSC   CHL    CHL.1  \n",
       "1   37.7  5.36  0.05174  \n",
       "2   37.7  5.36  0.05174  \n",
       "3   37.6  5.39  0.05200  \n",
       "4   37.6  5.39  0.05200  \n",
       "5   37.9  5.42  0.05216  "
      ]
     },
     "execution_count": 8,
     "metadata": {},
     "output_type": "execute_result"
    }
   ],
   "source": [
    "# adjust date time by an hour to account for uncorrected daylight savings time\n",
    "\n",
    "from datetime import timedelta\n",
    "\n",
    "\n",
    "def dstadjustment(df, offset_hours):\n",
    "    df2 = df.copy() # make a copy of data so original is not overwritten\n",
    "    dstshift = lambda x: x + timedelta(hours=offset_hours)\n",
    "    df2['Date_Time'] = df2['Date_Time'].map(dstshift)\n",
    "    return df2\n",
    "\n",
    "\n",
    "\n",
    "#orignal = timestamp_match.JoinByTimeStamp(water_quality, shp_df)\n",
    "#percent_match = timestamp_match.JoinMatchPercent(water_quality, matches)\n",
    "\n",
    "\n",
    "#plus1 = dstadjustment(water_quality, 1)\n",
    "\n",
    "offsets= {}\n",
    "\n",
    "for i in [-1,-0.5, 0, 0.5,1]:\n",
    "    print(\"Time offset: {} hour\".format(i))\n",
    "    \n",
    "    # offset water quality\n",
    "    off = dstadjustment(water_quality, i)\n",
    "    \n",
    "    # try joining by timestamp\n",
    "    matches = timestamp_match.JoinByTimeStamp(off, shp_df)[0]\n",
    "    \n",
    "    # report the percentage matched\n",
    "    percent_match = timestamp_match.JoinMatchPercent(water_quality, matches)\n",
    "    print(\"{} %\".format(percent_match))\n",
    "    \n",
    "    # add to dict\n",
    "    offsets[i]=percent_match\n",
    "\n",
    "print(offsets)\n",
    "highest_percent_offset = max(offsets, key=offsets.get)\n",
    "print(highest_percent_offset)\n",
    "\n",
    "\n",
    "offset_df = timestamp_match.dstadjustment(water_quality, highest_percent_offset)\n",
    "offset_df.head()\n",
    "\n",
    "# join using time stamps w/ exact matchjoined_data = timestamp_match.JoinByTimeStamp(offset_df, pts)"
   ]
  },
  {
   "cell_type": "markdown",
   "metadata": {},
   "source": [
    "## transect_join_timestamp - batch function to combine transect water quality with GPS"
   ]
  },
  {
   "cell_type": "code",
   "execution_count": 9,
   "metadata": {
    "collapsed": false
   },
   "outputs": [
    {
     "name": "stdout",
     "output_type": "stream",
     "text": [
      "               Date_Time   Temp    pH SpCond   Sal DO_PCT    DO DEP25   PAR  \\\n",
      "0    2013-04-02 09:18:19  15.87  7.77   2809  1.51   87.9  7.15  0.23   529   \n",
      "1    2013-04-02 09:18:20  15.87  7.77   2809  1.51   87.9  7.15  0.23   529   \n",
      "2    2013-04-02 09:18:21  15.87  7.76   2809  1.51   88.0  7.17  0.21   527   \n",
      "3    2013-04-02 09:18:22  15.87  7.76   2813  1.52   88.0  7.17  0.21   527   \n",
      "4    2013-04-02 09:18:23  15.87  7.77   2813  1.52   88.1  7.17  0.22   536   \n",
      "5    2013-04-02 09:18:24  15.87  7.77   2812  1.52   88.1  7.17  0.20   536   \n",
      "6    2013-04-02 09:18:25  15.87  7.77   2812  1.52   88.1  7.17  0.20   536   \n",
      "7    2013-04-02 09:18:26  15.87  7.77   2811  1.52   88.1  7.17  0.25   539   \n",
      "8    2013-04-02 09:18:27  15.87  7.77   2811  1.52   88.1  7.17  0.25   539   \n",
      "9    2013-04-02 09:18:28  15.87  7.77   2811  1.52   88.0  7.16  0.24   543   \n",
      "10   2013-04-02 09:18:29  15.87  7.77   2811  1.52   88.0  7.16  0.24   543   \n",
      "11   2013-04-02 09:18:30  15.87  7.77   2814  1.52   87.9  7.16  0.18   533   \n",
      "12   2013-04-02 09:18:31  15.87  7.77   2814  1.52   87.9  7.16  0.18   533   \n",
      "13   2013-04-02 09:18:32  15.87  7.77   2813  1.52   87.8  7.15  0.18   541   \n",
      "14   2013-04-02 09:18:33  15.87  7.77   2813  1.52   87.8  7.15  0.18   541   \n",
      "15   2013-04-02 09:18:34  15.87  7.77   2813  1.52   87.9  7.15  0.18   546   \n",
      "16   2013-04-02 09:18:35  15.87  7.77   2813  1.52   87.9  7.15  0.18   546   \n",
      "17   2013-04-02 09:18:36  15.87  7.78   2812  1.52   88.0  7.16  0.15   578   \n",
      "18   2013-04-02 09:18:37  15.87  7.78   2812  1.52   88.0  7.16  0.15   578   \n",
      "19   2013-04-02 09:18:38  15.87  7.75   2812  1.52   88.2  7.18  0.20   564   \n",
      "20   2013-04-02 09:18:39  15.87  7.75   2812  1.52   88.1  7.17  0.20   564   \n",
      "21   2013-04-02 09:18:40  15.87  7.78   2812  1.52   88.1  7.17  0.20   565   \n",
      "22   2013-04-02 09:18:41  15.87  7.77   2810  1.52   88.3  7.19  0.18   552   \n",
      "23   2013-04-02 09:18:42  15.87  7.77   2810  1.52   88.3  7.19  0.18   552   \n",
      "24   2013-04-02 09:18:43  15.87  7.78   2810  1.52   88.3  7.19  0.20   546   \n",
      "25   2013-04-02 09:18:44  15.87  7.78   2810  1.52   88.3  7.19  0.20   546   \n",
      "26   2013-04-02 09:18:45  15.87  7.78   2811  1.52   88.3  7.19  0.17   565   \n",
      "27   2013-04-02 09:18:46  15.87  7.78   2811  1.52   88.3  7.19  0.17   565   \n",
      "28   2013-04-02 09:18:47  15.87  7.78   2799  1.51   88.3  7.18  0.13   575   \n",
      "29   2013-04-02 09:18:48  15.87  7.77   2784  1.50   88.3  7.19  0.18   575   \n",
      "...                  ...    ...   ...    ...   ...    ...   ...   ...   ...   \n",
      "1891 2013-04-02 09:50:06  15.74  7.78    735  0.38   85.3  7.02  0.17   648   \n",
      "1892 2013-04-02 09:50:07  15.74  7.78    736  0.38   85.4  7.02  0.15   671   \n",
      "1893 2013-04-02 09:50:08  15.74  7.78    736  0.38   85.4  7.02  0.15   671   \n",
      "1894 2013-04-02 09:50:09  15.75  7.79    739  0.38   85.1  7.00  0.16   829   \n",
      "1895 2013-04-02 09:50:10  15.75  7.79    739  0.38   85.1  7.00  0.16   829   \n",
      "1896 2013-04-02 09:50:11  15.75  7.79    739  0.38   85.4  7.02  0.16   829   \n",
      "1897 2013-04-02 09:50:12  15.75  7.79    739  0.38   85.4  7.02  0.16   893   \n",
      "1898 2013-04-02 09:50:13  15.75  7.79    740  0.38   85.1  7.00  0.17   906   \n",
      "1899 2013-04-02 09:50:14  15.75  7.79    740  0.38   85.1  7.00  0.17   906   \n",
      "1900 2013-04-02 09:50:15  15.75  7.79    740  0.38   85.3  7.01  0.20   922   \n",
      "1901 2013-04-02 09:50:16  15.75  7.79    740  0.38   85.3  7.01  0.20   922   \n",
      "1902 2013-04-02 09:50:17  15.75  7.79    741  0.38   85.2  7.01  0.21   931   \n",
      "1903 2013-04-02 09:50:18  15.75  7.79    741  0.38   85.2  7.01  0.21   931   \n",
      "1904 2013-04-02 09:50:19  15.76  7.79    742  0.38   85.7  7.04  0.12   937   \n",
      "1905 2013-04-02 09:50:20  15.76  7.79    742  0.38   85.7  7.04  0.12   937   \n",
      "1906 2013-04-02 09:50:21  15.76  7.79    744  0.38   85.5  7.03  0.13   941   \n",
      "1907 2013-04-02 09:50:22  15.76  7.79    744  0.38   86.4  7.10  0.15   941   \n",
      "1908 2013-04-02 09:50:23  15.76  7.80    744  0.38   86.4  7.10  0.15   941   \n",
      "1909 2013-04-02 09:50:24  15.76  7.79    745  0.39   85.4  7.02  0.16   947   \n",
      "1910 2013-04-02 09:50:25  15.76  7.79    745  0.39   85.4  7.02  0.16   947   \n",
      "1911 2013-04-02 09:50:26  15.76  7.79    745  0.39   85.5  7.03  0.14   953   \n",
      "1912 2013-04-02 09:50:27  15.76  7.79    745  0.39   85.5  7.03  0.14   953   \n",
      "1913 2013-04-02 09:50:28  15.75  7.79    745  0.38   85.3  7.01  0.14   963   \n",
      "1914 2013-04-02 09:50:29  15.75  7.79    745  0.38   85.3  7.01  0.14   963   \n",
      "1915 2013-04-02 09:50:30  15.75  7.79    744  0.38   85.1  6.99  0.16   973   \n",
      "1916 2013-04-02 09:50:31  15.75  7.79    745  0.39   85.1  6.99  0.16   973   \n",
      "1917 2013-04-02 09:50:32  15.75  7.79    745  0.39   85.0  6.99  0.20   991   \n",
      "1918 2013-04-02 09:50:33  15.75  7.79    745  0.39   85.0  6.99  0.20   991   \n",
      "1919 2013-04-02 09:50:34  15.76  7.80    752  0.39   85.1  7.00  0.19   989   \n",
      "1920 2013-04-02 09:50:36  15.76  7.79    753  0.39   85.4  7.01  0.19  1017   \n",
      "\n",
      "     RPAR TurbSC         CHL CHL_VOLTS                WQ_SOURCE      GPS_Date  \\\n",
      "0     610   37.7        5.36   0.05174  Arc_040213_wqt_sh_2.csv  [2013, 4, 2]   \n",
      "1     610   37.7        5.36   0.05174  Arc_040213_wqt_sh_2.csv  [2013, 4, 2]   \n",
      "2     610   37.6        5.39   0.05200  Arc_040213_wqt_sh_2.csv  [2013, 4, 2]   \n",
      "3     610   37.6        5.39   0.05200  Arc_040213_wqt_sh_2.csv  [2013, 4, 2]   \n",
      "4     610   37.9        5.42   0.05216  Arc_040213_wqt_sh_2.csv  [2013, 4, 2]   \n",
      "5     610   37.4        5.43   0.05187  Arc_040213_wqt_sh_2.csv  [2013, 4, 2]   \n",
      "6     604   37.4        5.43   0.05187  Arc_040213_wqt_sh_2.csv  [2013, 4, 2]   \n",
      "7     608   37.4        5.40   0.05163  Arc_040213_wqt_sh_2.csv  [2013, 4, 2]   \n",
      "8     608   37.4        5.40   0.05163  Arc_040213_wqt_sh_2.csv  [2013, 4, 2]   \n",
      "9     610   37.5        5.38   0.05165  Arc_040213_wqt_sh_2.csv  [2013, 4, 2]   \n",
      "10    610   37.5        5.38   0.05165  Arc_040213_wqt_sh_2.csv  [2013, 4, 2]   \n",
      "11    614   37.5        5.38   0.05135  Arc_040213_wqt_sh_2.csv  [2013, 4, 2]   \n",
      "12    614   37.5        5.38   0.05135  Arc_040213_wqt_sh_2.csv  [2013, 4, 2]   \n",
      "13    609   37.5        5.35   0.05083  Arc_040213_wqt_sh_2.csv  [2013, 4, 2]   \n",
      "14    609   37.5        5.35   0.05083  Arc_040213_wqt_sh_2.csv  [2013, 4, 2]   \n",
      "15    611   37.4        5.29   0.05027  Arc_040213_wqt_sh_2.csv  [2013, 4, 2]   \n",
      "16    611   37.4        5.29   0.05027  Arc_040213_wqt_sh_2.csv  [2013, 4, 2]   \n",
      "17    616   37.4        5.24   0.04988  Arc_040213_wqt_sh_2.csv  [2013, 4, 2]   \n",
      "18    616   37.4        5.24   0.04988  Arc_040213_wqt_sh_2.csv  [2013, 4, 2]   \n",
      "19    609   37.3        5.20   0.04940  Arc_040213_wqt_sh_2.csv  [2013, 4, 2]   \n",
      "20    609   37.3        5.20   0.04940  Arc_040213_wqt_sh_2.csv  [2013, 4, 2]   \n",
      "21    604   37.2        5.15   0.04889  Arc_040213_wqt_sh_2.csv  [2013, 4, 2]   \n",
      "22    601   37.3        5.09   0.04831  Arc_040213_wqt_sh_2.csv  [2013, 4, 2]   \n",
      "23    601   37.3        5.09   0.04831  Arc_040213_wqt_sh_2.csv  [2013, 4, 2]   \n",
      "24    599   37.3        5.03   0.04804  Arc_040213_wqt_sh_2.csv  [2013, 4, 2]   \n",
      "25    599   37.3        5.03   0.04804  Arc_040213_wqt_sh_2.csv  [2013, 4, 2]   \n",
      "26    598   37.3        5.00   0.04775  Arc_040213_wqt_sh_2.csv  [2013, 4, 2]   \n",
      "27    598   37.3        5.00   0.04775  Arc_040213_wqt_sh_2.csv  [2013, 4, 2]   \n",
      "28    599   37.3        4.97   0.04718  Arc_040213_wqt_sh_2.csv  [2013, 4, 2]   \n",
      "29    599   37.3        4.91   0.04659  Arc_040213_wqt_sh_2.csv  [2013, 4, 2]   \n",
      "...   ...    ...         ...       ...                      ...           ...   \n",
      "1891  786   29.1        2.12   0.02037  Arc_040213_wqt_sh_2.csv  [2013, 4, 2]   \n",
      "1892  783   29.1        2.12   0.02035  Arc_040213_wqt_sh_2.csv  [2013, 4, 2]   \n",
      "1893  783   29.1        2.12   0.02035  Arc_040213_wqt_sh_2.csv  [2013, 4, 2]   \n",
      "1894  784   29.1        2.12   0.02038  Arc_040213_wqt_sh_2.csv  [2013, 4, 2]   \n",
      "1895  784   29.1        2.12   0.02038  Arc_040213_wqt_sh_2.csv  [2013, 4, 2]   \n",
      "1896  784   29.1        2.12   0.02038  Arc_040213_wqt_sh_2.csv  [2013, 4, 2]   \n",
      "1897  789   29.1        2.12   0.02034  Arc_040213_wqt_sh_2.csv  [2013, 4, 2]   \n",
      "1898  793   29.1        2.12   0.02029  Arc_040213_wqt_sh_2.csv  [2013, 4, 2]   \n",
      "1899  793   29.1        2.12   0.02029  Arc_040213_wqt_sh_2.csv  [2013, 4, 2]   \n",
      "1900  803   29.1        2.11   0.02025  Arc_040213_wqt_sh_2.csv  [2013, 4, 2]   \n",
      "1901  803   29.1        2.11   0.02025  Arc_040213_wqt_sh_2.csv  [2013, 4, 2]   \n",
      "1902  808   29.1        2.11   0.02029  Arc_040213_wqt_sh_2.csv  [2013, 4, 2]   \n",
      "1903  808   29.1        2.11   0.02029  Arc_040213_wqt_sh_2.csv  [2013, 4, 2]   \n",
      "1904  808   29.0        2.11   0.02025  Arc_040213_wqt_sh_2.csv  [2013, 4, 2]   \n",
      "1905  808   29.0        2.11   0.02025  Arc_040213_wqt_sh_2.csv  [2013, 4, 2]   \n",
      "1906  808   29.0        2.11   0.02017  Arc_040213_wqt_sh_2.csv  [2013, 4, 2]   \n",
      "1907  808   29.0        2.11   0.02017  Arc_040213_wqt_sh_2.csv  [2013, 4, 2]   \n",
      "1908  804   29.0        2.10   0.02007  Arc_040213_wqt_sh_2.csv  [2013, 4, 2]   \n",
      "1909  808   29.0        2.09   0.02005  Arc_040213_wqt_sh_2.csv  [2013, 4, 2]   \n",
      "1910  808   29.0        2.09   0.02005  Arc_040213_wqt_sh_2.csv  [2013, 4, 2]   \n",
      "1911  814   29.0        2.09   0.02960  Arc_040213_wqt_sh_2.csv  [2013, 4, 2]   \n",
      "1912  814   29.0        2.09   0.02960  Arc_040213_wqt_sh_2.csv  [2013, 4, 2]   \n",
      "1913  822   29.0        3.08   0.03244  Arc_040213_wqt_sh_2.csv  [2013, 4, 2]   \n",
      "1914  822   29.0        3.08   0.03244  Arc_040213_wqt_sh_2.csv  [2013, 4, 2]   \n",
      "1915  832   29.0        3.38   0.03188  Arc_040213_wqt_sh_2.csv  [2013, 4, 2]   \n",
      "1916  832   29.0        3.38   0.03188  Arc_040213_wqt_sh_2.csv  [2013, 4, 2]   \n",
      "1917  846   29.0        3.32   0.02900  Arc_040213_wqt_sh_2.csv  [2013, 4, 2]   \n",
      "1918  846   29.0        3.32   0.02900  Arc_040213_wqt_sh_2.csv  [2013, 4, 2]   \n",
      "1919  851   29.0        3.02   0.03751  Arc_040213_wqt_sh_2.csv  [2013, 4, 2]   \n",
      "1920  881   29.0  2000000.00   0.41310  Arc_040213_wqt_sh_2.csv  [2013, 4, 2]   \n",
      "\n",
      "        GPS_Time              POINT_X             POINT_Y  \\\n",
      "0     09:18:19am  -1.21791064969e+002  3.80591446356e+001   \n",
      "1     09:18:20am  -1.21791061180e+002  3.80591325573e+001   \n",
      "2     09:18:21am  -1.21791053513e+002  3.80591204769e+001   \n",
      "3     09:18:22am  -1.21791048668e+002  3.80591072426e+001   \n",
      "4     09:18:23am  -1.21791041399e+002  3.80590934551e+001   \n",
      "5     09:18:24am  -1.21791037287e+002  3.80590787417e+001   \n",
      "6     09:18:25am  -1.21791029618e+002  3.80590638598e+001   \n",
      "7     09:18:26am  -1.21791024792e+002  3.80590478324e+001   \n",
      "8     09:18:27am  -1.21791018519e+002  3.80590318896e+001   \n",
      "9     09:18:28am  -1.21791013827e+002  3.80590153873e+001   \n",
      "10    09:18:29am  -1.21791008140e+002  3.80589988696e+001   \n",
      "11    09:18:30am  -1.21791003665e+002  3.80589818759e+001   \n",
      "12    09:18:31am  -1.21790999218e+002  3.80589649492e+001   \n",
      "13    09:18:32am  -1.21790993931e+002  3.80589475899e+001   \n",
      "14    09:18:33am  -1.21790991047e+002  3.80589304131e+001   \n",
      "15    09:18:34am  -1.21790985877e+002  3.80589129178e+001   \n",
      "16    09:18:35am  -1.21790983167e+002  3.80588949339e+001   \n",
      "17    09:18:36am  -1.21790978490e+002  3.80588773236e+001   \n",
      "18    09:18:37am  -1.21790973944e+002  3.80588591388e+001   \n",
      "19    09:18:38am  -1.21790970471e+002  3.80588412338e+001   \n",
      "20    09:18:39am  -1.21790965469e+002  3.80588234725e+001   \n",
      "21    09:18:40am  -1.21790962500e+002  3.80588054536e+001   \n",
      "22    09:18:41am  -1.21790958879e+002  3.80587875632e+001   \n",
      "23    09:18:42am  -1.21790956025e+002  3.80587693925e+001   \n",
      "24    09:18:43am  -1.21790953157e+002  3.80587513741e+001   \n",
      "25    09:18:44am  -1.21790952784e+002  3.80587333043e+001   \n",
      "26    09:18:45am  -1.21790951494e+002  3.80587149074e+001   \n",
      "27    09:18:46am  -1.21790951259e+002  3.80586965875e+001   \n",
      "28    09:18:47am  -1.21790951211e+002  3.80586779420e+001   \n",
      "29    09:18:48am  -1.21790951450e+002  3.80586594004e+001   \n",
      "...          ...                  ...                 ...   \n",
      "1891  09:50:06am  -1.21780067532e+002  3.80310205726e+001   \n",
      "1892  09:50:07am  -1.21780081506e+002  3.80310340112e+001   \n",
      "1893  09:50:08am  -1.21780095109e+002  3.80310478083e+001   \n",
      "1894  09:50:09am  -1.21780108444e+002  3.80310617655e+001   \n",
      "1895  09:50:10am  -1.21780121385e+002  3.80310759111e+001   \n",
      "1896  09:50:11am  -1.21780134101e+002  3.80310902168e+001   \n",
      "1897  09:50:12am  -1.21780146432e+002  3.80311047310e+001   \n",
      "1898  09:50:13am  -1.21780158365e+002  3.80311195787e+001   \n",
      "1899  09:50:14am  -1.21780170044e+002  3.80311345747e+001   \n",
      "1900  09:50:15am  -1.21780181522e+002  3.80311496408e+001   \n",
      "1901  09:50:16am  -1.21780193078e+002  3.80311647670e+001   \n",
      "1902  09:50:17am  -1.21780204586e+002  3.80311799865e+001   \n",
      "1903  09:50:18am  -1.21780216219e+002  3.80311951493e+001   \n",
      "1904  09:50:19am  -1.21780227605e+002  3.80312101637e+001   \n",
      "1905  09:50:20am  -1.21780238716e+002  3.80312247312e+001   \n",
      "1906  09:50:21am  -1.21780249785e+002  3.80312383849e+001   \n",
      "1907  09:50:22am  -1.21780260311e+002  3.80312516268e+001   \n",
      "1908  09:50:23am  -1.21780270525e+002  3.80312642049e+001   \n",
      "1909  09:50:24am  -1.21780280626e+002  3.80312763312e+001   \n",
      "1910  09:50:25am  -1.21780290105e+002  3.80312881122e+001   \n",
      "1911  09:50:26am  -1.21780299998e+002  3.80312991829e+001   \n",
      "1912  09:50:27am  -1.21780309265e+002  3.80313096150e+001   \n",
      "1913  09:50:28am  -1.21780318812e+002  3.80313192199e+001   \n",
      "1914  09:50:29am  -1.21780327675e+002  3.80313285614e+001   \n",
      "1915  09:50:30am  -1.21780336469e+002  3.80313373076e+001   \n",
      "1916  09:50:31am  -1.21780344902e+002  3.80313458887e+001   \n",
      "1917  09:50:32am  -1.21780352947e+002  3.80313542147e+001   \n",
      "1918  09:50:33am  -1.21780360571e+002  3.80313625273e+001   \n",
      "1919  09:50:34am  -1.21780367990e+002  3.80313707715e+001   \n",
      "1920  09:50:36am  -1.21780382049e+002  3.80313874068e+001   \n",
      "\n",
      "                                   XY               GPS_source  \n",
      "0     [-121.791064969, 38.0591446356]  Arc_Apr2013_PosnPnt.shp  \n",
      "1      [-121.79106118, 38.0591325573]  Arc_Apr2013_PosnPnt.shp  \n",
      "2     [-121.791053513, 38.0591204769]  Arc_Apr2013_PosnPnt.shp  \n",
      "3     [-121.791048668, 38.0591072426]  Arc_Apr2013_PosnPnt.shp  \n",
      "4     [-121.791041399, 38.0590934551]  Arc_Apr2013_PosnPnt.shp  \n",
      "5     [-121.791037287, 38.0590787417]  Arc_Apr2013_PosnPnt.shp  \n",
      "6     [-121.791029618, 38.0590638598]  Arc_Apr2013_PosnPnt.shp  \n",
      "7     [-121.791024792, 38.0590478324]  Arc_Apr2013_PosnPnt.shp  \n",
      "8     [-121.791018519, 38.0590318896]  Arc_Apr2013_PosnPnt.shp  \n",
      "9     [-121.791013827, 38.0590153873]  Arc_Apr2013_PosnPnt.shp  \n",
      "10     [-121.79100814, 38.0589988696]  Arc_Apr2013_PosnPnt.shp  \n",
      "11    [-121.791003665, 38.0589818759]  Arc_Apr2013_PosnPnt.shp  \n",
      "12    [-121.790999218, 38.0589649492]  Arc_Apr2013_PosnPnt.shp  \n",
      "13    [-121.790993931, 38.0589475899]  Arc_Apr2013_PosnPnt.shp  \n",
      "14    [-121.790991047, 38.0589304131]  Arc_Apr2013_PosnPnt.shp  \n",
      "15    [-121.790985877, 38.0589129178]  Arc_Apr2013_PosnPnt.shp  \n",
      "16    [-121.790983167, 38.0588949339]  Arc_Apr2013_PosnPnt.shp  \n",
      "17     [-121.79097849, 38.0588773236]  Arc_Apr2013_PosnPnt.shp  \n",
      "18    [-121.790973944, 38.0588591388]  Arc_Apr2013_PosnPnt.shp  \n",
      "19    [-121.790970471, 38.0588412338]  Arc_Apr2013_PosnPnt.shp  \n",
      "20    [-121.790965469, 38.0588234725]  Arc_Apr2013_PosnPnt.shp  \n",
      "21      [-121.7909625, 38.0588054536]  Arc_Apr2013_PosnPnt.shp  \n",
      "22    [-121.790958879, 38.0587875632]  Arc_Apr2013_PosnPnt.shp  \n",
      "23    [-121.790956025, 38.0587693925]  Arc_Apr2013_PosnPnt.shp  \n",
      "24    [-121.790953157, 38.0587513741]  Arc_Apr2013_PosnPnt.shp  \n",
      "25    [-121.790952784, 38.0587333043]  Arc_Apr2013_PosnPnt.shp  \n",
      "26    [-121.790951494, 38.0587149074]  Arc_Apr2013_PosnPnt.shp  \n",
      "27    [-121.790951259, 38.0586965875]  Arc_Apr2013_PosnPnt.shp  \n",
      "28     [-121.790951211, 38.058677942]  Arc_Apr2013_PosnPnt.shp  \n",
      "29     [-121.79095145, 38.0586594004]  Arc_Apr2013_PosnPnt.shp  \n",
      "...                               ...                      ...  \n",
      "1891  [-121.780067532, 38.0310205726]  Arc_Apr2013_PosnPnt.shp  \n",
      "1892  [-121.780081506, 38.0310340112]  Arc_Apr2013_PosnPnt.shp  \n",
      "1893  [-121.780095109, 38.0310478083]  Arc_Apr2013_PosnPnt.shp  \n",
      "1894  [-121.780108444, 38.0310617655]  Arc_Apr2013_PosnPnt.shp  \n",
      "1895  [-121.780121385, 38.0310759111]  Arc_Apr2013_PosnPnt.shp  \n",
      "1896  [-121.780134101, 38.0310902168]  Arc_Apr2013_PosnPnt.shp  \n",
      "1897   [-121.780146432, 38.031104731]  Arc_Apr2013_PosnPnt.shp  \n",
      "1898  [-121.780158365, 38.0311195787]  Arc_Apr2013_PosnPnt.shp  \n",
      "1899  [-121.780170044, 38.0311345747]  Arc_Apr2013_PosnPnt.shp  \n",
      "1900  [-121.780181522, 38.0311496408]  Arc_Apr2013_PosnPnt.shp  \n",
      "1901   [-121.780193078, 38.031164767]  Arc_Apr2013_PosnPnt.shp  \n",
      "1902  [-121.780204586, 38.0311799865]  Arc_Apr2013_PosnPnt.shp  \n",
      "1903  [-121.780216219, 38.0311951493]  Arc_Apr2013_PosnPnt.shp  \n",
      "1904  [-121.780227605, 38.0312101637]  Arc_Apr2013_PosnPnt.shp  \n",
      "1905  [-121.780238716, 38.0312247312]  Arc_Apr2013_PosnPnt.shp  \n",
      "1906  [-121.780249785, 38.0312383849]  Arc_Apr2013_PosnPnt.shp  \n",
      "1907  [-121.780260311, 38.0312516268]  Arc_Apr2013_PosnPnt.shp  \n",
      "1908  [-121.780270525, 38.0312642049]  Arc_Apr2013_PosnPnt.shp  \n",
      "1909  [-121.780280626, 38.0312763312]  Arc_Apr2013_PosnPnt.shp  \n",
      "1910  [-121.780290105, 38.0312881122]  Arc_Apr2013_PosnPnt.shp  \n",
      "1911  [-121.780299998, 38.0312991829]  Arc_Apr2013_PosnPnt.shp  \n",
      "1912   [-121.780309265, 38.031309615]  Arc_Apr2013_PosnPnt.shp  \n",
      "1913  [-121.780318812, 38.0313192199]  Arc_Apr2013_PosnPnt.shp  \n",
      "1914  [-121.780327675, 38.0313285614]  Arc_Apr2013_PosnPnt.shp  \n",
      "1915  [-121.780336469, 38.0313373076]  Arc_Apr2013_PosnPnt.shp  \n",
      "1916  [-121.780344902, 38.0313458887]  Arc_Apr2013_PosnPnt.shp  \n",
      "1917  [-121.780352947, 38.0313542147]  Arc_Apr2013_PosnPnt.shp  \n",
      "1918  [-121.780360571, 38.0313625273]  Arc_Apr2013_PosnPnt.shp  \n",
      "1919   [-121.78036799, 38.0313707715]  Arc_Apr2013_PosnPnt.shp  \n",
      "1920  [-121.780382049, 38.0313874068]  Arc_Apr2013_PosnPnt.shp  \n",
      "\n",
      "[1921 rows x 20 columns]\n"
     ]
    }
   ],
   "source": [
    "joined_data = timestamp_match.transect_join_timestamp(wq_file, shp)\n",
    "print(joined_data)"
   ]
  },
  {
   "cell_type": "code",
   "execution_count": 10,
   "metadata": {
    "collapsed": false
   },
   "outputs": [
    {
     "name": "stdout",
     "output_type": "stream",
     "text": [
      "Percent Matched: 100.0\n",
      "Saving matches to shapefile\n"
     ]
    }
   ],
   "source": [
    "# save to shapefile\n",
    "\n",
    "timestamp_match.main(wq_file, shp, \"Example.shp\")"
   ]
  },
  {
   "cell_type": "markdown",
   "metadata": {
    "collapsed": false
   },
   "source": [
    "# ZOOP CHL W points"
   ]
  },
  {
   "cell_type": "code",
   "execution_count": 11,
   "metadata": {
    "collapsed": false
   },
   "outputs": [
    {
     "name": "stdout",
     "output_type": "stream",
     "text": [
      "C:\\Users\\Andy\\Documents\\arcproject-wq-processing\\wq_gps_match\\examples\\Arc_040413_GPS\\040413_ZoopChlW.shp\n",
      "C:\\Users\\Andy\\Documents\\arcproject-wq-processing\\wq_gps_match\\examples\\Arc_040413_WQ\\Arc_040413_wqp_ca1.csv\n"
     ]
    }
   ],
   "source": [
    "# set wd to Arcproject-wq-processing folder\n",
    "wd = os.path.abspath(os.path.join(os.path.dirname(os.path.dirname(\"__file__\"))))\n",
    "# shapefile of the Chl sampling locations\n",
    "station_shp = os.path.join(wd, \"wq_gps_match\", \"examples\", \"Arc_040413_GPS\", \"040413_ZoopChlW.shp\")\n",
    "# water quality vertical profile for a Chl sampling point\n",
    "station_wq_file = os.path.join(wd, \"wq_gps_match\", \"examples\", \"Arc_040413_WQ\", \"Arc_040413_wqp_ca1.csv\")\n",
    "\n",
    "print(station_shp)\n",
    "print(station_wq_file)"
   ]
  },
  {
   "cell_type": "code",
   "execution_count": 12,
   "metadata": {
    "collapsed": false
   },
   "outputs": [
    {
     "ename": "IOError",
     "evalue": "File C:\\Users\\Andy\\Documents\\arcproject-wq-processing\\wq_gps_match\\examples\\Arc_040413_WQ\\Arc_040413_wqp_ca1.csv does not exist",
     "traceback": [
      "\u001b[0;31m\u001b[0m",
      "\u001b[0;31mIOError\u001b[0mTraceback (most recent call last)",
      "\u001b[0;32m<ipython-input-12-ea309e683d0c>\u001b[0m in \u001b[0;36m<module>\u001b[0;34m()\u001b[0m\n\u001b[1;32m      1\u001b[0m \u001b[1;31m# let's process that water quality at the stationary point\u001b[0m\u001b[1;33m\u001b[0m\u001b[1;33m\u001b[0m\u001b[0m\n\u001b[0;32m----> 2\u001b[0;31m \u001b[0mstation_water_quality\u001b[0m \u001b[1;33m=\u001b[0m \u001b[0mtimestamp_match\u001b[0m\u001b[1;33m.\u001b[0m\u001b[0mwq_from_csv\u001b[0m\u001b[1;33m(\u001b[0m\u001b[0mstation_wq_file\u001b[0m\u001b[1;33m)\u001b[0m\u001b[1;33m\u001b[0m\u001b[0m\n\u001b[0m\u001b[1;32m      3\u001b[0m \u001b[1;32mprint\u001b[0m\u001b[1;33m(\u001b[0m\u001b[0mstation_water_quality\u001b[0m\u001b[1;33m.\u001b[0m\u001b[0mhead\u001b[0m\u001b[1;33m(\u001b[0m\u001b[1;33m)\u001b[0m\u001b[1;33m)\u001b[0m\u001b[1;33m\u001b[0m\u001b[0m\n",
      "\u001b[0;32mC:\\Users\\Andy\\Documents\\arcproject-wq-processing\\wq_gps_match\\timestamp_match.py\u001b[0m in \u001b[0;36mwq_from_csv\u001b[0;34m(csv_from_sonde)\u001b[0m\n\u001b[1;32m     16\u001b[0m \u001b[1;33m\u001b[0m\u001b[0m\n\u001b[1;32m     17\u001b[0m         \u001b[1;31m# load data from the csv starting at row 11, combine Date/Time columns using parse dates\u001b[0m\u001b[1;33m\u001b[0m\u001b[1;33m\u001b[0m\u001b[0m\n\u001b[0;32m---> 18\u001b[0;31m         \u001b[0mwq\u001b[0m \u001b[1;33m=\u001b[0m \u001b[0mpandas\u001b[0m\u001b[1;33m.\u001b[0m\u001b[0mread_csv\u001b[0m\u001b[1;33m(\u001b[0m\u001b[0mcsv_from_sonde\u001b[0m\u001b[1;33m,\u001b[0m \u001b[0mheader\u001b[0m\u001b[1;33m=\u001b[0m\u001b[1;36m9\u001b[0m\u001b[1;33m,\u001b[0m \u001b[0mparse_dates\u001b[0m\u001b[1;33m=\u001b[0m\u001b[1;33m[\u001b[0m\u001b[1;33m[\u001b[0m\u001b[1;36m0\u001b[0m\u001b[1;33m,\u001b[0m \u001b[1;36m1\u001b[0m\u001b[1;33m]\u001b[0m\u001b[1;33m]\u001b[0m\u001b[1;33m,\u001b[0m \u001b[0mna_values\u001b[0m\u001b[1;33m=\u001b[0m\u001b[1;34m'#'\u001b[0m\u001b[1;33m)\u001b[0m\u001b[1;33m\u001b[0m\u001b[0m\n\u001b[0m\u001b[1;32m     19\u001b[0m \u001b[1;33m\u001b[0m\u001b[0m\n\u001b[1;32m     20\u001b[0m         \u001b[1;31m# drop first row which contains units with illegal characters\u001b[0m\u001b[1;33m\u001b[0m\u001b[1;33m\u001b[0m\u001b[0m\n",
      "\u001b[0;32mC:\\Users\\Andy\\Documents\\arcproject-wq-processing\\arcwq-virtuenv\\lib\\site-packages\\pandas\\io\\parsers.pyc\u001b[0m in \u001b[0;36mparser_f\u001b[0;34m(filepath_or_buffer, sep, delimiter, header, names, index_col, usecols, squeeze, prefix, mangle_dupe_cols, dtype, engine, converters, true_values, false_values, skipinitialspace, skiprows, skipfooter, nrows, na_values, keep_default_na, na_filter, verbose, skip_blank_lines, parse_dates, infer_datetime_format, keep_date_col, date_parser, dayfirst, iterator, chunksize, compression, thousands, decimal, lineterminator, quotechar, quoting, escapechar, comment, encoding, dialect, tupleize_cols, error_bad_lines, warn_bad_lines, skip_footer, doublequote, delim_whitespace, as_recarray, compact_ints, use_unsigned, low_memory, buffer_lines, memory_map, float_precision)\u001b[0m\n\u001b[1;32m    560\u001b[0m                     skip_blank_lines=skip_blank_lines)\n\u001b[1;32m    561\u001b[0m \u001b[1;33m\u001b[0m\u001b[0m\n\u001b[0;32m--> 562\u001b[0;31m         \u001b[1;32mreturn\u001b[0m \u001b[0m_read\u001b[0m\u001b[1;33m(\u001b[0m\u001b[0mfilepath_or_buffer\u001b[0m\u001b[1;33m,\u001b[0m \u001b[0mkwds\u001b[0m\u001b[1;33m)\u001b[0m\u001b[1;33m\u001b[0m\u001b[0m\n\u001b[0m\u001b[1;32m    563\u001b[0m \u001b[1;33m\u001b[0m\u001b[0m\n\u001b[1;32m    564\u001b[0m     \u001b[0mparser_f\u001b[0m\u001b[1;33m.\u001b[0m\u001b[0m__name__\u001b[0m \u001b[1;33m=\u001b[0m \u001b[0mname\u001b[0m\u001b[1;33m\u001b[0m\u001b[0m\n",
      "\u001b[0;32mC:\\Users\\Andy\\Documents\\arcproject-wq-processing\\arcwq-virtuenv\\lib\\site-packages\\pandas\\io\\parsers.pyc\u001b[0m in \u001b[0;36m_read\u001b[0;34m(filepath_or_buffer, kwds)\u001b[0m\n\u001b[1;32m    313\u001b[0m \u001b[1;33m\u001b[0m\u001b[0m\n\u001b[1;32m    314\u001b[0m     \u001b[1;31m# Create the parser.\u001b[0m\u001b[1;33m\u001b[0m\u001b[1;33m\u001b[0m\u001b[0m\n\u001b[0;32m--> 315\u001b[0;31m     \u001b[0mparser\u001b[0m \u001b[1;33m=\u001b[0m \u001b[0mTextFileReader\u001b[0m\u001b[1;33m(\u001b[0m\u001b[0mfilepath_or_buffer\u001b[0m\u001b[1;33m,\u001b[0m \u001b[1;33m**\u001b[0m\u001b[0mkwds\u001b[0m\u001b[1;33m)\u001b[0m\u001b[1;33m\u001b[0m\u001b[0m\n\u001b[0m\u001b[1;32m    316\u001b[0m \u001b[1;33m\u001b[0m\u001b[0m\n\u001b[1;32m    317\u001b[0m     \u001b[1;32mif\u001b[0m \u001b[1;33m(\u001b[0m\u001b[0mnrows\u001b[0m \u001b[1;32mis\u001b[0m \u001b[1;32mnot\u001b[0m \u001b[0mNone\u001b[0m\u001b[1;33m)\u001b[0m \u001b[1;32mand\u001b[0m \u001b[1;33m(\u001b[0m\u001b[0mchunksize\u001b[0m \u001b[1;32mis\u001b[0m \u001b[1;32mnot\u001b[0m \u001b[0mNone\u001b[0m\u001b[1;33m)\u001b[0m\u001b[1;33m:\u001b[0m\u001b[1;33m\u001b[0m\u001b[0m\n",
      "\u001b[0;32mC:\\Users\\Andy\\Documents\\arcproject-wq-processing\\arcwq-virtuenv\\lib\\site-packages\\pandas\\io\\parsers.pyc\u001b[0m in \u001b[0;36m__init__\u001b[0;34m(self, f, engine, **kwds)\u001b[0m\n\u001b[1;32m    643\u001b[0m             \u001b[0mself\u001b[0m\u001b[1;33m.\u001b[0m\u001b[0moptions\u001b[0m\u001b[1;33m[\u001b[0m\u001b[1;34m'has_index_names'\u001b[0m\u001b[1;33m]\u001b[0m \u001b[1;33m=\u001b[0m \u001b[0mkwds\u001b[0m\u001b[1;33m[\u001b[0m\u001b[1;34m'has_index_names'\u001b[0m\u001b[1;33m]\u001b[0m\u001b[1;33m\u001b[0m\u001b[0m\n\u001b[1;32m    644\u001b[0m \u001b[1;33m\u001b[0m\u001b[0m\n\u001b[0;32m--> 645\u001b[0;31m         \u001b[0mself\u001b[0m\u001b[1;33m.\u001b[0m\u001b[0m_make_engine\u001b[0m\u001b[1;33m(\u001b[0m\u001b[0mself\u001b[0m\u001b[1;33m.\u001b[0m\u001b[0mengine\u001b[0m\u001b[1;33m)\u001b[0m\u001b[1;33m\u001b[0m\u001b[0m\n\u001b[0m\u001b[1;32m    646\u001b[0m \u001b[1;33m\u001b[0m\u001b[0m\n\u001b[1;32m    647\u001b[0m     \u001b[1;32mdef\u001b[0m \u001b[0mclose\u001b[0m\u001b[1;33m(\u001b[0m\u001b[0mself\u001b[0m\u001b[1;33m)\u001b[0m\u001b[1;33m:\u001b[0m\u001b[1;33m\u001b[0m\u001b[0m\n",
      "\u001b[0;32mC:\\Users\\Andy\\Documents\\arcproject-wq-processing\\arcwq-virtuenv\\lib\\site-packages\\pandas\\io\\parsers.pyc\u001b[0m in \u001b[0;36m_make_engine\u001b[0;34m(self, engine)\u001b[0m\n\u001b[1;32m    797\u001b[0m     \u001b[1;32mdef\u001b[0m \u001b[0m_make_engine\u001b[0m\u001b[1;33m(\u001b[0m\u001b[0mself\u001b[0m\u001b[1;33m,\u001b[0m \u001b[0mengine\u001b[0m\u001b[1;33m=\u001b[0m\u001b[1;34m'c'\u001b[0m\u001b[1;33m)\u001b[0m\u001b[1;33m:\u001b[0m\u001b[1;33m\u001b[0m\u001b[0m\n\u001b[1;32m    798\u001b[0m         \u001b[1;32mif\u001b[0m \u001b[0mengine\u001b[0m \u001b[1;33m==\u001b[0m \u001b[1;34m'c'\u001b[0m\u001b[1;33m:\u001b[0m\u001b[1;33m\u001b[0m\u001b[0m\n\u001b[0;32m--> 799\u001b[0;31m             \u001b[0mself\u001b[0m\u001b[1;33m.\u001b[0m\u001b[0m_engine\u001b[0m \u001b[1;33m=\u001b[0m \u001b[0mCParserWrapper\u001b[0m\u001b[1;33m(\u001b[0m\u001b[0mself\u001b[0m\u001b[1;33m.\u001b[0m\u001b[0mf\u001b[0m\u001b[1;33m,\u001b[0m \u001b[1;33m**\u001b[0m\u001b[0mself\u001b[0m\u001b[1;33m.\u001b[0m\u001b[0moptions\u001b[0m\u001b[1;33m)\u001b[0m\u001b[1;33m\u001b[0m\u001b[0m\n\u001b[0m\u001b[1;32m    800\u001b[0m         \u001b[1;32melse\u001b[0m\u001b[1;33m:\u001b[0m\u001b[1;33m\u001b[0m\u001b[0m\n\u001b[1;32m    801\u001b[0m             \u001b[1;32mif\u001b[0m \u001b[0mengine\u001b[0m \u001b[1;33m==\u001b[0m \u001b[1;34m'python'\u001b[0m\u001b[1;33m:\u001b[0m\u001b[1;33m\u001b[0m\u001b[0m\n",
      "\u001b[0;32mC:\\Users\\Andy\\Documents\\arcproject-wq-processing\\arcwq-virtuenv\\lib\\site-packages\\pandas\\io\\parsers.pyc\u001b[0m in \u001b[0;36m__init__\u001b[0;34m(self, src, **kwds)\u001b[0m\n\u001b[1;32m   1211\u001b[0m         \u001b[0mkwds\u001b[0m\u001b[1;33m[\u001b[0m\u001b[1;34m'allow_leading_cols'\u001b[0m\u001b[1;33m]\u001b[0m \u001b[1;33m=\u001b[0m \u001b[0mself\u001b[0m\u001b[1;33m.\u001b[0m\u001b[0mindex_col\u001b[0m \u001b[1;32mis\u001b[0m \u001b[1;32mnot\u001b[0m \u001b[0mFalse\u001b[0m\u001b[1;33m\u001b[0m\u001b[0m\n\u001b[1;32m   1212\u001b[0m \u001b[1;33m\u001b[0m\u001b[0m\n\u001b[0;32m-> 1213\u001b[0;31m         \u001b[0mself\u001b[0m\u001b[1;33m.\u001b[0m\u001b[0m_reader\u001b[0m \u001b[1;33m=\u001b[0m \u001b[0m_parser\u001b[0m\u001b[1;33m.\u001b[0m\u001b[0mTextReader\u001b[0m\u001b[1;33m(\u001b[0m\u001b[0msrc\u001b[0m\u001b[1;33m,\u001b[0m \u001b[1;33m**\u001b[0m\u001b[0mkwds\u001b[0m\u001b[1;33m)\u001b[0m\u001b[1;33m\u001b[0m\u001b[0m\n\u001b[0m\u001b[1;32m   1214\u001b[0m \u001b[1;33m\u001b[0m\u001b[0m\n\u001b[1;32m   1215\u001b[0m         \u001b[1;31m# XXX\u001b[0m\u001b[1;33m\u001b[0m\u001b[1;33m\u001b[0m\u001b[0m\n",
      "\u001b[0;32mpandas/parser.pyx\u001b[0m in \u001b[0;36mpandas.parser.TextReader.__cinit__ (pandas\\parser.c:3427)\u001b[0;34m()\u001b[0m\n",
      "\u001b[0;32mpandas/parser.pyx\u001b[0m in \u001b[0;36mpandas.parser.TextReader._setup_parser_source (pandas\\parser.c:6861)\u001b[0;34m()\u001b[0m\n",
      "\u001b[0;31mIOError\u001b[0m: File C:\\Users\\Andy\\Documents\\arcproject-wq-processing\\wq_gps_match\\examples\\Arc_040413_WQ\\Arc_040413_wqp_ca1.csv does not exist"
     ],
     "output_type": "error"
    }
   ],
   "source": [
    "# let's process that water quality at the stationary point\n",
    "station_water_quality = timestamp_match.wq_from_csv(station_wq_file)\n",
    "print(station_water_quality.head())"
   ]
  },
  {
   "cell_type": "code",
   "execution_count": null,
   "metadata": {
    "collapsed": false
   },
   "outputs": [],
   "source": [
    "# let's get the shapefile for the stationary points collected that day.\n",
    "\n",
    "station_shp_df = timestamp_match.shp2dataframe(station_shp)\n",
    "\n",
    "print(station_shp_df.head())"
   ]
  },
  {
   "cell_type": "code",
   "execution_count": null,
   "metadata": {
    "collapsed": false
   },
   "outputs": [],
   "source": [
    "# combine the GPS_date and GPS time fields to match a timestamp to use as join field\n",
    "timestamp_match.addCombinedDateTime(station_shp_df, \"GPS_Date\", \"GPS_Time\")\n",
    "print(station_shp_df.head())"
   ]
  },
  {
   "cell_type": "code",
   "execution_count": null,
   "metadata": {
    "collapsed": false
   },
   "outputs": [],
   "source": [
    "# for each row in the water quality dataframe join the station in if it's with xx minutes. \n",
    "station_gps_datetimes = station_shp_df[\"Date_Time\"].tolist()\n",
    "print(station_gps_datetimes)\n",
    "\n",
    "# for each row find the closest time stamp\n",
    "\n",
    "\n",
    "import datetime\n",
    "\n",
    "ex = station_water_quality[\"Date_Time\"][10]\n",
    "print(\"example: {}\".format(ex))\n",
    "\n",
    "\n",
    "\n",
    "row_time = ex\n",
    "print(\"Test: {}\".format(row_time))\n",
    "\n",
    "\n",
    "def my_minimum(iterable):\n",
    "    iterable = iter(iterable)\n",
    "    minimum = iterable.next()\n",
    "    for i in iterable:\n",
    "        if i < minimum:\n",
    "            minimum = i\n",
    "    return minimum\n",
    "\n",
    "print(my_minimum(station_gps_datetimes))\n",
    "\n",
    "\n",
    "def find_closest_time(row_time, list_of_potential_matches):\n",
    "    iterable = iter(list_of_potential_matches)\n",
    "    minimum = iterable.next()\n",
    "    for t = iterable\n",
    "\n",
    "    for sample_time in list_of_potential_matches:\n",
    "        diff = (row_time - sample_time)\n",
    "        \n",
    "        if diff < 1:\n",
    "            closest_time = sample_time\n",
    "            gap = diff\n",
    "        print(gap)\n",
    "            \n",
    "    # check if closest time is 1 hour        \n",
    "    if gap == datetime.timedelta(hours=1):\n",
    "        return \"No Match\"\n",
    "    else:\n",
    "        return closest_time\n",
    "\n",
    "print(find_closest_time(row_time, station_gps_datetimes))"
   ]
  }
 ],
 "metadata": {
  "kernelspec": {
   "display_name": "Python 2",
   "language": "python",
   "name": "python2"
  },
  "language_info": {
   "codemirror_mode": {
    "name": "ipython",
    "version": 2.0
   },
   "file_extension": ".py",
   "mimetype": "text/x-python",
   "name": "python",
   "nbconvert_exporter": "python",
   "pygments_lexer": "ipython2",
   "version": "2.7.8"
  }
 },
 "nbformat": 4,
 "nbformat_minor": 0
}