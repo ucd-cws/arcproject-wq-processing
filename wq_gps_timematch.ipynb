{
 "cells": [
  {
   "cell_type": "markdown",
   "metadata": {
    "collapsed": false
   },
   "source": [
    "# Water Quality CSV Transects joined by TIME/DATE "
   ]
  },
  {
   "cell_type": "code",
   "execution_count": 1,
   "metadata": {
    "collapsed": true
   },
   "outputs": [],
   "source": [
    "import os\n",
    "import pandas\n",
    "from wq_gps_match import timestamp_match"
   ]
  },
  {
   "cell_type": "code",
   "execution_count": 2,
   "metadata": {
    "collapsed": false
   },
   "outputs": [
    {
     "data": {
      "text/plain": [
       "datetime.datetime(2013, 4, 4, 8, 18, 47)"
      ]
     },
     "execution_count": 2,
     "metadata": {},
     "output_type": "execute_result"
    }
   ],
   "source": [
    "timestamp_match.TimestampFromDateTime([2013, 4, 4], '08:18:47am')"
   ]
  },
  {
   "cell_type": "code",
   "execution_count": 3,
   "metadata": {
    "collapsed": false
   },
   "outputs": [
    {
     "name": "stdout",
     "output_type": "stream",
     "text": [
      "C:\\Users\\Andy\\Documents\\arcproject-wq-processing\\wq_gps_match\\examples\\Arc_040413_GPS\\040413_PosnPnt.shp\n",
      "C:\\Users\\Andy\\Documents\\arcproject-wq-processing\\wq_gps_match\\examples\\Arc_040413_WQ\\Arc_040413_wqt_cc.csv\n"
     ]
    }
   ],
   "source": [
    "# set wd to Arcproject-wq-processing folder\n",
    "wd = os.path.abspath(os.path.join(os.path.dirname(os.path.dirname(\"__file__\"))))\n",
    "# example shp\n",
    "shp = os.path.join(wd, \"wq_gps_match\", \"examples\", \"Arc_040413_GPS\", \"040413_PosnPnt.shp\")\n",
    "# example water quality\n",
    "wq_file = os.path.join(wd, \"wq_gps_match\", \"examples\", \"Arc_040413_WQ\", \"Arc_040413_wqt_cc.csv\")\n",
    "\n",
    "print(shp)\n",
    "print(wq_file)"
   ]
  },
  {
   "cell_type": "markdown",
   "metadata": {},
   "source": [
    "Import CSV file from the MiniSonde as Pandas Dataframe"
   ]
  },
  {
   "cell_type": "code",
   "execution_count": 4,
   "metadata": {
    "collapsed": false
   },
   "outputs": [
    {
     "name": "stdout",
     "output_type": "stream",
     "text": [
      "            Date_Time   Temp    pH SpCond   Sal DEP25  PAR RPAR TurbSC   CHL  \\\n",
      "1 2013-04-04 13:01:03  17.40  7.84    520  0.26  0.39  573  417   13.4  5.34   \n",
      "2 2013-04-04 13:01:04  17.40  7.84    520  0.26  0.35  573  417   13.4  5.34   \n",
      "3 2013-04-04 13:01:05  17.40  7.88    520  0.26  0.35  576  419   13.5  5.29   \n",
      "4 2013-04-04 13:01:06  17.41  7.85    521  0.26  0.39  576  417   13.5  5.31   \n",
      "5 2013-04-04 13:01:07  17.41  7.85    521  0.26  0.39  576  417   13.5  5.31   \n",
      "\n",
      "     CHL.1  \n",
      "1  0.05078  \n",
      "2  0.05078  \n",
      "3  0.05095  \n",
      "4  0.05073  \n",
      "5  0.05073  \n"
     ]
    }
   ],
   "source": [
    "water_quality = timestamp_match.wq_from_csv(wq_file)\n",
    "print(water_quality.head())"
   ]
  },
  {
   "cell_type": "code",
   "execution_count": 5,
   "metadata": {
    "collapsed": false
   },
   "outputs": [
    {
     "name": "stdout",
     "output_type": "stream",
     "text": [
      "       GPS_Date    GPS_Time                               XY\n",
      "0  [2013, 4, 4]  08:18:47am  [-121.675981849, 38.2332247674]\n",
      "1  [2013, 4, 4]  08:18:48am  [-121.675986001, 38.2332196115]\n",
      "2  [2013, 4, 4]  08:18:49am   [-121.675990421, 38.233214315]\n",
      "3  [2013, 4, 4]  08:18:50am   [-121.675994058, 38.233209039]\n",
      "4  [2013, 4, 4]  08:18:51am  [-121.675997428, 38.2332039378]\n"
     ]
    }
   ],
   "source": [
    "shp_df = timestamp_match.shp2dataframe(shp)\n",
    "\n",
    "print(shp_df.head())"
   ]
  },
  {
   "cell_type": "code",
   "execution_count": 6,
   "metadata": {
    "collapsed": false
   },
   "outputs": [
    {
     "name": "stdout",
     "output_type": "stream",
     "text": [
      "       GPS_Date    GPS_Time                               XY  \\\n",
      "0  [2013, 4, 4]  08:18:47am  [-121.675981849, 38.2332247674]   \n",
      "1  [2013, 4, 4]  08:18:48am  [-121.675986001, 38.2332196115]   \n",
      "2  [2013, 4, 4]  08:18:49am   [-121.675990421, 38.233214315]   \n",
      "3  [2013, 4, 4]  08:18:50am   [-121.675994058, 38.233209039]   \n",
      "4  [2013, 4, 4]  08:18:51am  [-121.675997428, 38.2332039378]   \n",
      "\n",
      "            Date_Time  \n",
      "0 2013-04-04 08:18:47  \n",
      "1 2013-04-04 08:18:48  \n",
      "2 2013-04-04 08:18:49  \n",
      "3 2013-04-04 08:18:50  \n",
      "4 2013-04-04 08:18:51  \n"
     ]
    }
   ],
   "source": [
    "# combine the GPS_date and GPS time fields to match a timestamp to use as join field\n",
    "timestamp_match.addCombinedDateTime(shp_df, \"GPS_Date\", \"GPS_Time\")\n",
    "print(shp_df.head())"
   ]
  },
  {
   "cell_type": "code",
   "execution_count": 7,
   "metadata": {
    "collapsed": false
   },
   "outputs": [
    {
     "name": "stdout",
     "output_type": "stream",
     "text": [
      "Dimensions - origninal WQ:  (977, 11),  Matches: (934, 14)\n",
      "Number of rows different: 43\n",
      "Percent Match: 95.5987717503 %\n"
     ]
    }
   ],
   "source": [
    "merged = timestamp_match.JoinByTimeStamp(water_quality, shp_df)\n",
    "#print(merged)\n",
    "\n",
    "matches = merged[0]\n",
    "\n",
    "print('Dimensions - origninal WQ:  {},  Matches: {}'.format( water_quality.shape, matches.shape))\n",
    "\n",
    "print('Number of rows different: {}'.format(water_quality.shape[0] - matches.shape[0]))\n",
    "\n",
    "percent_match = timestamp_match.JoinMatchPercent(water_quality, matches)\n",
    "\n",
    "print('Percent Match: {} %'.format(percent_match))"
   ]
  },
  {
   "cell_type": "code",
   "execution_count": 8,
   "metadata": {
    "collapsed": false
   },
   "outputs": [
    {
     "name": "stdout",
     "output_type": "stream",
     "text": [
      "            Date_Time   Temp    pH SpCond   Sal DEP25  PAR RPAR TurbSC   CHL  \\\n",
      "2 2013-04-04 13:01:05  17.40  7.88    520  0.26  0.35  576  419   13.5  5.29   \n",
      "3 2013-04-04 13:01:06  17.41  7.85    521  0.26  0.39  576  417   13.5  5.31   \n",
      "4 2013-04-04 13:01:07  17.41  7.85    521  0.26  0.39  576  417   13.5  5.31   \n",
      "5 2013-04-04 13:01:08  17.40  7.84    521  0.26  0.37  576  415   13.4  5.28   \n",
      "6 2013-04-04 13:01:09  17.40  7.84    521  0.26  0.37  576  415   13.4  5.28   \n",
      "\n",
      "     CHL.1      GPS_Date    GPS_Time                               XY  \\\n",
      "2  0.05095  [2013, 4, 4]  01:01:05pm  [-121.799047195, 38.2594938899]   \n",
      "3  0.05073  [2013, 4, 4]  01:01:06pm  [-121.799022435, 38.2594940117]   \n",
      "4  0.05073  [2013, 4, 4]  01:01:07pm  [-121.798997863, 38.2594949788]   \n",
      "5  0.05064  [2013, 4, 4]  01:01:08pm  [-121.798972489, 38.2594960077]   \n",
      "6  0.05064  [2013, 4, 4]  01:01:09pm  [-121.798945956, 38.2594968398]   \n",
      "\n",
      "               WQ_SOURCE          GPS_SOURCE  \n",
      "2  Arc_040413_wqt_cc.csv  040413_PosnPnt.shp  \n",
      "3  Arc_040413_wqt_cc.csv  040413_PosnPnt.shp  \n",
      "4  Arc_040413_wqt_cc.csv  040413_PosnPnt.shp  \n",
      "5  Arc_040413_wqt_cc.csv  040413_PosnPnt.shp  \n",
      "6  Arc_040413_wqt_cc.csv  040413_PosnPnt.shp  \n"
     ]
    }
   ],
   "source": [
    "# add sources to the data frame\n",
    "timestamp_match.addsourcefield(matches, \"WQ_SOURCE\", wq_file)\n",
    "timestamp_match.addsourcefield(matches, \"GPS_SOURCE\", shp)\n",
    "print(matches.head())"
   ]
  },
  {
   "cell_type": "markdown",
   "metadata": {
    "collapsed": false
   },
   "source": [
    "# ZOOP CHL W points"
   ]
  },
  {
   "cell_type": "code",
   "execution_count": 9,
   "metadata": {
    "collapsed": false
   },
   "outputs": [
    {
     "name": "stdout",
     "output_type": "stream",
     "text": [
      "C:\\Users\\Andy\\Documents\\arcproject-wq-processing\\wq_gps_match\\examples\\Arc_040413_GPS\\040413_ZoopChlW.shp\n",
      "C:\\Users\\Andy\\Documents\\arcproject-wq-processing\\wq_gps_match\\examples\\Arc_040413_WQ\\Arc_040413_wqp_ca1.csv\n"
     ]
    }
   ],
   "source": [
    "# set wd to Arcproject-wq-processing folder\n",
    "wd = os.path.abspath(os.path.join(os.path.dirname(os.path.dirname(\"__file__\"))))\n",
    "# shapefile of the Chl sampling locations\n",
    "station_shp = os.path.join(wd, \"wq_gps_match\", \"examples\", \"Arc_040413_GPS\", \"040413_ZoopChlW.shp\")\n",
    "# water quality vertical profile for a Chl sampling point\n",
    "station_wq_file = os.path.join(wd, \"wq_gps_match\", \"examples\", \"Arc_040413_WQ\", \"Arc_040413_wqp_ca1.csv\")\n",
    "\n",
    "print(station_shp)\n",
    "print(station_wq_file)"
   ]
  },
  {
   "cell_type": "code",
   "execution_count": 10,
   "metadata": {
    "collapsed": false
   },
   "outputs": [
    {
     "name": "stdout",
     "output_type": "stream",
     "text": [
      "            Date_Time   Temp    pH SpCond   Sal   DO%    DO DEP25   PAR RPAR  \\\n",
      "1 2013-04-04 18:21:17  17.67  7.72    659  0.34  61.8  4.88  0.33  1138  410   \n",
      "2 2013-04-04 18:21:21  55.00  0.00      0  0.00   0.0  0.00  0.00     0    0   \n",
      "3 2013-04-04 18:21:25  55.00  0.00      0  0.00   0.0  0.00  0.00     0    0   \n",
      "4 2013-04-04 18:21:26  55.00  0.00      0  0.00   0.0  0.00  0.00     0    0   \n",
      "5 2013-04-04 18:21:27  55.00  0.00      0  0.00   0.0  0.00  0.00     0    0   \n",
      "\n",
      "  TurbSC   CHL    CHL.1  \n",
      "1   20.3  7.15  0.06940  \n",
      "2    0.0  0.00  0.00000  \n",
      "3    0.0  0.00  0.00000  \n",
      "4    0.0  0.00  0.00000  \n",
      "5    0.0  0.00  0.00000  \n"
     ]
    }
   ],
   "source": [
    "# let's process that water quality at the stationary point\n",
    "station_water_quality = timestamp_match.wq_from_csv(station_wq_file)\n",
    "print(station_water_quality.head())\n"
   ]
  },
  {
   "cell_type": "code",
   "execution_count": 11,
   "metadata": {
    "collapsed": false
   },
   "outputs": [
    {
     "name": "stdout",
     "output_type": "stream",
     "text": [
      "   Site          Date        Time  Sample_Num Zooplankto  Number_of_  \\\n",
      "0   bk1  [2013, 4, 4]  11:23:53am           0        Yes           0   \n",
      "1   cc1  [2013, 4, 4]  11:48:19am           0        Yes           0   \n",
      "2  lnca  [2013, 4, 4]  01:35:01pm           0        Yes           1   \n",
      "3   ca3  [2013, 4, 4]  01:48:55pm           0        Yes           0   \n",
      "4   hs1  [2013, 4, 4]  04:24:08pm           0        Yes           0   \n",
      "\n",
      "  Chlorophyl WaterQuali Flow_Meter Flow_Mete2      GPS_Date    GPS_Time  \\\n",
      "0        Yes        Yes    08027.0    08061.2  [2013, 4, 4]  11:23:42am   \n",
      "1        Yes        Yes    08062.5    08088.8  [2013, 4, 4]  11:48:08am   \n",
      "2        Yes        Yes     8088.8     8142.8  [2013, 4, 4]  01:34:51pm   \n",
      "3        Yes        Yes    08144.7    08219.1  [2013, 4, 4]  01:48:45pm   \n",
      "4        Yes        Yes    08217.9    08227.8  [2013, 4, 4]  04:23:58pm   \n",
      "\n",
      "                                XY  \n",
      "0   [-121.796676858, 38.275292895]  \n",
      "1   [-121.79951459, 38.2594570122]  \n",
      "2  [-121.689085231, 38.2442256942]  \n",
      "3  [-121.698867213, 38.2661682005]  \n",
      "4    [-121.74030705, 38.314880851]  \n"
     ]
    }
   ],
   "source": [
    "# let's get the shapefile for the stationary points collected that day.\n",
    "\n",
    "station_shp_df = timestamp_match.shp2dataframe(station_shp)\n",
    "\n",
    "print(station_shp_df.head())"
   ]
  },
  {
   "cell_type": "code",
   "execution_count": 12,
   "metadata": {
    "collapsed": false
   },
   "outputs": [
    {
     "name": "stdout",
     "output_type": "stream",
     "text": [
      "   Site          Date        Time  Sample_Num Zooplankto  Number_of_  \\\n",
      "0   bk1  [2013, 4, 4]  11:23:53am           0        Yes           0   \n",
      "1   cc1  [2013, 4, 4]  11:48:19am           0        Yes           0   \n",
      "2  lnca  [2013, 4, 4]  01:35:01pm           0        Yes           1   \n",
      "3   ca3  [2013, 4, 4]  01:48:55pm           0        Yes           0   \n",
      "4   hs1  [2013, 4, 4]  04:24:08pm           0        Yes           0   \n",
      "\n",
      "  Chlorophyl WaterQuali Flow_Meter Flow_Mete2      GPS_Date    GPS_Time  \\\n",
      "0        Yes        Yes    08027.0    08061.2  [2013, 4, 4]  11:23:42am   \n",
      "1        Yes        Yes    08062.5    08088.8  [2013, 4, 4]  11:48:08am   \n",
      "2        Yes        Yes     8088.8     8142.8  [2013, 4, 4]  01:34:51pm   \n",
      "3        Yes        Yes    08144.7    08219.1  [2013, 4, 4]  01:48:45pm   \n",
      "4        Yes        Yes    08217.9    08227.8  [2013, 4, 4]  04:23:58pm   \n",
      "\n",
      "                                XY           Date_Time  \n",
      "0   [-121.796676858, 38.275292895] 2013-04-04 11:23:42  \n",
      "1   [-121.79951459, 38.2594570122] 2013-04-04 11:48:08  \n",
      "2  [-121.689085231, 38.2442256942] 2013-04-04 13:34:51  \n",
      "3  [-121.698867213, 38.2661682005] 2013-04-04 13:48:45  \n",
      "4    [-121.74030705, 38.314880851] 2013-04-04 16:23:58  \n"
     ]
    }
   ],
   "source": [
    "# combine the GPS_date and GPS time fields to match a timestamp to use as join field\n",
    "timestamp_match.addCombinedDateTime(station_shp_df, \"GPS_Date\", \"GPS_Time\")\n",
    "print(station_shp_df.head())"
   ]
  }
 ],
 "metadata": {
  "kernelspec": {
   "display_name": "Python 2",
   "language": "python",
   "name": "python2"
  },
  "language_info": {
   "codemirror_mode": {
    "name": "ipython",
    "version": 2
   },
   "file_extension": ".py",
   "mimetype": "text/x-python",
   "name": "python",
   "nbconvert_exporter": "python",
   "pygments_lexer": "ipython2",
   "version": "2.7.8"
  }
 },
 "nbformat": 4,
 "nbformat_minor": 0
}
