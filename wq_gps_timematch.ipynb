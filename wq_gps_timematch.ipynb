{
 "cells": [
  {
   "cell_type": "markdown",
   "metadata": {
    "collapsed": false
   },
   "source": [
    "# Water Quality CSV Transects joined by TIME/DATE "
   ]
  },
  {
   "cell_type": "code",
   "execution_count": 1,
   "metadata": {
    "collapsed": false
   },
   "outputs": [],
   "source": [
    "import os\n",
    "import pandas\n",
    "from scripts import wqt_timestamp_match\n",
    "from datetime import datetime"
   ]
  },
  {
   "cell_type": "code",
   "execution_count": 2,
   "metadata": {
    "collapsed": false
   },
   "outputs": [
    {
     "name": "stdout",
     "output_type": "stream",
     "text": [
      "C:\\Users\\Andy\\Documents\\arcproject-wq-processing\\scripts\\tests\\testfiles\\Arc_040413\\Arc_040413_GPS\\040413_PosnPnt.shp\nC:\\Users\\Andy\\Documents\\arcproject-wq-processing\\scripts\\tests\\testfiles\\Arc_040413\\Arc_040413_WQ\\Arc_040413_wqt_cc.csv\n"
     ]
    }
   ],
   "source": [
    "# set wd to Arcproject-wq-processing folder\n",
    "wd = os.path.abspath(os.path.join(os.path.dirname(os.path.dirname(\"__file__\"))))\n",
    "# example shp\n",
    "shp = os.path.join(wd, \"scripts\", \"tests\", \"testfiles\", \"Arc_040413\\\\Arc_040413_GPS\\\\040413_PosnPnt.shp\")\n",
    "\n",
    "# example water quality\n",
    "wq_file = os.path.join(wd, \"scripts\", \"tests\", \"testfiles\", \"Arc_040413\\\\Arc_040413_WQ\\\\Arc_040413_wqt_cc.csv\")\n",
    "\n",
    "\n",
    "print(shp)\n",
    "print(wq_file)"
   ]
  },
  {
   "cell_type": "markdown",
   "metadata": {},
   "source": [
    "### Import CSV file from the Sonde as Pandas Dataframe"
   ]
  },
  {
   "cell_type": "code",
   "execution_count": 3,
   "metadata": {
    "collapsed": false,
    "scrolled": true
   },
   "outputs": [
    {
     "name": "stdout",
     "output_type": "stream",
     "text": [
      "            Date_Time   Temp    pH SpCond   Sal DEP25  PAR RPAR TurbSC   CHL  \\\n1 2013-04-04 13:01:03  17.40  7.84    520  0.26  0.39  573  417   13.4  5.34   \n2 2013-04-04 13:01:04  17.40  7.84    520  0.26  0.35  573  417   13.4  5.34   \n3 2013-04-04 13:01:05  17.40  7.88    520  0.26  0.35  576  419   13.5  5.29   \n4 2013-04-04 13:01:06  17.41  7.85    521  0.26  0.39  576  417   13.5  5.31   \n5 2013-04-04 13:01:07  17.41  7.85    521  0.26  0.39  576  417   13.5  5.31   \n\n  CHL_VOLTS              WQ_SOURCE  \n1   0.05078  Arc_040413_wqt_cc.csv  \n2   0.05078  Arc_040413_wqt_cc.csv  \n3   0.05095  Arc_040413_wqt_cc.csv  \n4   0.05073  Arc_040413_wqt_cc.csv  \n5   0.05073  Arc_040413_wqt_cc.csv  \n"
     ]
    }
   ],
   "source": [
    "water_quality = wqt_timestamp_match.wq_from_file(wq_file)\n",
    "print(water_quality.head())"
   ]
  },
  {
   "cell_type": "markdown",
   "metadata": {},
   "source": [
    "### Transect Shapefile "
   ]
  },
  {
   "cell_type": "code",
   "execution_count": 4,
   "metadata": {
    "collapsed": false
   },
   "outputs": [
    {
     "name": "stdout",
     "output_type": "stream",
     "text": [
      "         GPS_Date    GPS_Time     POINT_X    POINT_Y          GPS_SOURCE  \\\n0      2013-04-04  08:18:47am -121.675982  38.233225  040413_PosnPnt.shp   \n1      2013-04-04  08:18:48am -121.675986  38.233220  040413_PosnPnt.shp   \n2      2013-04-04  08:18:49am -121.675990  38.233214  040413_PosnPnt.shp   \n3      2013-04-04  08:18:50am -121.675994  38.233209  040413_PosnPnt.shp   \n4      2013-04-04  08:18:51am -121.675997  38.233204  040413_PosnPnt.shp   \n5      2013-04-04  08:18:52am -121.676001  38.233199  040413_PosnPnt.shp   \n6      2013-04-04  08:18:53am -121.676004  38.233193  040413_PosnPnt.shp   \n7      2013-04-04  08:18:54am -121.676006  38.233188  040413_PosnPnt.shp   \n8      2013-04-04  08:18:55am -121.676009  38.233183  040413_PosnPnt.shp   \n9      2013-04-04  08:18:56am -121.676011  38.233177  040413_PosnPnt.shp   \n10     2013-04-04  08:18:57am -121.676013  38.233172  040413_PosnPnt.shp   \n11     2013-04-04  08:18:58am -121.676015  38.233166  040413_PosnPnt.shp   \n12     2013-04-04  08:18:59am -121.676017  38.233160  040413_PosnPnt.shp   \n13     2013-04-04  08:19:00am -121.676018  38.233155  040413_PosnPnt.shp   \n14     2013-04-04  08:19:01am -121.676018  38.233150  040413_PosnPnt.shp   \n15     2013-04-04  08:19:02am -121.676018  38.233144  040413_PosnPnt.shp   \n16     2013-04-04  08:19:03am -121.676018  38.233139  040413_PosnPnt.shp   \n17     2013-04-04  08:19:04am -121.676018  38.233134  040413_PosnPnt.shp   \n18     2013-04-04  08:19:05am -121.676017  38.233130  040413_PosnPnt.shp   \n19     2013-04-04  08:19:06am -121.676017  38.233125  040413_PosnPnt.shp   \n20     2013-04-04  08:19:07am -121.676017  38.233119  040413_PosnPnt.shp   \n21     2013-04-04  08:19:08am -121.676017  38.233114  040413_PosnPnt.shp   \n22     2013-04-04  08:19:09am -121.676016  38.233109  040413_PosnPnt.shp   \n23     2013-04-04  08:19:10am -121.676016  38.233104  040413_PosnPnt.shp   \n24     2013-04-04  08:19:11am -121.676014  38.233099  040413_PosnPnt.shp   \n25     2013-04-04  08:19:12am -121.676012  38.233095  040413_PosnPnt.shp   \n26     2013-04-04  08:19:13am -121.676009  38.233092  040413_PosnPnt.shp   \n27     2013-04-04  08:19:14am -121.676006  38.233091  040413_PosnPnt.shp   \n28     2013-04-04  08:19:15am -121.676002  38.233090  040413_PosnPnt.shp   \n29     2013-04-04  08:19:16am -121.675998  38.233091  040413_PosnPnt.shp   \n...           ...         ...         ...        ...                 ...   \n15946  2013-04-04  05:49:38pm -121.759450  38.307124  040413_PosnPnt.shp   \n15947  2013-04-04  05:49:39pm -121.759458  38.307129  040413_PosnPnt.shp   \n15948  2013-04-04  05:49:40pm -121.759466  38.307140  040413_PosnPnt.shp   \n15949  2013-04-04  05:49:41pm -121.759467  38.307152  040413_PosnPnt.shp   \n15950  2013-04-04  05:49:42pm -121.759467  38.307158  040413_PosnPnt.shp   \n15951  2013-04-04  05:49:43pm -121.759469  38.307161  040413_PosnPnt.shp   \n15952  2013-04-04  05:49:44pm -121.759475  38.307168  040413_PosnPnt.shp   \n15953  2013-04-04  05:49:45pm -121.759473  38.307178  040413_PosnPnt.shp   \n15954  2013-04-04  05:49:46pm -121.759475  38.307186  040413_PosnPnt.shp   \n15955  2013-04-04  05:49:47pm -121.759479  38.307194  040413_PosnPnt.shp   \n15956  2013-04-04  05:49:48pm -121.759481  38.307201  040413_PosnPnt.shp   \n15957  2013-04-04  05:49:49pm -121.759484  38.307209  040413_PosnPnt.shp   \n15958  2013-04-04  05:49:50pm -121.759486  38.307216  040413_PosnPnt.shp   \n15959  2013-04-04  05:49:51pm -121.759488  38.307223  040413_PosnPnt.shp   \n15960  2013-04-04  05:49:52pm -121.759490  38.307230  040413_PosnPnt.shp   \n15961  2013-04-04  05:49:53pm -121.759492  38.307237  040413_PosnPnt.shp   \n15962  2013-04-04  05:49:54pm -121.759490  38.307243  040413_PosnPnt.shp   \n15963  2013-04-04  05:49:55pm -121.759492  38.307244  040413_PosnPnt.shp   \n15964  2013-04-04  05:49:56pm -121.759490  38.307254  040413_PosnPnt.shp   \n15965  2013-04-04  05:49:57pm -121.759489  38.307266  040413_PosnPnt.shp   \n15966  2013-04-04  05:49:58pm -121.759487  38.307274  040413_PosnPnt.shp   \n15967  2013-04-04  05:49:59pm -121.759488  38.307280  040413_PosnPnt.shp   \n15968  2013-04-04  05:50:00pm -121.759491  38.307291  040413_PosnPnt.shp   \n15969  2013-04-04  05:50:01pm -121.759491  38.307297  040413_PosnPnt.shp   \n15970  2013-04-04  05:50:02pm -121.759489  38.307303  040413_PosnPnt.shp   \n15971  2013-04-04  05:50:03pm -121.759493  38.307307  040413_PosnPnt.shp   \n15972  2013-04-04  05:50:04pm -121.759489  38.307313  040413_PosnPnt.shp   \n15973  2013-04-04  05:50:05pm -121.759487  38.307317  040413_PosnPnt.shp   \n15974  2013-04-04  05:56:39pm -121.760051  38.307271  040413_PosnPnt.shp   \n15975  2013-04-04  06:18:08pm -133.267691  19.500014  040413_PosnPnt.shp   \n\n                Date_Time  \n0     2013-04-04 08:18:47  \n1     2013-04-04 08:18:48  \n2     2013-04-04 08:18:49  \n3     2013-04-04 08:18:50  \n4     2013-04-04 08:18:51  \n5     2013-04-04 08:18:52  \n6     2013-04-04 08:18:53  \n7     2013-04-04 08:18:54  \n8     2013-04-04 08:18:55  \n9     2013-04-04 08:18:56  \n10    2013-04-04 08:18:57  \n11    2013-04-04 08:18:58  \n12    2013-04-04 08:18:59  \n13    2013-04-04 08:19:00  \n14    2013-04-04 08:19:01  \n15    2013-04-04 08:19:02  \n16    2013-04-04 08:19:03  \n17    2013-04-04 08:19:04  \n18    2013-04-04 08:19:05  \n19    2013-04-04 08:19:06  \n20    2013-04-04 08:19:07  \n21    2013-04-04 08:19:08  \n22    2013-04-04 08:19:09  \n23    2013-04-04 08:19:10  \n24    2013-04-04 08:19:11  \n25    2013-04-04 08:19:12  \n26    2013-04-04 08:19:13  \n27    2013-04-04 08:19:14  \n28    2013-04-04 08:19:15  \n29    2013-04-04 08:19:16  \n...                   ...  \n15946 2013-04-04 17:49:38  \n15947 2013-04-04 17:49:39  \n15948 2013-04-04 17:49:40  \n15949 2013-04-04 17:49:41  \n15950 2013-04-04 17:49:42  \n15951 2013-04-04 17:49:43  \n15952 2013-04-04 17:49:44  \n15953 2013-04-04 17:49:45  \n15954 2013-04-04 17:49:46  \n15955 2013-04-04 17:49:47  \n15956 2013-04-04 17:49:48  \n15957 2013-04-04 17:49:49  \n15958 2013-04-04 17:49:50  \n15959 2013-04-04 17:49:51  \n15960 2013-04-04 17:49:52  \n15961 2013-04-04 17:49:53  \n15962 2013-04-04 17:49:54  \n15963 2013-04-04 17:49:55  \n15964 2013-04-04 17:49:56  \n15965 2013-04-04 17:49:57  \n15966 2013-04-04 17:49:58  \n15967 2013-04-04 17:49:59  \n15968 2013-04-04 17:50:00  \n15969 2013-04-04 17:50:01  \n15970 2013-04-04 17:50:02  \n15971 2013-04-04 17:50:03  \n15972 2013-04-04 17:50:04  \n15973 2013-04-04 17:50:05  \n15974 2013-04-04 17:56:39  \n15975 2013-04-04 18:18:08  \n\n[15976 rows x 6 columns]\n"
     ]
    }
   ],
   "source": [
    "shp_df = wqt_timestamp_match.wqtshp2pd(shp)\n",
    "\n",
    "print(shp_df)"
   ]
  },
  {
   "cell_type": "markdown",
   "metadata": {},
   "source": [
    "### Join the transect geodataframe with the water quality dataframe"
   ]
  },
  {
   "cell_type": "code",
   "execution_count": 1,
   "metadata": {
    "collapsed": false
   },
   "outputs": [
    {
     "ename": "NameError",
     "evalue": "name 'wqt_timestamp_match' is not defined",
     "traceback": [
      "\u001b[0;31m\u001b[0m",
      "\u001b[0;31mNameError\u001b[0mTraceback (most recent call last)",
      "\u001b[0;32m<ipython-input-1-e94b1fbcb52a>\u001b[0m in \u001b[0;36m<module>\u001b[0;34m()\u001b[0m\n\u001b[0;32m----> 1\u001b[0;31m \u001b[0mmerged\u001b[0m \u001b[1;33m=\u001b[0m \u001b[0mwqt_timestamp_match\u001b[0m\u001b[1;33m.\u001b[0m\u001b[0mJoinByTimeStamp\u001b[0m\u001b[1;33m(\u001b[0m\u001b[0mwater_quality\u001b[0m\u001b[1;33m,\u001b[0m \u001b[0mshp_df\u001b[0m\u001b[1;33m)\u001b[0m\u001b[1;33m\u001b[0m\u001b[0m\n\u001b[0m\u001b[1;32m      2\u001b[0m \u001b[1;32mprint\u001b[0m\u001b[1;33m(\u001b[0m\u001b[0mmerged\u001b[0m\u001b[1;33m.\u001b[0m\u001b[0mhead\u001b[0m\u001b[1;33m(\u001b[0m\u001b[1;33m)\u001b[0m\u001b[1;33m)\u001b[0m\u001b[1;33m\u001b[0m\u001b[0m\n\u001b[1;32m      3\u001b[0m \u001b[1;33m\u001b[0m\u001b[0m\n\u001b[1;32m      4\u001b[0m \u001b[1;32mprint\u001b[0m\u001b[1;33m(\u001b[0m\u001b[0mshp_df\u001b[0m\u001b[1;33m.\u001b[0m\u001b[0mshape\u001b[0m\u001b[1;33m)\u001b[0m\u001b[1;33m\u001b[0m\u001b[0m\n\u001b[1;32m      5\u001b[0m \u001b[1;32mprint\u001b[0m\u001b[1;33m(\u001b[0m\u001b[0mwater_quality\u001b[0m\u001b[1;33m.\u001b[0m\u001b[0mshape\u001b[0m\u001b[1;33m)\u001b[0m\u001b[1;33m\u001b[0m\u001b[0m\n",
      "\u001b[0;31mNameError\u001b[0m: name 'wqt_timestamp_match' is not defined"
     ],
     "output_type": "error"
    }
   ],
   "source": [
    "merged = wqt_timestamp_match.JoinByTimeStamp(water_quality, shp_df)\n",
    "print(merged.head())\n",
    "\n",
    "print(shp_df.shape)\n",
    "print(water_quality.shape)\n",
    "print(merged.shape)\n",
    "\n",
    "\n",
    "#match = wqt_timestamp_match.splitunmatched(merged)\n",
    "joined_data = merged\n",
    "match = joined_data.dropna(axis='index')\n",
    "no_geo = joined_data[joined_data[\"GPS_SOURCE\"].isnull()]\n",
    "no_wq = joined_data[joined_data[\"WQ_SOURCE\"].isnull()]\n",
    "\n",
    "print(match.shape)\n",
    "print(no_geo.shape)\n",
    "print(no_wq.shape)"
   ]
  },
  {
   "cell_type": "code",
   "execution_count": 23,
   "metadata": {
    "collapsed": false
   },
   "outputs": [
    {
     "name": "stdout",
     "output_type": "stream",
     "text": [
      "['GPS_Date', 'GPS_Time', 'POINT_X', 'POINT_Y', 'GPS_SOURCE', 'Date_Time', 'Temp', 'pH', 'SpCond', 'Sal', 'DEP25', 'PAR', 'RPAR', 'TurbSC', 'CHL', 'CHL_VOLTS', 'WQ_SOURCE']\n"
     ]
    }
   ],
   "source": [
    "match.head()\n",
    "\n",
    "# save to csv format?\n",
    "csv = match.to_csv()\n",
    "\n",
    "# save to numpy format? and then convert to feature class in arcpy \n",
    "# see https://my.usgs.gov/confluence/display/cdi/pandas.DataFrame+to+ArcGIS+Table\n",
    "\n",
    "import numpy as np\n",
    "\n",
    "x = np.array(np.rec.fromrecords(match.values))\n",
    "names = match.dtypes.index.tolist()\n",
    "x.dtype.names = tuple(names)\n",
    "\n",
    "print(names)"
   ]
  },
  {
   "cell_type": "code",
   "execution_count": 25,
   "metadata": {},
   "outputs": [
    {
     "ename": "RuntimeError",
     "evalue": "create table",
     "traceback": [
      "\u001b[0;31m\u001b[0m",
      "\u001b[0;31mRuntimeError\u001b[0mTraceback (most recent call last)",
      "\u001b[0;32m<ipython-input-25-cb2ef6323190>\u001b[0m in \u001b[0;36m<module>\u001b[0;34m()\u001b[0m\n\u001b[1;32m      1\u001b[0m \u001b[1;32mimport\u001b[0m \u001b[0marcpy\u001b[0m\u001b[1;33m\u001b[0m\u001b[0m\n\u001b[1;32m      2\u001b[0m \u001b[1;33m\u001b[0m\u001b[0m\n\u001b[0;32m----> 3\u001b[0;31m \u001b[0marcpy\u001b[0m\u001b[1;33m.\u001b[0m\u001b[0mda\u001b[0m\u001b[1;33m.\u001b[0m\u001b[0mNumPyArrayToFeatureClass\u001b[0m\u001b[1;33m(\u001b[0m\u001b[0mx\u001b[0m\u001b[1;33m,\u001b[0m \u001b[1;34m\"test\"\u001b[0m\u001b[1;33m,\u001b[0m \u001b[1;33m(\u001b[0m\u001b[1;34m\"POINT_X\"\u001b[0m\u001b[1;33m,\u001b[0m \u001b[1;34m\"POINT_Y\"\u001b[0m\u001b[1;33m)\u001b[0m\u001b[1;33m)\u001b[0m\u001b[1;33m\u001b[0m\u001b[0m\n\u001b[0m",
      "\u001b[0;31mRuntimeError\u001b[0m: create table"
     ],
     "output_type": "error"
    }
   ],
   "source": [
    "import arcpy\n",
    "\n",
    "arcpy.da.NumPyArrayToFeatureClass(x, \"test\", (\"POINT_X\", \"POINT_Y\"))"
   ]
  }
 ],
 "metadata": {
  "kernelspec": {
   "display_name": "Python 2",
   "language": "python",
   "name": "python2"
  },
  "language_info": {
   "codemirror_mode": {
    "name": "ipython",
    "version": 2.0
   },
   "file_extension": ".py",
   "mimetype": "text/x-python",
   "name": "python",
   "nbconvert_exporter": "python",
   "pygments_lexer": "ipython2",
   "version": "2.7.10"
  }
 },
 "nbformat": 4,
 "nbformat_minor": 0
}