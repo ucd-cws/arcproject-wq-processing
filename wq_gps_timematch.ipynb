{
 "cells": [
  {
   "cell_type": "markdown",
   "metadata": {
    "collapsed": false
   },
   "source": [
    "# Water Quality CSV Transects joined by TIME/DATE "
   ]
  },
  {
   "cell_type": "code",
   "execution_count": 1,
   "metadata": {
    "collapsed": false
   },
   "outputs": [],
   "source": [
    "import os\n",
    "import pandas\n",
    "from scripts import wqt_timestamp_match\n",
    "from datetime import datetime"
   ]
  },
  {
   "cell_type": "code",
   "execution_count": 2,
   "metadata": {
    "collapsed": false
   },
   "outputs": [
    {
     "name": "stdout",
     "output_type": "stream",
     "text": [
      "C:\\Users\\Andy\\Documents\\arcproject-wq-processing\\scripts\\testfiles\\Arc_040413\\Arc_040413_GPS\\040413_PosnPnt.shp\n",
      "C:\\Users\\Andy\\Documents\\arcproject-wq-processing\\scripts\\testfiles\\Arc_040413\\Arc_040413_WQ\\Arc_040413_wqt_cc.csv\n"
     ]
    }
   ],
   "source": [
    "# set wd to Arcproject-wq-processing folder\n",
    "wd = os.path.abspath(os.path.join(os.path.dirname(os.path.dirname(\"__file__\"))))\n",
    "# example shp\n",
    "shp = os.path.join(wd, \"scripts\", \"testfiles\", \"Arc_040413\\\\Arc_040413_GPS\\\\040413_PosnPnt.shp\")\n",
    "\n",
    "# example water quality\n",
    "wq_file = os.path.join(wd, \"scripts\", \"testfiles\", \"Arc_040413\\\\Arc_040413_WQ\\\\Arc_040413_wqt_cc.csv\")\n",
    "\n",
    "\n",
    "print(shp)\n",
    "print(wq_file)"
   ]
  },
  {
   "cell_type": "markdown",
   "metadata": {},
   "source": [
    "### Import CSV file from the Sonde as Pandas Dataframe"
   ]
  },
  {
   "cell_type": "code",
   "execution_count": 3,
   "metadata": {
    "collapsed": false
   },
   "outputs": [
    {
     "name": "stdout",
     "output_type": "stream",
     "text": [
      "            Date_Time   Temp    pH SpCond   Sal DEP25  PAR RPAR TurbSC   CHL  \\\n",
      "1 2013-04-04 13:01:03  17.40  7.84    520  0.26  0.39  573  417   13.4  5.34   \n",
      "2 2013-04-04 13:01:04  17.40  7.84    520  0.26  0.35  573  417   13.4  5.34   \n",
      "3 2013-04-04 13:01:05  17.40  7.88    520  0.26  0.35  576  419   13.5  5.29   \n",
      "4 2013-04-04 13:01:06  17.41  7.85    521  0.26  0.39  576  417   13.5  5.31   \n",
      "5 2013-04-04 13:01:07  17.41  7.85    521  0.26  0.39  576  417   13.5  5.31   \n",
      "\n",
      "     CHL.1              WQ_SOURCE  \n",
      "1  0.05078  Arc_040413_wqt_cc.csv  \n",
      "2  0.05078  Arc_040413_wqt_cc.csv  \n",
      "3  0.05095  Arc_040413_wqt_cc.csv  \n",
      "4  0.05073  Arc_040413_wqt_cc.csv  \n",
      "5  0.05073  Arc_040413_wqt_cc.csv  \n"
     ]
    }
   ],
   "source": [
    "water_quality = wqt_timestamp_match.wq_from_csv(wq_file)\n",
    "print(water_quality.head())"
   ]
  },
  {
   "cell_type": "markdown",
   "metadata": {},
   "source": [
    "### Transect Shapefile "
   ]
  },
  {
   "cell_type": "code",
   "execution_count": 4,
   "metadata": {
    "collapsed": false
   },
   "outputs": [
    {
     "name": "stdout",
     "output_type": "stream",
     "text": [
      "     GPS_Date    GPS_Time                                      geometry  \\\n",
      "0  2013-04-04  08:18:47am   POINT (-121.6759818490551 38.2332247673879)   \n",
      "1  2013-04-04  08:18:48am  POINT (-121.6759860012121 38.23321961147579)   \n",
      "2  2013-04-04  08:18:49am  POINT (-121.6759904209636 38.23321431496129)   \n",
      "3  2013-04-04  08:18:50am  POINT (-121.6759940577057 38.23320903904457)   \n",
      "4  2013-04-04  08:18:51am  POINT (-121.6759974280661 38.23320393778903)   \n",
      "\n",
      "           GPS_SOURCE           Date_Time  \n",
      "0  040413_PosnPnt.shp 2013-04-04 08:18:47  \n",
      "1  040413_PosnPnt.shp 2013-04-04 08:18:48  \n",
      "2  040413_PosnPnt.shp 2013-04-04 08:18:49  \n",
      "3  040413_PosnPnt.shp 2013-04-04 08:18:50  \n",
      "4  040413_PosnPnt.shp 2013-04-04 08:18:51  \n"
     ]
    }
   ],
   "source": [
    "shp_df = wqt_timestamp_match.shp2gpd(shp)\n",
    "\n",
    "print(shp_df.head())"
   ]
  },
  {
   "cell_type": "code",
   "execution_count": 5,
   "metadata": {
    "collapsed": false
   },
   "outputs": [
    {
     "name": "stdout",
     "output_type": "stream",
     "text": [
      "('2013-04-04', u'08:18:47am')\n",
      "2013-04-04t08:18:47am\n",
      "2013-04-04 08:18:47\n"
     ]
    }
   ],
   "source": [
    "# combine the GPS_Date and GPS_Time fields with the geopandas dataframe in order to create a field to join on \n",
    "date = shp_df['GPS_Date'][0]\n",
    "time = shp_df['GPS_Time'][0]\n",
    "\n",
    "print(date, time)\n",
    "\n",
    "dt = date + 't' + time\n",
    "print(dt)\n",
    "\n",
    "date_object = datetime.strptime(dt, '%Y-%m-%dt%I:%M:%S%p')\n",
    "print(date_object)"
   ]
  },
  {
   "cell_type": "markdown",
   "metadata": {},
   "source": [
    "### Join the transect geodataframe with the water quality dataframe"
   ]
  },
  {
   "cell_type": "code",
   "execution_count": 10,
   "metadata": {
    "collapsed": false
   },
   "outputs": [
    {
     "name": "stdout",
     "output_type": "stream",
     "text": [
      "     GPS_Date    GPS_Time                                      geometry  \\\n",
      "0  2013-04-04  08:18:47am   POINT (-121.6759818490551 38.2332247673879)   \n",
      "1  2013-04-04  08:18:48am  POINT (-121.6759860012121 38.23321961147579)   \n",
      "2  2013-04-04  08:18:49am  POINT (-121.6759904209636 38.23321431496129)   \n",
      "3  2013-04-04  08:18:50am  POINT (-121.6759940577057 38.23320903904457)   \n",
      "4  2013-04-04  08:18:51am  POINT (-121.6759974280661 38.23320393778903)   \n",
      "\n",
      "           GPS_SOURCE           Date_Time Temp   pH SpCond  Sal DEP25  PAR  \\\n",
      "0  040413_PosnPnt.shp 2013-04-04 08:18:47  NaN  NaN    NaN  NaN   NaN  NaN   \n",
      "1  040413_PosnPnt.shp 2013-04-04 08:18:48  NaN  NaN    NaN  NaN   NaN  NaN   \n",
      "2  040413_PosnPnt.shp 2013-04-04 08:18:49  NaN  NaN    NaN  NaN   NaN  NaN   \n",
      "3  040413_PosnPnt.shp 2013-04-04 08:18:50  NaN  NaN    NaN  NaN   NaN  NaN   \n",
      "4  040413_PosnPnt.shp 2013-04-04 08:18:51  NaN  NaN    NaN  NaN   NaN  NaN   \n",
      "\n",
      "  RPAR TurbSC  CHL CHL.1 WQ_SOURCE  \n",
      "0  NaN    NaN  NaN   NaN       NaN  \n",
      "1  NaN    NaN  NaN   NaN       NaN  \n",
      "2  NaN    NaN  NaN   NaN       NaN  \n",
      "3  NaN    NaN  NaN   NaN       NaN  \n",
      "4  NaN    NaN  NaN   NaN       NaN  \n",
      "(15976, 5)\n",
      "(977, 12)\n",
      "(16019, 16)\n",
      "(934, 16)\n",
      "(43, 16)\n",
      "(15042, 16)\n"
     ]
    }
   ],
   "source": [
    "merged = wqt_timestamp_match.JoinByTimeStamp(water_quality, shp_df)\n",
    "print(merged.head())\n",
    "\n",
    "print(shp_df.shape)\n",
    "print(water_quality.shape)\n",
    "print(merged.shape)\n",
    "\n",
    "\n",
    "#match = wqt_timestamp_match.splitunmatched(merged)\n",
    "joined_data = merged\n",
    "match = joined_data.dropna(axis='index')\n",
    "no_geo = joined_data[joined_data[\"GPS_SOURCE\"].isnull()]\n",
    "no_wq = joined_data[joined_data[\"WQ_SOURCE\"].isnull()]\n",
    "\n",
    "print(match.shape)\n",
    "print(no_geo.shape)\n",
    "print(no_wq.shape)\n",
    "\n",
    "#print('Dimensions - origninal WQ:  {},  Matches: {}'.format( water_quality.shape, matches.shape))\n",
    "\n",
    "#print('Number of rows different: {}'.format(water_quality.shape[0] - matches.shape[0]))\n",
    "\n",
    "#percent_match = timestamp_match.JoinMatchPercent(water_quality, matches)\n",
    "\n",
    "#print('Percent Match: {} %'.format(percent_match))"
   ]
  },
  {
   "cell_type": "code",
   "execution_count": 7,
   "metadata": {
    "collapsed": false
   },
   "outputs": [
    {
     "name": "stdout",
     "output_type": "stream",
     "text": [
      "Time offset: -1 hour\n"
     ]
    },
    {
     "ename": "NameError",
     "evalue": "name 'timestamp_match' is not defined",
     "output_type": "error",
     "traceback": [
      "\u001b[0;31m\u001b[0m",
      "\u001b[0;31mNameError\u001b[0mTraceback (most recent call last)",
      "\u001b[0;32m<ipython-input-7-e5772d7aac1d>\u001b[0m in \u001b[0;36m<module>\u001b[0;34m()\u001b[0m\n\u001b[1;32m     27\u001b[0m \u001b[1;33m\u001b[0m\u001b[0m\n\u001b[1;32m     28\u001b[0m     \u001b[1;31m# try joining by timestamp\u001b[0m\u001b[1;33m\u001b[0m\u001b[1;33m\u001b[0m\u001b[0m\n\u001b[0;32m---> 29\u001b[0;31m     \u001b[0mmatches\u001b[0m \u001b[1;33m=\u001b[0m \u001b[0mtimestamp_match\u001b[0m\u001b[1;33m.\u001b[0m\u001b[0mJoinByTimeStamp\u001b[0m\u001b[1;33m(\u001b[0m\u001b[0moff\u001b[0m\u001b[1;33m,\u001b[0m \u001b[0mshp_df\u001b[0m\u001b[1;33m)\u001b[0m\u001b[1;33m[\u001b[0m\u001b[1;36m0\u001b[0m\u001b[1;33m]\u001b[0m\u001b[1;33m\u001b[0m\u001b[0m\n\u001b[0m\u001b[1;32m     30\u001b[0m \u001b[1;33m\u001b[0m\u001b[0m\n\u001b[1;32m     31\u001b[0m     \u001b[1;31m# report the percentage matched\u001b[0m\u001b[1;33m\u001b[0m\u001b[1;33m\u001b[0m\u001b[0m\n",
      "\u001b[0;31mNameError\u001b[0m: name 'timestamp_match' is not defined"
     ]
    }
   ],
   "source": [
    "# adjust date time by an hour to account for uncorrected daylight savings time\n",
    "\n",
    "from datetime import timedelta\n",
    "\n",
    "\n",
    "def dstadjustment(df, offset_hours):\n",
    "    df2 = df.copy() # make a copy of data so original is not overwritten\n",
    "    dstshift = lambda x: x + timedelta(hours=offset_hours)\n",
    "    df2['Date_Time'] = df2['Date_Time'].map(dstshift)\n",
    "    return df2\n",
    "\n",
    "\n",
    "\n",
    "#orignal = timestamp_match.JoinByTimeStamp(water_quality, shp_df)\n",
    "#percent_match = timestamp_match.JoinMatchPercent(water_quality, matches)\n",
    "\n",
    "\n",
    "#plus1 = dstadjustment(water_quality, 1)\n",
    "\n",
    "offsets= {}\n",
    "\n",
    "for i in [-1,-0.5, 0, 0.5,1]:\n",
    "    print(\"Time offset: {} hour\".format(i))\n",
    "    \n",
    "    # offset water quality\n",
    "    off = dstadjustment(water_quality, i)\n",
    "    \n",
    "    # try joining by timestamp\n",
    "    matches = timestamp_match.JoinByTimeStamp(off, shp_df)[0]\n",
    "    \n",
    "    # report the percentage matched\n",
    "    percent_match = timestamp_match.JoinMatchPercent(water_quality, matches)\n",
    "    print(\"{} %\".format(percent_match))\n",
    "    \n",
    "    # add to dict\n",
    "    offsets[i]=percent_match\n",
    "\n",
    "print(offsets)\n",
    "highest_percent_offset = max(offsets, key=offsets.get)\n",
    "print(highest_percent_offset)\n",
    "\n",
    "\n",
    "offset_df = timestamp_match.dstadjustment(water_quality, highest_percent_offset)\n",
    "offset_df.head()\n",
    "\n",
    "# join using time stamps w/ exact matchjoined_data = timestamp_match.JoinByTimeStamp(offset_df, pts)"
   ]
  },
  {
   "cell_type": "markdown",
   "metadata": {},
   "source": [
    "## transect_join_timestamp - batch function to combine transect water quality with GPS"
   ]
  },
  {
   "cell_type": "code",
   "execution_count": null,
   "metadata": {
    "collapsed": false
   },
   "outputs": [],
   "source": [
    "joined_data = timestamp_match.transect_join_timestamp(wq_file, shp)\n",
    "print(joined_data)"
   ]
  },
  {
   "cell_type": "code",
   "execution_count": null,
   "metadata": {
    "collapsed": false
   },
   "outputs": [],
   "source": [
    "# save to shapefile\n",
    "\n",
    "timestamp_match.main(wq_file, shp, \"Example.shp\")"
   ]
  },
  {
   "cell_type": "markdown",
   "metadata": {
    "collapsed": false
   },
   "source": [
    "# ZOOP CHL W points"
   ]
  },
  {
   "cell_type": "code",
   "execution_count": null,
   "metadata": {
    "collapsed": false
   },
   "outputs": [],
   "source": [
    "# set wd to Arcproject-wq-processing folder\n",
    "wd = os.path.abspath(os.path.join(os.path.dirname(os.path.dirname(\"__file__\"))))\n",
    "# shapefile of the Chl sampling locations\n",
    "station_shp = os.path.join(wd, \"wq_gps_match\", \"examples\", \"Arc_040413_GPS\", \"040413_ZoopChlW.shp\")\n",
    "# water quality vertical profile for a Chl sampling point\n",
    "station_wq_file = os.path.join(wd, \"wq_gps_match\", \"examples\", \"Arc_040413_WQ\", \"Arc_040413_wqp_ca1.csv\")\n",
    "\n",
    "print(station_shp)\n",
    "print(station_wq_file)"
   ]
  },
  {
   "cell_type": "code",
   "execution_count": null,
   "metadata": {
    "collapsed": false
   },
   "outputs": [],
   "source": [
    "# let's process that water quality at the stationary point\n",
    "station_water_quality = timestamp_match.wq_from_csv(station_wq_file)\n",
    "print(station_water_quality.head())"
   ]
  },
  {
   "cell_type": "code",
   "execution_count": null,
   "metadata": {
    "collapsed": false
   },
   "outputs": [],
   "source": [
    "# let's get the shapefile for the stationary points collected that day.\n",
    "\n",
    "station_shp_df = timestamp_match.shp2dataframe(station_shp)\n",
    "\n",
    "print(station_shp_df.head())"
   ]
  },
  {
   "cell_type": "code",
   "execution_count": null,
   "metadata": {
    "collapsed": false
   },
   "outputs": [],
   "source": [
    "# combine the GPS_date and GPS time fields to match a timestamp to use as join field\n",
    "timestamp_match.addCombinedDateTime(station_shp_df, \"GPS_Date\", \"GPS_Time\")\n",
    "print(station_shp_df.head())"
   ]
  },
  {
   "cell_type": "code",
   "execution_count": null,
   "metadata": {
    "collapsed": false
   },
   "outputs": [],
   "source": [
    "# for each row in the water quality dataframe join the station in if it's with xx minutes. \n",
    "station_gps_datetimes = station_shp_df[\"Date_Time\"].tolist()\n",
    "print(station_gps_datetimes)\n",
    "\n",
    "# for each row find the closest time stamp\n",
    "\n",
    "\n",
    "import datetime\n",
    "\n",
    "ex = station_water_quality[\"Date_Time\"][10]\n",
    "print(\"example: {}\".format(ex))\n",
    "\n",
    "\n",
    "\n",
    "row_time = ex\n",
    "print(\"Test: {}\".format(row_time))\n",
    "\n",
    "\n",
    "def my_minimum(iterable):\n",
    "    iterable = iter(iterable)\n",
    "    minimum = iterable.next()\n",
    "    for i in iterable:\n",
    "        if i < minimum:\n",
    "            minimum = i\n",
    "    return minimum\n",
    "\n",
    "print(my_minimum(station_gps_datetimes))\n",
    "\n",
    "\n",
    "def find_closest_time(row_time, list_of_potential_matches):\n",
    "    iterable = iter(list_of_potential_matches)\n",
    "    minimum = iterable.next()\n",
    "    for t = iterable\n",
    "\n",
    "    for sample_time in list_of_potential_matches:\n",
    "        diff = (row_time - sample_time)\n",
    "        \n",
    "        if diff < 1:\n",
    "            closest_time = sample_time\n",
    "            gap = diff\n",
    "        print(gap)\n",
    "            \n",
    "    # check if closest time is 1 hour        \n",
    "    if gap == datetime.timedelta(hours=1):\n",
    "        return \"No Match\"\n",
    "    else:\n",
    "        return closest_time\n",
    "\n",
    "print(find_closest_time(row_time, station_gps_datetimes))"
   ]
  }
 ],
 "metadata": {
  "kernelspec": {
   "display_name": "Python 2",
   "language": "python",
   "name": "python2"
  },
  "language_info": {
   "codemirror_mode": {
    "name": "ipython",
    "version": 2
   },
   "file_extension": ".py",
   "mimetype": "text/x-python",
   "name": "python",
   "nbconvert_exporter": "python",
   "pygments_lexer": "ipython2",
   "version": "2.7.10"
  }
 },
 "nbformat": 4,
 "nbformat_minor": 0
}
