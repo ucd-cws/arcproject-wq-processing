{
 "cells": [
  {
   "cell_type": "markdown",
   "metadata": {
    "collapsed": false
   },
   "source": [
    "# Water Quality CSV Transects joined by TIME/DATE "
   ]
  },
  {
   "cell_type": "code",
   "execution_count": 4,
   "metadata": {
    "collapsed": false
   },
   "outputs": [],
   "source": [
    "import os\n",
    "import pandas\n",
    "from scripts import wqt_timestamp_match\n",
    "from datetime import datetime\n",
    "from scripts import wq_gain"
   ]
  },
  {
   "cell_type": "code",
   "execution_count": 58,
   "metadata": {
    "collapsed": false
   },
   "outputs": [
    {
     "name": "stdout",
     "output_type": "stream",
     "text": [
      "C:\\Users\\Andy\\Documents\\arcproject-wq-processing\\scripts\\tests\\testfiles\\Arc_040413\\Arc_040413_WQ\\Arc_040413_wqp_cc1.csv\n"
     ]
    }
   ],
   "source": [
    "# set wd to Arcproject-wq-processing folder\n",
    "wd = os.path.abspath(os.path.join(os.path.dirname(os.path.dirname(\"__file__\"))))\n",
    "\n",
    "# example gain file\n",
    "wq_file = os.path.join(wd, \"scripts\", \"tests\", \"testfiles\", \"Arc_040413\\\\Arc_040413_WQ\\\\Arc_040413_wqp_cc1.csv\")\n",
    "\n",
    "\n",
    "print(wq_file)"
   ]
  },
  {
   "cell_type": "markdown",
   "metadata": {},
   "source": [
    "### Import CSV file from the Sonde as Pandas Dataframe"
   ]
  },
  {
   "cell_type": "code",
   "execution_count": 59,
   "metadata": {
    "collapsed": false,
    "scrolled": true
   },
   "outputs": [
    {
     "name": "stdout",
     "output_type": "stream",
     "text": [
      "            Date_Time   Temp    pH SpCond DO_PCT    DO  DEP25  PAR RPAR  \\\n",
      "1 2013-04-04 11:49:52  17.24  7.82    523   79.3  6.32  -0.06  477  753   \n",
      "2 2013-04-04 11:49:53  17.24  7.82    523   77.7  6.20  -0.04  482  759   \n",
      "3 2013-04-04 11:49:54  17.24  7.82    523   77.7  6.20  -0.04  482  759   \n",
      "4 2013-04-04 11:49:55  17.24  7.82    523   76.3  6.09  -0.03  469  766   \n",
      "5 2013-04-04 11:49:56  17.24  7.82    523   76.3  6.09  -0.03  469  766   \n",
      "\n",
      "  TurbSC   CHL CHL_VOLTS               WQ_SOURCE  \n",
      "1   19.0  3.17   0.03520  Arc_040413_wqp_cc1.csv  \n",
      "2   16.1  3.67   0.03882  Arc_040413_wqp_cc1.csv  \n",
      "3   16.1  3.67   0.03882  Arc_040413_wqp_cc1.csv  \n",
      "4   16.4  4.04   0.04266  Arc_040413_wqp_cc1.csv  \n",
      "5   16.4  4.04   0.04266  Arc_040413_wqp_cc1.csv  \n"
     ]
    }
   ],
   "source": [
    "wq_gain_df = wqt_timestamp_match.wq_from_file(wq_file)\n",
    "print(wq_gain_df.head())"
   ]
  },
  {
   "cell_type": "code",
   "execution_count": 60,
   "metadata": {
    "collapsed": false
   },
   "outputs": [],
   "source": [
    "# Convert water quality columns to dtype floats\n",
    "\n",
    "# if field is dtype string convert to numeric\n",
    "for column in list(wq_gain_df.columns.values): \n",
    "    if wq_gain_df[column].dtype == object:\n",
    "        wq_gain_df[column] = wq_gain_df[column].convert_objects(convert_numeric=True)"
   ]
  },
  {
   "cell_type": "markdown",
   "metadata": {},
   "source": [
    "### average top 1m of gain vertical profile"
   ]
  },
  {
   "cell_type": "code",
   "execution_count": 61,
   "metadata": {
    "collapsed": false
   },
   "outputs": [
    {
     "name": "stdout",
     "output_type": "stream",
     "text": [
      "             Date_Time   Temp    pH  SpCond  DO_PCT    DO  DEP25  PAR  RPAR  \\\n",
      "7  2013-04-04 11:49:58  17.27  7.83     523    75.5  6.02   0.07  470   772   \n",
      "8  2013-04-04 11:49:59  17.27  7.83     523    75.5  6.02   0.07  530   780   \n",
      "9  2013-04-04 11:50:00  17.28  7.82     523    74.4  5.93   0.16  399   786   \n",
      "10 2013-04-04 11:50:01  17.28  7.82     523    74.4  5.93   0.16  399   786   \n",
      "11 2013-04-04 11:50:02  17.29  7.81     523    74.3  5.92   0.24  199   795   \n",
      "12 2013-04-04 11:50:03  17.29  7.81     523    74.3  5.92   0.24  199   795   \n",
      "13 2013-04-04 11:50:04  17.28  7.82     523    74.3  5.92   0.45  143   802   \n",
      "14 2013-04-04 11:50:05  17.28  7.82     523    74.3  5.92   0.45  143   802   \n",
      "15 2013-04-04 11:50:06  17.26  7.81     523    74.3  5.93   0.63  105   805   \n",
      "16 2013-04-04 11:50:07  17.26  7.81     523    74.3  5.93   0.63  105   805   \n",
      "17 2013-04-04 11:50:08  17.26  7.82     523    74.4  5.93   0.77   72   816   \n",
      "18 2013-04-04 11:50:09  17.26  7.82     523    74.4  5.93   0.77   72   816   \n",
      "19 2013-04-04 11:50:10  17.25  7.81     523    74.4  5.94   0.92   52   824   \n",
      "42 2013-04-04 11:50:33  17.24  7.80     524    71.7  5.72   0.31  278   782   \n",
      "43 2013-04-04 11:50:34  17.24  7.80     524    71.7  5.72   0.31  278   782   \n",
      "44 2013-04-04 11:50:35  17.25  7.81     524    72.1  5.75   0.14  352   776   \n",
      "45 2013-04-04 11:50:36  17.25  7.81     524    72.1  5.75   0.14  352   776   \n",
      "46 2013-04-04 11:50:37  17.25  7.81     524    72.5  5.79   0.13  380   774   \n",
      "47 2013-04-04 11:50:38  17.25  7.81     524    72.5  5.79   0.13  380   774   \n",
      "48 2013-04-04 11:50:39  17.26  7.82     524    72.9  5.81   0.13  400   769   \n",
      "\n",
      "    TurbSC   CHL  CHL_VOLTS               WQ_SOURCE  \n",
      "7     18.2  4.53    0.04352  Arc_040413_wqp_cc1.csv  \n",
      "8     17.8  4.53    0.04368  Arc_040413_wqp_cc1.csv  \n",
      "9     16.8  4.55    0.04337  Arc_040413_wqp_cc1.csv  \n",
      "10    16.8  4.55    0.04337  Arc_040413_wqp_cc1.csv  \n",
      "11    16.7  4.52    0.04339  Arc_040413_wqp_cc1.csv  \n",
      "12    16.7  4.52    0.04339  Arc_040413_wqp_cc1.csv  \n",
      "13    16.6  4.52    0.04383  Arc_040413_wqp_cc1.csv  \n",
      "14    16.6  4.52    0.04383  Arc_040413_wqp_cc1.csv  \n",
      "15    17.5  4.57    0.04405  Arc_040413_wqp_cc1.csv  \n",
      "16    17.5  4.57    0.04405  Arc_040413_wqp_cc1.csv  \n",
      "17    17.6  4.59    0.04409  Arc_040413_wqp_cc1.csv  \n",
      "18    17.6  4.59    0.04409  Arc_040413_wqp_cc1.csv  \n",
      "19    18.1  4.59    0.04342  Arc_040413_wqp_cc1.csv  \n",
      "42    98.5  4.61    0.04550  Arc_040413_wqp_cc1.csv  \n",
      "43    98.5  4.61    0.04550  Arc_040413_wqp_cc1.csv  \n",
      "44    19.2  4.74    0.05918  Arc_040413_wqp_cc1.csv  \n",
      "45    19.2  4.74    0.05918  Arc_040413_wqp_cc1.csv  \n",
      "46    16.2  6.16    0.05678  Arc_040413_wqp_cc1.csv  \n",
      "47    16.2  6.16    0.05678  Arc_040413_wqp_cc1.csv  \n",
      "48    16.0  5.91    0.05523  Arc_040413_wqp_cc1.csv  \n"
     ]
    }
   ],
   "source": [
    "# Create variable with TRUE if depth is greater than 0 and less than 1\n",
    "depth1m = (wq_gain_df['DEP25'] > 0)  & (wq_gain_df['DEP25'] < 1 ) \n",
    "\n",
    "# Select all cases where depth1m is TRUE\n",
    "wq_gain_1m = wq_gain_df[depth1m]\n",
    "\n",
    "print(wq_gain_1m)"
   ]
  },
  {
   "cell_type": "code",
   "execution_count": 62,
   "metadata": {
    "collapsed": false
   },
   "outputs": [
    {
     "name": "stdout",
     "output_type": "stream",
     "text": [
      "Temp          17.263500\n",
      "pH             7.814500\n",
      "SpCond       523.350000\n",
      "DO_PCT        73.715000\n",
      "DO             5.878500\n",
      "DEP25          0.342500\n",
      "PAR          265.400000\n",
      "RPAR         790.850000\n",
      "TurbSC        25.415000\n",
      "CHL            4.804000\n",
      "CHL_VOLTS      0.047311\n",
      "dtype: float64\n",
      "      Temp      pH  SpCond  DO_PCT      DO   DEP25    PAR    RPAR  TurbSC  \\\n",
      "0  17.2635  7.8145  523.35  73.715  5.8785  0.3425  265.4  790.85  25.415   \n",
      "\n",
      "     CHL  CHL_VOLTS  \n",
      "0  4.804   0.047311  \n"
     ]
    }
   ],
   "source": [
    "# get mean for depth1m\n",
    "avg_1m = wq_gain_1m.mean()\n",
    "\n",
    "print(avg_1m)\n",
    "\n",
    "# convert series to dataframe\n",
    "avg_1m_df = avg_1m.to_frame().transpose()\n",
    "print(avg_1m_df)"
   ]
  },
  {
   "cell_type": "markdown",
   "metadata": {},
   "source": [
    "### Add gain setting and site to new column"
   ]
  },
  {
   "cell_type": "code",
   "execution_count": 63,
   "metadata": {
    "collapsed": false
   },
   "outputs": [
    {
     "name": "stdout",
     "output_type": "stream",
     "text": [
      "2013-04-04 11:49:52\n",
      "2013-04-04 11:50:39\n"
     ]
    }
   ],
   "source": [
    "# get date from the first row of the dataframe\n",
    "date = wq_gain_df[\"Date_Time\"][1]\n",
    "\n",
    "print(date)\n",
    "length = len(wq_gain_df.index)\n",
    "end = wq_gain_df[\"Date_Time\"][length]\n",
    "\n",
    "print(end)"
   ]
  },
  {
   "cell_type": "code",
   "execution_count": 64,
   "metadata": {
    "collapsed": false
   },
   "outputs": [
    {
     "data": {
      "text/html": [
       "<div style=\"max-height:1000px;max-width:1500px;overflow:auto;\">\n",
       "<table border=\"1\" class=\"dataframe\">\n",
       "  <thead>\n",
       "    <tr style=\"text-align: right;\">\n",
       "      <th></th>\n",
       "      <th>Temp</th>\n",
       "      <th>pH</th>\n",
       "      <th>SpCond</th>\n",
       "      <th>DO_PCT</th>\n",
       "      <th>DO</th>\n",
       "      <th>DEP25</th>\n",
       "      <th>PAR</th>\n",
       "      <th>RPAR</th>\n",
       "      <th>TurbSC</th>\n",
       "      <th>CHL</th>\n",
       "      <th>CHL_VOLTS</th>\n",
       "      <th>Start_Time</th>\n",
       "      <th>End_Time</th>\n",
       "      <th>Site</th>\n",
       "      <th>Gain</th>\n",
       "    </tr>\n",
       "  </thead>\n",
       "  <tbody>\n",
       "    <tr>\n",
       "      <th>0</th>\n",
       "      <td>17.2635</td>\n",
       "      <td>7.8145</td>\n",
       "      <td>523.35</td>\n",
       "      <td>73.715</td>\n",
       "      <td>5.8785</td>\n",
       "      <td>0.3425</td>\n",
       "      <td>265.4</td>\n",
       "      <td>790.85</td>\n",
       "      <td>25.415</td>\n",
       "      <td>4.804</td>\n",
       "      <td>0.047311</td>\n",
       "      <td>2013-04-04 11:49:52</td>\n",
       "      <td>2013-04-04 11:50:39</td>\n",
       "      <td>CC1</td>\n",
       "      <td>g0</td>\n",
       "    </tr>\n",
       "  </tbody>\n",
       "</table>\n",
       "</div>"
      ],
      "text/plain": [
       "      Temp      pH  SpCond  DO_PCT      DO   DEP25    PAR    RPAR  TurbSC  \\\n",
       "0  17.2635  7.8145  523.35  73.715  5.8785  0.3425  265.4  790.85  25.415   \n",
       "\n",
       "     CHL  CHL_VOLTS          Start_Time            End_Time Site Gain  \n",
       "0  4.804   0.047311 2013-04-04 11:49:52 2013-04-04 11:50:39  CC1   g0  "
      ]
     },
     "execution_count": 64,
     "metadata": {},
     "output_type": "execute_result"
    }
   ],
   "source": [
    "# add gain and site columns to results dataframe\n",
    "\n",
    "avg_1m_df['Start_Time'] = date\n",
    "avg_1m_df['End_Time'] = end\n",
    "avg_1m_df['Site'] = \"CC1\"\n",
    "avg_1m_df['Gain'] = \"g0\"\n",
    "\n",
    "avg_1m_df"
   ]
  },
  {
   "cell_type": "code",
   "execution_count": 65,
   "metadata": {
    "collapsed": false
   },
   "outputs": [
    {
     "name": "stdout",
     "output_type": "stream",
     "text": [
      "   Site       Date        Time  Sample_Num Zooplankto  Number_of_ Chlorophyl  \\\n",
      "0   bk1 2013-04-04  11:23:53am           0        Yes           0        Yes   \n",
      "1   cc1 2013-04-04  11:48:19am           0        Yes           0        Yes   \n",
      "2  lnca 2013-04-04  01:35:01pm           0        Yes           1        Yes   \n",
      "3   ca3 2013-04-04  01:48:55pm           0        Yes           0        Yes   \n",
      "4   hs1 2013-04-04  04:24:08pm           0        Yes           0        Yes   \n",
      "5   ul1 2013-04-04  05:21:35pm           0        Yes           0        Yes   \n",
      "6   ca1 2013-04-04  05:56:49pm           0        Yes           2        Yes   \n",
      "\n",
      "  WaterQuali Flow_Meter Flow_Mete2    GPS_Date    GPS_Time     POINT_X  \\\n",
      "0        Yes    08027.0    08061.2  2013-04-04  11:23:42am -121.796677   \n",
      "1        Yes    08062.5    08088.8  2013-04-04  11:48:08am -121.799515   \n",
      "2        Yes     8088.8     8142.8  2013-04-04  01:34:51pm -121.689085   \n",
      "3        Yes    08144.7    08219.1  2013-04-04  01:48:45pm -121.698867   \n",
      "4        Yes    08217.9    08227.8  2013-04-04  04:23:58pm -121.740307   \n",
      "5        Yes     8228.0     8233.9  2013-04-04  05:21:25pm -121.767254   \n",
      "6        Yes    08232.8    08237.5  2013-04-04  05:56:39pm -121.760051   \n",
      "\n",
      "     POINT_Y           GPS_SOURCE           Date_Time  \n",
      "0  38.275293  040413_ZoopChlW.shp 2013-04-04 11:23:42  \n",
      "1  38.259457  040413_ZoopChlW.shp 2013-04-04 11:48:08  \n",
      "2  38.244226  040413_ZoopChlW.shp 2013-04-04 13:34:51  \n",
      "3  38.266168  040413_ZoopChlW.shp 2013-04-04 13:48:45  \n",
      "4  38.314881  040413_ZoopChlW.shp 2013-04-04 16:23:58  \n",
      "5  38.291483  040413_ZoopChlW.shp 2013-04-04 17:21:25  \n",
      "6  38.307271  040413_ZoopChlW.shp 2013-04-04 17:56:39  \n"
     ]
    }
   ],
   "source": [
    "# example gain file\n",
    "gain_shp = os.path.join(wd, \"scripts\", \"tests\", \"testfiles\", \"Arc_040413\\\\Arc_040413_GPS\\\\040413_ZoopChlW.shp\")\n",
    "\n",
    "gain_df = wqt_timestamp_match.wqtshp2pd(gain_shp)\n",
    "\n",
    "print(gain_df)"
   ]
  },
  {
   "cell_type": "markdown",
   "metadata": {},
   "source": [
    "# Joins!"
   ]
  },
  {
   "cell_type": "code",
   "execution_count": 66,
   "metadata": {
    "collapsed": false
   },
   "outputs": [
    {
     "name": "stdout",
     "output_type": "stream",
     "text": [
      "   Site       Date        Time  Sample_Num Zooplankto  Number_of_ Chlorophyl  \\\n",
      "0   bk1 2013-04-04  11:23:53am           0        Yes           0        Yes   \n",
      "1   cc1 2013-04-04  11:48:19am           0        Yes           0        Yes   \n",
      "2  lnca 2013-04-04  01:35:01pm           0        Yes           1        Yes   \n",
      "3   ca3 2013-04-04  01:48:55pm           0        Yes           0        Yes   \n",
      "4   hs1 2013-04-04  04:24:08pm           0        Yes           0        Yes   \n",
      "5   ul1 2013-04-04  05:21:35pm           0        Yes           0        Yes   \n",
      "6   ca1 2013-04-04  05:56:49pm           0        Yes           2        Yes   \n",
      "\n",
      "  WaterQuali Flow_Meter Flow_Mete2    GPS_Date    GPS_Time     POINT_X  \\\n",
      "0        Yes    08027.0    08061.2  2013-04-04  11:23:42am -121.796677   \n",
      "1        Yes    08062.5    08088.8  2013-04-04  11:48:08am -121.799515   \n",
      "2        Yes     8088.8     8142.8  2013-04-04  01:34:51pm -121.689085   \n",
      "3        Yes    08144.7    08219.1  2013-04-04  01:48:45pm -121.698867   \n",
      "4        Yes    08217.9    08227.8  2013-04-04  04:23:58pm -121.740307   \n",
      "5        Yes     8228.0     8233.9  2013-04-04  05:21:25pm -121.767254   \n",
      "6        Yes    08232.8    08237.5  2013-04-04  05:56:39pm -121.760051   \n",
      "\n",
      "     POINT_Y           GPS_SOURCE           Date_Time  \n",
      "0  38.275293  040413_ZoopChlW.shp 2013-04-04 11:23:42  \n",
      "1  38.259457  040413_ZoopChlW.shp 2013-04-04 11:48:08  \n",
      "2  38.244226  040413_ZoopChlW.shp 2013-04-04 13:34:51  \n",
      "3  38.266168  040413_ZoopChlW.shp 2013-04-04 13:48:45  \n",
      "4  38.314881  040413_ZoopChlW.shp 2013-04-04 16:23:58  \n",
      "5  38.291483  040413_ZoopChlW.shp 2013-04-04 17:21:25  \n",
      "6  38.307271  040413_ZoopChlW.shp 2013-04-04 17:56:39  \n"
     ]
    }
   ],
   "source": [
    "ex_avg = avg_1m_df\n",
    "\n",
    "t1 = wqt_timestamp_match.wqtshp2pd(gain_shp)\n",
    "print(t1)"
   ]
  },
  {
   "cell_type": "markdown",
   "metadata": {},
   "source": [
    "## Attempt to join gain df to shapefile df using site name"
   ]
  },
  {
   "cell_type": "code",
   "execution_count": 67,
   "metadata": {
    "collapsed": false
   },
   "outputs": [
    {
     "name": "stdout",
     "output_type": "stream",
     "text": [
      "  Site       Date        Time  Sample_Num Zooplankto  Number_of_ Chlorophyl  \\\n",
      "0  CC1 2013-04-04  11:48:19am           0        Yes           0        Yes   \n",
      "\n",
      "  WaterQuali Flow_Meter Flow_Mete2  ...       DO   DEP25    PAR    RPAR  \\\n",
      "0        Yes    08062.5    08088.8  ...   5.8785  0.3425  265.4  790.85   \n",
      "\n",
      "   TurbSC    CHL  CHL_VOLTS          Start_Time            End_Time  Gain  \n",
      "0  25.415  4.804   0.047311 2013-04-04 11:49:52 2013-04-04 11:50:39    g0  \n",
      "\n",
      "[1 rows x 30 columns]\n"
     ]
    }
   ],
   "source": [
    "# convert both site columns to UPPER\n",
    "t1['Site'] = t1['Site'].str.upper()\n",
    "ex_avg['Site'] = ex_avg['Site'].str.upper()\n",
    "joined = pandas.merge(t1, ex_avg, how=\"inner\", on=\"Site\")\n",
    "\n",
    "print(joined)"
   ]
  },
  {
   "cell_type": "markdown",
   "metadata": {},
   "source": [
    "## Attempt to join gain df to shapefile df using the closest time stamp to start or end time"
   ]
  },
  {
   "cell_type": "code",
   "execution_count": 68,
   "metadata": {
    "collapsed": false
   },
   "outputs": [
    {
     "name": "stdout",
     "output_type": "stream",
     "text": [
      "2013-04-04 11:49:28.500000\n",
      "   Site       Date        Time  Sample_Num Zooplankto  Number_of_ Chlorophyl  \\\n",
      "0   BK1 2013-04-04  11:23:53am           0        Yes           0        Yes   \n",
      "1   CC1 2013-04-04  11:48:19am           0        Yes           0        Yes   \n",
      "2  LNCA 2013-04-04  01:35:01pm           0        Yes           1        Yes   \n",
      "3   CA3 2013-04-04  01:48:55pm           0        Yes           0        Yes   \n",
      "4   HS1 2013-04-04  04:24:08pm           0        Yes           0        Yes   \n",
      "5   UL1 2013-04-04  05:21:35pm           0        Yes           0        Yes   \n",
      "6   CA1 2013-04-04  05:56:49pm           0        Yes           2        Yes   \n",
      "\n",
      "  WaterQuali Flow_Meter Flow_Mete2    GPS_Date    GPS_Time     POINT_X  \\\n",
      "0        Yes    08027.0    08061.2  2013-04-04  11:23:42am -121.796677   \n",
      "1        Yes    08062.5    08088.8  2013-04-04  11:48:08am -121.799515   \n",
      "2        Yes     8088.8     8142.8  2013-04-04  01:34:51pm -121.689085   \n",
      "3        Yes    08144.7    08219.1  2013-04-04  01:48:45pm -121.698867   \n",
      "4        Yes    08217.9    08227.8  2013-04-04  04:23:58pm -121.740307   \n",
      "5        Yes     8228.0     8233.9  2013-04-04  05:21:25pm -121.767254   \n",
      "6        Yes    08232.8    08237.5  2013-04-04  05:56:39pm -121.760051   \n",
      "\n",
      "     POINT_Y           GPS_SOURCE           Date_Time       TimeDelta  \n",
      "0  38.275293  040413_ZoopChlW.shp 2013-04-04 11:23:42 00:25:46.500000  \n",
      "1  38.259457  040413_ZoopChlW.shp 2013-04-04 11:48:08 00:01:20.500000  \n",
      "2  38.244226  040413_ZoopChlW.shp 2013-04-04 13:34:51 01:45:22.500000  \n",
      "3  38.266168  040413_ZoopChlW.shp 2013-04-04 13:48:45 01:59:16.500000  \n",
      "4  38.314881  040413_ZoopChlW.shp 2013-04-04 16:23:58 04:34:29.500000  \n",
      "5  38.291483  040413_ZoopChlW.shp 2013-04-04 17:21:25 05:31:56.500000  \n",
      "6  38.307271  040413_ZoopChlW.shp 2013-04-04 17:56:39 06:07:10.500000  \n"
     ]
    }
   ],
   "source": [
    "# calculate the difference between the start time and the end time\n",
    "mid_time = (ex_avg['Start_Time'] + (ex_avg['Start_Time'] - ex_avg['End_Time'])/2)[0]\n",
    "print(mid_time)\n",
    "\n",
    "# add column with difference between mid time and time associated with the sampling point dataframe\n",
    "td = t1\n",
    "\n",
    "td[\"TimeDelta\"]=abs(td[\"Date_Time\"]-mid_time) # absolute diff of time difference\n",
    "\n",
    "print(td)"
   ]
  },
  {
   "cell_type": "code",
   "execution_count": 69,
   "metadata": {
    "collapsed": false
   },
   "outputs": [
    {
     "name": "stdout",
     "output_type": "stream",
     "text": [
      "   Site       Date        Time  Sample_Num Zooplankto  Number_of_ Chlorophyl  \\\n",
      "0   BK1 2013-04-04  11:23:53am           0        Yes           0        Yes   \n",
      "\n",
      "  WaterQuali Flow_Meter Flow_Mete2  ...    DEP25    PAR    RPAR  TurbSC  \\\n",
      "0        Yes    08027.0    08061.2  ...   0.3425  265.4  790.85  25.415   \n",
      "\n",
      "     CHL CHL_VOLTS          Start_Time            End_Time  Site  Gain  \n",
      "0  4.804  0.047311 2013-04-04 11:49:52 2013-04-04 11:50:39   CC1    g0  \n",
      "\n",
      "[1 rows x 32 columns]\n"
     ]
    }
   ],
   "source": [
    "# join - using concat - the closest match with the water quality average df \n",
    "\n",
    "# reset index\n",
    "td_closest = td.reset_index(drop=True)\n",
    "ex_avg = ex_avg.reset_index(drop=True)\n",
    "\n",
    "result = pandas.concat([td_closest, ex_avg ], axis=1, join='inner')\n",
    "print(result) # there might be duplicate columns"
   ]
  },
  {
   "cell_type": "code",
   "execution_count": 70,
   "metadata": {
    "collapsed": false
   },
   "outputs": [
    {
     "data": {
      "text/html": [
       "<div style=\"max-height:1000px;max-width:1500px;overflow:auto;\">\n",
       "<table border=\"1\" class=\"dataframe\">\n",
       "  <thead>\n",
       "    <tr style=\"text-align: right;\">\n",
       "      <th></th>\n",
       "      <th>Site</th>\n",
       "      <th>Date</th>\n",
       "      <th>Time</th>\n",
       "      <th>Sample_Num</th>\n",
       "      <th>Zooplankto</th>\n",
       "      <th>Number_of_</th>\n",
       "      <th>Chlorophyl</th>\n",
       "      <th>WaterQuali</th>\n",
       "      <th>Flow_Meter</th>\n",
       "      <th>Flow_Mete2</th>\n",
       "      <th>...</th>\n",
       "      <th>DEP25</th>\n",
       "      <th>PAR</th>\n",
       "      <th>RPAR</th>\n",
       "      <th>TurbSC</th>\n",
       "      <th>CHL</th>\n",
       "      <th>CHL_VOLTS</th>\n",
       "      <th>Start_Time</th>\n",
       "      <th>End_Time</th>\n",
       "      <th>Site</th>\n",
       "      <th>Gain</th>\n",
       "    </tr>\n",
       "  </thead>\n",
       "  <tbody>\n",
       "    <tr>\n",
       "      <th>0</th>\n",
       "      <td>cc1</td>\n",
       "      <td>2013-04-04</td>\n",
       "      <td>11:48:19am</td>\n",
       "      <td>0</td>\n",
       "      <td>Yes</td>\n",
       "      <td>0</td>\n",
       "      <td>Yes</td>\n",
       "      <td>Yes</td>\n",
       "      <td>08062.5</td>\n",
       "      <td>08088.8</td>\n",
       "      <td>...</td>\n",
       "      <td>0.3425</td>\n",
       "      <td>265.4</td>\n",
       "      <td>790.85</td>\n",
       "      <td>25.415</td>\n",
       "      <td>4.804</td>\n",
       "      <td>0.047311</td>\n",
       "      <td>2013-04-04 11:49:52</td>\n",
       "      <td>2013-04-04 11:50:39</td>\n",
       "      <td>CC1</td>\n",
       "      <td>g0</td>\n",
       "    </tr>\n",
       "  </tbody>\n",
       "</table>\n",
       "<p>1 rows × 32 columns</p>\n",
       "</div>"
      ],
      "text/plain": [
       "   Site       Date        Time  Sample_Num Zooplankto  Number_of_ Chlorophyl  \\\n",
       "0   cc1 2013-04-04  11:48:19am           0        Yes           0        Yes   \n",
       "\n",
       "  WaterQuali Flow_Meter Flow_Mete2  ...    DEP25    PAR    RPAR  TurbSC  \\\n",
       "0        Yes    08062.5    08088.8  ...   0.3425  265.4  790.85  25.415   \n",
       "\n",
       "     CHL CHL_VOLTS          Start_Time            End_Time  Site  Gain  \n",
       "0  4.804  0.047311 2013-04-04 11:49:52 2013-04-04 11:50:39   CC1    g0  \n",
       "\n",
       "[1 rows x 32 columns]"
      ]
     },
     "execution_count": 70,
     "metadata": {},
     "output_type": "execute_result"
    }
   ],
   "source": [
    "diff = wq_gain.gain_gps_timediff(avg_1m_df, gain_df)\n",
    "\n",
    "wq_gain.gain_gps_join_closest_timestamp(avg_1m_df, diff)"
   ]
  },
  {
   "cell_type": "markdown",
   "metadata": {},
   "source": [
    "# Examples - wq_gain.main()"
   ]
  },
  {
   "cell_type": "code",
   "execution_count": 5,
   "metadata": {
    "collapsed": false
   },
   "outputs": [
    {
     "ename": "NameError",
     "evalue": "name 'wq_file' is not defined",
     "traceback": [
      "\u001b[0;31m\u001b[0m",
      "\u001b[0;31mNameError\u001b[0mTraceback (most recent call last)",
      "\u001b[0;32m<ipython-input-5-2955cfe716a4>\u001b[0m in \u001b[0;36m<module>\u001b[0;34m()\u001b[0m\n\u001b[0;32m----> 1\u001b[0;31m \u001b[0me1\u001b[0m \u001b[1;33m=\u001b[0m \u001b[0mwq_gain\u001b[0m\u001b[1;33m.\u001b[0m\u001b[0mmain\u001b[0m\u001b[1;33m(\u001b[0m\u001b[0mwq_file\u001b[0m\u001b[1;33m,\u001b[0m \u001b[1;34m\"CC1\"\u001b[0m\u001b[1;33m,\u001b[0m \u001b[1;34m\"G1\"\u001b[0m\u001b[1;33m,\u001b[0m \u001b[0mgain_shp\u001b[0m\u001b[1;33m)\u001b[0m\u001b[1;33m\u001b[0m\u001b[0m\n\u001b[0m\u001b[1;32m      2\u001b[0m \u001b[0me2\u001b[0m \u001b[1;33m=\u001b[0m \u001b[0mwq_gain\u001b[0m\u001b[1;33m.\u001b[0m\u001b[0mmain\u001b[0m\u001b[1;33m(\u001b[0m\u001b[0mwq_file\u001b[0m\u001b[1;33m,\u001b[0m \u001b[1;34m\"NONE\"\u001b[0m\u001b[1;33m,\u001b[0m \u001b[1;34m\"G1\"\u001b[0m\u001b[1;33m,\u001b[0m \u001b[0mgain_shp\u001b[0m\u001b[1;33m)\u001b[0m\u001b[1;33m\u001b[0m\u001b[0m\n\u001b[1;32m      3\u001b[0m \u001b[1;33m\u001b[0m\u001b[0m\n\u001b[1;32m      4\u001b[0m \u001b[1;32mprint\u001b[0m\u001b[1;33m(\u001b[0m\u001b[0me1\u001b[0m\u001b[1;33m)\u001b[0m\u001b[1;33m\u001b[0m\u001b[0m\n\u001b[1;32m      5\u001b[0m \u001b[1;32mprint\u001b[0m\u001b[1;33m(\u001b[0m\u001b[0me2\u001b[0m\u001b[1;33m)\u001b[0m\u001b[1;33m\u001b[0m\u001b[0m\n",
      "\u001b[0;31mNameError\u001b[0m: name 'wq_file' is not defined"
     ],
     "output_type": "error"
    }
   ],
   "source": [
    "e1 = wq_gain.main(wq_file, \"CC1\", \"G1\", gain_shp)\n",
    "e2 = wq_gain.main(wq_file, \"NONE\", \"G1\", gain_shp)\n",
    "\n",
    "print(e1)\n",
    "print(e2)"
   ]
  },
  {
   "cell_type": "code",
   "execution_count": 2,
   "metadata": {
    "collapsed": false
   },
   "outputs": [
    {
     "ename": "NameError",
     "evalue": "name 'e1' is not defined",
     "traceback": [
      "\u001b[0;31m\u001b[0m",
      "\u001b[0;31mNameError\u001b[0mTraceback (most recent call last)",
      "\u001b[0;32m<ipython-input-2-96e83efd3d3f>\u001b[0m in \u001b[0;36m<module>\u001b[0;34m()\u001b[0m\n\u001b[0;32m----> 1\u001b[0;31m \u001b[0me1\u001b[0m\u001b[1;33m.\u001b[0m\u001b[0mcolumns\u001b[0m\u001b[1;33m.\u001b[0m\u001b[0mvalues\u001b[0m\u001b[1;33m.\u001b[0m\u001b[0mtolist\u001b[0m\u001b[1;33m(\u001b[0m\u001b[1;33m)\u001b[0m\u001b[1;33m\u001b[0m\u001b[0m\n\u001b[0m\u001b[1;32m      2\u001b[0m \u001b[1;33m\u001b[0m\u001b[0m\n\u001b[1;32m      3\u001b[0m \u001b[0me1\u001b[0m\u001b[1;33m.\u001b[0m\u001b[0mdtypes\u001b[0m\u001b[1;33m\u001b[0m\u001b[0m\n\u001b[1;32m      4\u001b[0m \u001b[1;33m\u001b[0m\u001b[0m\n\u001b[1;32m      5\u001b[0m \u001b[0md\u001b[0m \u001b[1;33m=\u001b[0m \u001b[0me1\u001b[0m\u001b[1;33m.\u001b[0m\u001b[0mdtypes\u001b[0m\u001b[1;33m.\u001b[0m\u001b[0mto_dict\u001b[0m\u001b[1;33m(\u001b[0m\u001b[1;33m)\u001b[0m\u001b[1;33m\u001b[0m\u001b[0m\n",
      "\u001b[0;31mNameError\u001b[0m: name 'e1' is not defined"
     ],
     "output_type": "error"
    }
   ],
   "source": [
    "e1.columns.values.tolist()\n",
    "\n",
    "e1.dtypes\n",
    "\n",
    "d = e1.dtypes.to_dict()\n",
    "print(d)\n",
    "\n",
    "# replace\n",
    "#dtype('O') = 'S'\n",
    "#dtype('float64') ='<f'\n",
    "#dtype('<M8[us]') = '<M8[us]'"
   ]
  },
  {
   "cell_type": "code",
   "execution_count": null,
   "metadata": {
    "collapsed": true
   },
   "outputs": [],
   "source": [
    "for column in list(df.columns.values):\n",
    "\t\tif df[column].dtype == object:\n",
    "\t\t\tdf[column] = df[column].convert_objects(convert_numeric=True)"
   ]
  },
  {
   "cell_type": "code",
   "execution_count": 72,
   "metadata": {
    "collapsed": false
   },
   "outputs": [
    {
     "name": "stdout",
     "output_type": "stream",
     "text": [
      "[ ('11:48:08am', datetime.datetime(2013, 4, 4, 11, 48, 8), 265.3999938964844, 17.263500213623047, 0.0, 0.3425000011920929, 4.803999900817871, 25.415000915527344, 790.8499755859375, 523.3499755859375, -121.79951459, 38.2594570122, '2013-04-04', 7.814499855041504, 0.04731149971485138, '040413_ZoopChlW.sh', '')]\n"
     ]
    }
   ],
   "source": [
    "# save to shp\n",
    "n = wqt_timestamp_match.pd2np(e1, wqt_timestamp_match.field_type_dict)\n",
    "\n",
    "print(n)"
   ]
  }
 ],
 "metadata": {
  "kernelspec": {
   "display_name": "Python 2",
   "language": "python",
   "name": "python2"
  },
  "language_info": {
   "codemirror_mode": {
    "name": "ipython",
    "version": 2.0
   },
   "file_extension": ".py",
   "mimetype": "text/x-python",
   "name": "python",
   "nbconvert_exporter": "python",
   "pygments_lexer": "ipython2",
   "version": "2.7.10"
  }
 },
 "nbformat": 4,
 "nbformat_minor": 0
}