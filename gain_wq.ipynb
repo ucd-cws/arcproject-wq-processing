{
 "cells": [
  {
   "cell_type": "markdown",
   "metadata": {
    "collapsed": false
   },
   "source": [
    "# Water Quality CSV Transects joined by TIME/DATE "
   ]
  },
  {
   "cell_type": "code",
   "execution_count": 1,
   "metadata": {
    "collapsed": false
   },
   "outputs": [],
   "source": [
    "import os\n",
    "import pandas\n",
    "from scripts import wqt_timestamp_match\n",
    "from datetime import datetime\n",
    "from scripts import wq_gain "
   ]
  },
  {
   "cell_type": "code",
   "execution_count": 2,
   "metadata": {
    "collapsed": false
   },
   "outputs": [
    {
     "name": "stdout",
     "output_type": "stream",
     "text": [
      "C:\\Users\\Andy\\Documents\\arcproject-wq-processing\\scripts\\tests\\testfiles\\Arc_040413\\Arc_040413_WQ\\Arc_040413_wqp_cc1.csv\n"
     ]
    }
   ],
   "source": [
    "# set wd to Arcproject-wq-processing folder\n",
    "wd = os.path.abspath(os.path.join(os.path.dirname(os.path.dirname(\"__file__\"))))\n",
    "\n",
    "# example gain file\n",
    "wq_file = os.path.join(wd, \"scripts\", \"tests\", \"testfiles\", \"Arc_040413\\\\Arc_040413_WQ\\\\Arc_040413_wqp_cc1.csv\")\n",
    "\n",
    "\n",
    "print(wq_file)"
   ]
  },
  {
   "cell_type": "markdown",
   "metadata": {},
   "source": [
    "### Import CSV file from the Sonde as Pandas Dataframe"
   ]
  },
  {
   "cell_type": "code",
   "execution_count": 3,
   "metadata": {
    "collapsed": false,
    "scrolled": true
   },
   "outputs": [
    {
     "name": "stdout",
     "output_type": "stream",
     "text": [
      "            Date_Time   Temp    pH SpCond DO_PCT    DO  DEP25  PAR RPAR  \\\n",
      "1 2013-04-04 11:49:52  17.24  7.82    523   79.3  6.32  -0.06  477  753   \n",
      "2 2013-04-04 11:49:53  17.24  7.82    523   77.7  6.20  -0.04  482  759   \n",
      "3 2013-04-04 11:49:54  17.24  7.82    523   77.7  6.20  -0.04  482  759   \n",
      "4 2013-04-04 11:49:55  17.24  7.82    523   76.3  6.09  -0.03  469  766   \n",
      "5 2013-04-04 11:49:56  17.24  7.82    523   76.3  6.09  -0.03  469  766   \n",
      "\n",
      "  TurbSC   CHL CHL_VOLTS               WQ_SOURCE  \n",
      "1   19.0  3.17   0.03520  Arc_040413_wqp_cc1.csv  \n",
      "2   16.1  3.67   0.03882  Arc_040413_wqp_cc1.csv  \n",
      "3   16.1  3.67   0.03882  Arc_040413_wqp_cc1.csv  \n",
      "4   16.4  4.04   0.04266  Arc_040413_wqp_cc1.csv  \n",
      "5   16.4  4.04   0.04266  Arc_040413_wqp_cc1.csv  \n"
     ]
    }
   ],
   "source": [
    "wq_gain_df = wqt_timestamp_match.wq_from_file(wq_file)\n",
    "print(wq_gain_df.head())"
   ]
  },
  {
   "cell_type": "code",
   "execution_count": 4,
   "metadata": {
    "collapsed": false
   },
   "outputs": [],
   "source": [
    "# Convert water quality columns to dtype floats\n",
    "\n",
    "# if field is dtype string convert to numeric\n",
    "for column in list(wq_gain_df.columns.values): \n",
    "    if wq_gain_df[column].dtype == object:\n",
    "        wq_gain_df[column] = wq_gain_df[column].convert_objects(convert_numeric=True)\n",
    "\n",
    "\n"
   ]
  },
  {
   "cell_type": "markdown",
   "metadata": {},
   "source": [
    "### average top 1m of gain vertical profile"
   ]
  },
  {
   "cell_type": "code",
   "execution_count": 5,
   "metadata": {
    "collapsed": false
   },
   "outputs": [
    {
     "name": "stdout",
     "output_type": "stream",
     "text": [
      "             Date_Time   Temp    pH  SpCond  DO_PCT    DO  DEP25  PAR  RPAR  \\\n",
      "7  2013-04-04 11:49:58  17.27  7.83     523    75.5  6.02   0.07  470   772   \n",
      "8  2013-04-04 11:49:59  17.27  7.83     523    75.5  6.02   0.07  530   780   \n",
      "9  2013-04-04 11:50:00  17.28  7.82     523    74.4  5.93   0.16  399   786   \n",
      "10 2013-04-04 11:50:01  17.28  7.82     523    74.4  5.93   0.16  399   786   \n",
      "11 2013-04-04 11:50:02  17.29  7.81     523    74.3  5.92   0.24  199   795   \n",
      "12 2013-04-04 11:50:03  17.29  7.81     523    74.3  5.92   0.24  199   795   \n",
      "13 2013-04-04 11:50:04  17.28  7.82     523    74.3  5.92   0.45  143   802   \n",
      "14 2013-04-04 11:50:05  17.28  7.82     523    74.3  5.92   0.45  143   802   \n",
      "15 2013-04-04 11:50:06  17.26  7.81     523    74.3  5.93   0.63  105   805   \n",
      "16 2013-04-04 11:50:07  17.26  7.81     523    74.3  5.93   0.63  105   805   \n",
      "17 2013-04-04 11:50:08  17.26  7.82     523    74.4  5.93   0.77   72   816   \n",
      "18 2013-04-04 11:50:09  17.26  7.82     523    74.4  5.93   0.77   72   816   \n",
      "19 2013-04-04 11:50:10  17.25  7.81     523    74.4  5.94   0.92   52   824   \n",
      "42 2013-04-04 11:50:33  17.24  7.80     524    71.7  5.72   0.31  278   782   \n",
      "43 2013-04-04 11:50:34  17.24  7.80     524    71.7  5.72   0.31  278   782   \n",
      "44 2013-04-04 11:50:35  17.25  7.81     524    72.1  5.75   0.14  352   776   \n",
      "45 2013-04-04 11:50:36  17.25  7.81     524    72.1  5.75   0.14  352   776   \n",
      "46 2013-04-04 11:50:37  17.25  7.81     524    72.5  5.79   0.13  380   774   \n",
      "47 2013-04-04 11:50:38  17.25  7.81     524    72.5  5.79   0.13  380   774   \n",
      "48 2013-04-04 11:50:39  17.26  7.82     524    72.9  5.81   0.13  400   769   \n",
      "\n",
      "    TurbSC   CHL  CHL_VOLTS               WQ_SOURCE  \n",
      "7     18.2  4.53    0.04352  Arc_040413_wqp_cc1.csv  \n",
      "8     17.8  4.53    0.04368  Arc_040413_wqp_cc1.csv  \n",
      "9     16.8  4.55    0.04337  Arc_040413_wqp_cc1.csv  \n",
      "10    16.8  4.55    0.04337  Arc_040413_wqp_cc1.csv  \n",
      "11    16.7  4.52    0.04339  Arc_040413_wqp_cc1.csv  \n",
      "12    16.7  4.52    0.04339  Arc_040413_wqp_cc1.csv  \n",
      "13    16.6  4.52    0.04383  Arc_040413_wqp_cc1.csv  \n",
      "14    16.6  4.52    0.04383  Arc_040413_wqp_cc1.csv  \n",
      "15    17.5  4.57    0.04405  Arc_040413_wqp_cc1.csv  \n",
      "16    17.5  4.57    0.04405  Arc_040413_wqp_cc1.csv  \n",
      "17    17.6  4.59    0.04409  Arc_040413_wqp_cc1.csv  \n",
      "18    17.6  4.59    0.04409  Arc_040413_wqp_cc1.csv  \n",
      "19    18.1  4.59    0.04342  Arc_040413_wqp_cc1.csv  \n",
      "42    98.5  4.61    0.04550  Arc_040413_wqp_cc1.csv  \n",
      "43    98.5  4.61    0.04550  Arc_040413_wqp_cc1.csv  \n",
      "44    19.2  4.74    0.05918  Arc_040413_wqp_cc1.csv  \n",
      "45    19.2  4.74    0.05918  Arc_040413_wqp_cc1.csv  \n",
      "46    16.2  6.16    0.05678  Arc_040413_wqp_cc1.csv  \n",
      "47    16.2  6.16    0.05678  Arc_040413_wqp_cc1.csv  \n",
      "48    16.0  5.91    0.05523  Arc_040413_wqp_cc1.csv  \n"
     ]
    }
   ],
   "source": [
    "# Create variable with TRUE if depth is greater than 0 and less than 1\n",
    "depth1m = (wq_gain_df['DEP25'] > 0)  & (wq_gain_df['DEP25'] < 1 ) \n",
    "\n",
    "# Select all cases where depth1m is TRUE\n",
    "wq_gain_1m = wq_gain_df[depth1m]\n",
    "\n",
    "print(wq_gain_1m)\n"
   ]
  },
  {
   "cell_type": "code",
   "execution_count": 6,
   "metadata": {
    "collapsed": false
   },
   "outputs": [
    {
     "name": "stdout",
     "output_type": "stream",
     "text": [
      "Temp          17.263500\n",
      "pH             7.814500\n",
      "SpCond       523.350000\n",
      "DO_PCT        73.715000\n",
      "DO             5.878500\n",
      "DEP25          0.342500\n",
      "PAR          265.400000\n",
      "RPAR         790.850000\n",
      "TurbSC        25.415000\n",
      "CHL            4.804000\n",
      "CHL_VOLTS      0.047311\n",
      "dtype: float64\n",
      "      Temp      pH  SpCond  DO_PCT      DO   DEP25    PAR    RPAR  TurbSC  \\\n",
      "0  17.2635  7.8145  523.35  73.715  5.8785  0.3425  265.4  790.85  25.415   \n",
      "\n",
      "     CHL  CHL_VOLTS  \n",
      "0  4.804   0.047311  \n"
     ]
    }
   ],
   "source": [
    "# get mean for depth1m\n",
    "avg_1m = wq_gain_1m.mean()\n",
    "\n",
    "print(avg_1m)\n",
    "\n",
    "# convert series to dataframe\n",
    "avg_1m_df = avg_1m.to_frame().transpose()\n",
    "print(avg_1m_df)\n"
   ]
  },
  {
   "cell_type": "markdown",
   "metadata": {},
   "source": [
    "### Add gain setting and site to new column"
   ]
  },
  {
   "cell_type": "code",
   "execution_count": 7,
   "metadata": {
    "collapsed": false
   },
   "outputs": [
    {
     "name": "stdout",
     "output_type": "stream",
     "text": [
      "2013-04-04 11:49:52\n",
      "2013-04-04 11:50:39\n"
     ]
    }
   ],
   "source": [
    "# get date from the first row of the dataframe\n",
    "date = wq_gain_df[\"Date_Time\"][1]\n",
    "\n",
    "print(date)\n",
    "length = len(wq_gain_df.index)\n",
    "end = wq_gain_df[\"Date_Time\"][length]\n",
    "\n",
    "print(end)"
   ]
  },
  {
   "cell_type": "code",
   "execution_count": 8,
   "metadata": {
    "collapsed": false
   },
   "outputs": [
    {
     "data": {
      "text/html": [
       "<div style=\"max-height:1000px;max-width:1500px;overflow:auto;\">\n",
       "<table border=\"1\" class=\"dataframe\">\n",
       "  <thead>\n",
       "    <tr style=\"text-align: right;\">\n",
       "      <th></th>\n",
       "      <th>Temp</th>\n",
       "      <th>pH</th>\n",
       "      <th>SpCond</th>\n",
       "      <th>DO_PCT</th>\n",
       "      <th>DO</th>\n",
       "      <th>DEP25</th>\n",
       "      <th>PAR</th>\n",
       "      <th>RPAR</th>\n",
       "      <th>TurbSC</th>\n",
       "      <th>CHL</th>\n",
       "      <th>CHL_VOLTS</th>\n",
       "      <th>Date_Time</th>\n",
       "      <th>End_Time</th>\n",
       "      <th>Site</th>\n",
       "      <th>Gain</th>\n",
       "    </tr>\n",
       "  </thead>\n",
       "  <tbody>\n",
       "    <tr>\n",
       "      <th>0</th>\n",
       "      <td>17.2635</td>\n",
       "      <td>7.8145</td>\n",
       "      <td>523.35</td>\n",
       "      <td>73.715</td>\n",
       "      <td>5.8785</td>\n",
       "      <td>0.3425</td>\n",
       "      <td>265.4</td>\n",
       "      <td>790.85</td>\n",
       "      <td>25.415</td>\n",
       "      <td>4.804</td>\n",
       "      <td>0.047311</td>\n",
       "      <td>2013-04-04 11:49:52</td>\n",
       "      <td>2013-04-04 11:50:39</td>\n",
       "      <td>CC1</td>\n",
       "      <td>g0</td>\n",
       "    </tr>\n",
       "  </tbody>\n",
       "</table>\n",
       "</div>"
      ],
      "text/plain": [
       "      Temp      pH  SpCond  DO_PCT      DO   DEP25    PAR    RPAR  TurbSC  \\\n",
       "0  17.2635  7.8145  523.35  73.715  5.8785  0.3425  265.4  790.85  25.415   \n",
       "\n",
       "     CHL  CHL_VOLTS           Date_Time            End_Time Site Gain  \n",
       "0  4.804   0.047311 2013-04-04 11:49:52 2013-04-04 11:50:39  CC1   g0  "
      ]
     },
     "execution_count": 8,
     "metadata": {},
     "output_type": "execute_result"
    }
   ],
   "source": [
    "# add gain and site columns to results dataframe\n",
    "\n",
    "avg_1m_df['Date_Time'] = date\n",
    "avg_1m_df['End_Time'] = end\n",
    "avg_1m_df['Site'] = \"CC1\"\n",
    "avg_1m_df['Gain'] = \"g0\"\n",
    "\n",
    "avg_1m_df\n"
   ]
  },
  {
   "cell_type": "code",
   "execution_count": 9,
   "metadata": {
    "collapsed": false
   },
   "outputs": [
    {
     "name": "stdout",
     "output_type": "stream",
     "text": [
      "      Temp      pH  SpCond  DO_PCT      DO   DEP25    PAR    RPAR  TurbSC  \\\n",
      "0  17.2635  7.8145  523.35  73.715  5.8785  0.3425  265.4  790.85  25.415   \n",
      "\n",
      "     CHL  CHL_VOLTS          Start_Time            End_Time Site Gain  \n",
      "0  4.804   0.047311 2013-04-04 11:49:52 2013-04-04 11:50:39  CC1   g0  \n"
     ]
    }
   ],
   "source": [
    "ex_avg = wq_gain.main(wq_file, \"CC1\", \"g0\")\n",
    "\n",
    "print(ex_avg)"
   ]
  },
  {
   "cell_type": "code",
   "execution_count": 10,
   "metadata": {
    "collapsed": false
   },
   "outputs": [],
   "source": [
    "# delete temporary feature layer\n",
    "arcpy.Delete_management(\"wqt_xy\")\n",
    "\n",
    "from scripts import wqt_timestamp_match"
   ]
  },
  {
   "cell_type": "code",
   "execution_count": 13,
   "metadata": {
    "collapsed": false
   },
   "outputs": [
    {
     "ename": "ExecuteError",
     "evalue": "ERROR 000464: Cannot get exclusive schema lock.  Either being edited or in use by another application.\nFailed to execute (AddXY).\n",
     "output_type": "error",
     "traceback": [
      "\u001b[0;31m\u001b[0m",
      "\u001b[0;31mExecuteError\u001b[0mTraceback (most recent call last)",
      "\u001b[0;32m<ipython-input-13-629efd22902e>\u001b[0m in \u001b[0;36m<module>\u001b[0;34m()\u001b[0m\n\u001b[1;32m      2\u001b[0m \u001b[0mgain_shp\u001b[0m \u001b[1;33m=\u001b[0m \u001b[0mos\u001b[0m\u001b[1;33m.\u001b[0m\u001b[0mpath\u001b[0m\u001b[1;33m.\u001b[0m\u001b[0mjoin\u001b[0m\u001b[1;33m(\u001b[0m\u001b[0mwd\u001b[0m\u001b[1;33m,\u001b[0m \u001b[1;34m\"scripts\"\u001b[0m\u001b[1;33m,\u001b[0m \u001b[1;34m\"tests\"\u001b[0m\u001b[1;33m,\u001b[0m \u001b[1;34m\"testfiles\"\u001b[0m\u001b[1;33m,\u001b[0m \u001b[1;34m\"Arc_040413\\\\Arc_040413_GPS\\\\040413_ZoopChlW.shp\"\u001b[0m\u001b[1;33m)\u001b[0m\u001b[1;33m\u001b[0m\u001b[0m\n\u001b[1;32m      3\u001b[0m \u001b[1;33m\u001b[0m\u001b[0m\n\u001b[0;32m----> 4\u001b[0;31m \u001b[0mgain_df\u001b[0m \u001b[1;33m=\u001b[0m \u001b[0mwqt_timestamp_match\u001b[0m\u001b[1;33m.\u001b[0m\u001b[0mwqtshp2pd\u001b[0m\u001b[1;33m(\u001b[0m\u001b[0mgain_shp\u001b[0m\u001b[1;33m)\u001b[0m\u001b[1;33m\u001b[0m\u001b[0m\n\u001b[0m\u001b[1;32m      5\u001b[0m \u001b[1;33m\u001b[0m\u001b[0m\n\u001b[1;32m      6\u001b[0m \u001b[1;32mprint\u001b[0m\u001b[1;33m(\u001b[0m\u001b[0mgain_df\u001b[0m\u001b[1;33m)\u001b[0m\u001b[1;33m\u001b[0m\u001b[0m\n",
      "\u001b[0;32mC:\\Users\\Andy\\Documents\\arcproject-wq-processing\\scripts\\wqt_timestamp_match.py\u001b[0m in \u001b[0;36mwqtshp2pd\u001b[0;34m(shapefile)\u001b[0m\n\u001b[1;32m     86\u001b[0m         \u001b[1;32mif\u001b[0m \u001b[0mlen\u001b[0m\u001b[1;33m(\u001b[0m\u001b[0mfields\u001b[0m\u001b[1;33m)\u001b[0m \u001b[1;33m!=\u001b[0m \u001b[1;36m2\u001b[0m\u001b[1;33m:\u001b[0m\u001b[1;33m\u001b[0m\u001b[0m\n\u001b[1;32m     87\u001b[0m                 \u001b[1;31m# add XY points (POINT_X and POINT_Y to shapefile attribute table\u001b[0m\u001b[1;33m\u001b[0m\u001b[1;33m\u001b[0m\u001b[0m\n\u001b[0;32m---> 88\u001b[0;31m                 \u001b[0marcpy\u001b[0m\u001b[1;33m.\u001b[0m\u001b[0mAddXY_management\u001b[0m\u001b[1;33m(\u001b[0m\u001b[1;34m\"wqt_xy\"\u001b[0m\u001b[1;33m)\u001b[0m  \u001b[1;31m# CHECK - does this add xy to the original file everytime?\u001b[0m\u001b[1;33m\u001b[0m\u001b[0m\n\u001b[0m\u001b[1;32m     89\u001b[0m \u001b[1;33m\u001b[0m\u001b[0m\n\u001b[1;32m     90\u001b[0m         \u001b[1;31m# convert attribute table to pandas dataframe\u001b[0m\u001b[1;33m\u001b[0m\u001b[1;33m\u001b[0m\u001b[0m\n",
      "\u001b[0;32mC:\\Program Files (x86)\\ArcGIS\\Desktop10.4\\ArcPy\\arcpy\\management.py\u001b[0m in \u001b[0;36mAddXY\u001b[0;34m(in_features)\u001b[0m\n\u001b[1;32m   2095\u001b[0m         \u001b[1;32mreturn\u001b[0m \u001b[0mretval\u001b[0m\u001b[1;33m\u001b[0m\u001b[0m\n\u001b[1;32m   2096\u001b[0m     \u001b[1;32mexcept\u001b[0m \u001b[0mException\u001b[0m\u001b[1;33m,\u001b[0m \u001b[0me\u001b[0m\u001b[1;33m:\u001b[0m\u001b[1;33m\u001b[0m\u001b[0m\n\u001b[0;32m-> 2097\u001b[0;31m         \u001b[1;32mraise\u001b[0m \u001b[0me\u001b[0m\u001b[1;33m\u001b[0m\u001b[0m\n\u001b[0m\u001b[1;32m   2098\u001b[0m \u001b[1;33m\u001b[0m\u001b[0m\n\u001b[1;32m   2099\u001b[0m \u001b[1;33m@\u001b[0m\u001b[0mgptooldoc\u001b[0m\u001b[1;33m(\u001b[0m\u001b[1;34m'Adjust3DZ_management'\u001b[0m\u001b[1;33m,\u001b[0m \u001b[0mNone\u001b[0m\u001b[1;33m)\u001b[0m\u001b[1;33m\u001b[0m\u001b[0m\n",
      "\u001b[0;31mExecuteError\u001b[0m: ERROR 000464: Cannot get exclusive schema lock.  Either being edited or in use by another application.\nFailed to execute (AddXY).\n"
     ]
    }
   ],
   "source": [
    "# example gain file\n",
    "gain_shp = os.path.join(wd, \"scripts\", \"tests\", \"testfiles\", \"Arc_040413\\\\Arc_040413_GPS\\\\040413_ZoopChlW.shp\")\n",
    "\n",
    "gain_df = wqt_timestamp_match.wqtshp2pd(gain_shp)\n",
    "\n",
    "print(gain_df)\n",
    "\n",
    "# TODO make sure that the site field gets imported into the pandas data frame. Currently - wqt_timestamp_match.wqtshp2pd() only \n",
    "# converts specific attributes to the df [\"GPS_Date\", \"GPS_Time\", \"POINT_X\", \"POINT_Y\"]"
   ]
  },
  {
   "cell_type": "code",
   "execution_count": 12,
   "metadata": {
    "collapsed": true
   },
   "outputs": [],
   "source": [
    "\t# get list of field names in the shapefile\n",
    "\t#field_names = [str(f.name) for f in arcpy.ListFields(\"wqt_xy\")]\n",
    "\n",
    "\t#print(field_names)"
   ]
  }
 ],
 "metadata": {
  "kernelspec": {
   "display_name": "Python 2",
   "language": "python",
   "name": "python2"
  },
  "language_info": {
   "codemirror_mode": {
    "name": "ipython",
    "version": 2
   },
   "file_extension": ".py",
   "mimetype": "text/x-python",
   "name": "python",
   "nbconvert_exporter": "python",
   "pygments_lexer": "ipython2",
   "version": "2.7.10"
  }
 },
 "nbformat": 4,
 "nbformat_minor": 0
}
