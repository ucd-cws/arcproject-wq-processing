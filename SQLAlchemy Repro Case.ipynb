{
 "cells": [
  {
   "cell_type": "code",
   "execution_count": 1,
   "metadata": {
    "collapsed": false
   },
   "outputs": [],
   "source": [
    "import os\n",
    "\n",
    "import sqlalchemy\n",
    "from sqlalchemy import orm\n",
    "from sqlalchemy import Column, Integer, String, Float, Date, DateTime\n",
    "from sqlalchemy.ext.declarative import declarative_base\n",
    "from sqlalchemy import ForeignKey\n",
    "from sqlalchemy.orm import relationship\n",
    "\n",
    "Base = declarative_base()\n",
    "\n",
    "db_location = r\"C:\\Users\\dsx.AD3\\Projects\\scratch\\test.sqlite\"\n",
    "\n",
    "db_engine = sqlalchemy.create_engine('sqlite:///{}'.format(db_location))\n",
    "\n",
    "Session = orm.sessionmaker(bind=db_engine, autoflush=False)\n",
    "Session.configure(bind=db_engine)"
   ]
  },
  {
   "cell_type": "code",
   "execution_count": 2,
   "metadata": {
    "collapsed": false
   },
   "outputs": [],
   "source": [
    "def make_tables():\n",
    "\tprint(\"Creating tables\")\n",
    "\tBase.metadata.create_all(db_engine)\n",
    "\n",
    "\n",
    "def recreate_tables():\n",
    "\ttry:\n",
    "\t\tos.remove(db_location)\n",
    "\texcept WindowsError:\n",
    "\t\tpass  # likely that the file doesn't exist. Try to create tables now\n",
    "\tmake_tables()"
   ]
  },
  {
   "cell_type": "code",
   "execution_count": 3,
   "metadata": {
    "collapsed": false
   },
   "outputs": [],
   "source": [
    "class Site(Base):\n",
    "\t__tablename__ = \"sites\"\n",
    "\n",
    "\tid = Column(Integer, primary_key=True)\n",
    "\tname = Column(String)\n",
    "\tcode = Column(String, unique=True)\n"
   ]
  },
  {
   "cell_type": "code",
   "execution_count": 4,
   "metadata": {
    "collapsed": false
   },
   "outputs": [],
   "source": [
    "class WaterQuality(Base):\n",
    "\t\"\"\"\n",
    "\t\tEach instance of this class is an observation in the database\n",
    "\t\"\"\"\n",
    "\t__tablename__ = 'water_quality'\n",
    "\n",
    "\tid = Column(Integer, primary_key=True)\n",
    "\n",
    "\tsite_id = Column(Integer, ForeignKey('sites.id'))\n",
    "\tsite = relationship(\"Site\",\n",
    "\t\t\t\t\t\tbackref=\"water_quality_records\")"
   ]
  },
  {
   "cell_type": "code",
   "execution_count": 5,
   "metadata": {
    "collapsed": false
   },
   "outputs": [
    {
     "name": "stdout",
     "output_type": "stream",
     "text": [
      "Creating tables\n"
     ]
    }
   ],
   "source": [
    "recreate_tables()\n",
    "session1 = Session()"
   ]
  },
  {
   "cell_type": "code",
   "execution_count": 6,
   "metadata": {
    "collapsed": false
   },
   "outputs": [],
   "source": [
    "s = Site()\n",
    "s.code = \"wqt\"\n",
    "session1.add(s)\n",
    "len(session1.new)\n",
    "session1.commit()"
   ]
  },
  {
   "cell_type": "code",
   "execution_count": 7,
   "metadata": {
    "collapsed": false
   },
   "outputs": [
    {
     "data": {
      "text/plain": [
       "1"
      ]
     },
     "execution_count": 7,
     "metadata": {},
     "output_type": "execute_result"
    }
   ],
   "source": [
    "wq = WaterQuality()\n",
    "session1.add(wq)\n",
    "len(session1.new)"
   ]
  },
  {
   "cell_type": "code",
   "execution_count": 11,
   "metadata": {
    "collapsed": false
   },
   "outputs": [],
   "source": [
    "for i in range(1000):\n",
    "    wq = WaterQuality()\n",
    "    session1.query(Site).filter(Site.code == \"wqt\").one()\n",
    "    session1.add(wq)"
   ]
  },
  {
   "cell_type": "code",
   "execution_count": 12,
   "metadata": {
    "collapsed": false
   },
   "outputs": [
    {
     "data": {
      "text/plain": [
       "1002"
      ]
     },
     "execution_count": 12,
     "metadata": {},
     "output_type": "execute_result"
    }
   ],
   "source": [
    "len(session1.new)"
   ]
  },
  {
   "cell_type": "code",
   "execution_count": null,
   "metadata": {
    "collapsed": true
   },
   "outputs": [],
   "source": []
  }
 ],
 "metadata": {
  "kernelspec": {
   "display_name": "Python 2",
   "language": "python",
   "name": "python2"
  },
  "language_info": {
   "codemirror_mode": {
    "name": "ipython",
    "version": 2
   },
   "file_extension": ".py",
   "mimetype": "text/x-python",
   "name": "python",
   "nbconvert_exporter": "python",
   "pygments_lexer": "ipython2",
   "version": "2.7.8"
  }
 },
 "nbformat": 4,
 "nbformat_minor": 0
}
