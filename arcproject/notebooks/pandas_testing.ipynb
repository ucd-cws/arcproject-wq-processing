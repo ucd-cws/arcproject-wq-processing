{
 "cells": [
  {
   "cell_type": "code",
   "execution_count": 6,
   "metadata": {
    "collapsed": true
   },
   "outputs": [],
   "source": [
    "from pandas import DataFrame\n",
    "import sqlalchemy\n",
    "from waterquality import classes\n",
    "from waterquality import utils"
   ]
  },
  {
   "cell_type": "code",
   "execution_count": 7,
   "metadata": {
    "collapsed": false
   },
   "outputs": [
    {
     "name": "stdout",
     "output_type": "stream",
     "text": [
      "   chl  chl_corrected\n",
      "0   10            100\n",
      "1   11            110\n",
      "2   12            120\n"
     ]
    }
   ],
   "source": [
    "inp = [{'chl':10, 'chl_corrected':100}, {'chl':11,'chl_corrected':110}, {'chl':12,'chl_corrected':120}]\n",
    "df = DataFrame(inp)\n",
    "print df"
   ]
  },
  {
   "cell_type": "code",
   "execution_count": 8,
   "metadata": {
    "collapsed": false
   },
   "outputs": [
    {
     "name": "stdout",
     "output_type": "stream",
     "text": [
      "Pandas(Index=0, chl=10, chl_corrected=100)\n",
      "Pandas(Index=1, chl=11, chl_corrected=110)\n",
      "Pandas(Index=2, chl=12, chl_corrected=120)\n"
     ]
    }
   ],
   "source": [
    "for row in df.itertuples():\n",
    "    print row    "
   ]
  },
  {
   "cell_type": "code",
   "execution_count": 17,
   "metadata": {
    "collapsed": false
   },
   "outputs": [
    {
     "name": "stdout",
     "output_type": "stream",
     "text": [
      "['Index', 'chl', 'chl_corrected']\n",
      "0, 10, 100\n",
      "['Index', 'chl', 'chl_corrected']\n",
      "1, 11, 110\n",
      "['Index', 'chl', 'chl_corrected']\n",
      "2, 12, 120\n"
     ]
    }
   ],
   "source": [
    "for row in df.itertuples():\n",
    "    print \"{}, {}, {}\".format(row.Index, row.chl, row.chl_corrected)"
   ]
  },
  {
   "cell_type": "code",
   "execution_count": 55,
   "metadata": {
    "collapsed": false
   },
   "outputs": [
    {
     "data": {
      "text/plain": [
       "<module 'waterquality.classes' from 'waterquality\\classes.pyc'>"
      ]
     },
     "execution_count": 55,
     "metadata": {},
     "output_type": "execute_result"
    }
   ],
   "source": [
    "reload(classes)"
   ]
  },
  {
   "cell_type": "code",
   "execution_count": 56,
   "metadata": {
    "collapsed": false
   },
   "outputs": [
    {
     "name": "stdout",
     "output_type": "stream",
     "text": [
      "Creating tables\n"
     ]
    }
   ],
   "source": [
    "utils.recreate_tables()\n",
    "classes.connect_db(classes.db_location)\n",
    "session = classes.db_session(classes.db_engine)"
   ]
  },
  {
   "cell_type": "code",
   "execution_count": null,
   "metadata": {
    "collapsed": false
   },
   "outputs": [],
   "source": []
  },
  {
   "cell_type": "code",
   "execution_count": 57,
   "metadata": {
    "collapsed": false
   },
   "outputs": [],
   "source": [
    "for row in df.itertuples():\n",
    "    wq = classes.WaterQuality()\n",
    "    for key in vars(row).keys():  # converts named_tuple to a Dict-like and gets the keys\n",
    "        if key == \"Index\":\n",
    "            continue\n",
    "        setattr(wq, key, getattr(row,key))\n",
    "    session.add(wq)\n",
    "    "
   ]
  },
  {
   "cell_type": "code",
   "execution_count": 58,
   "metadata": {
    "collapsed": false
   },
   "outputs": [],
   "source": [
    "session.commit()"
   ]
  },
  {
   "cell_type": "code",
   "execution_count": 1,
   "metadata": {
    "collapsed": true
   },
   "outputs": [],
   "source": [
    "import sqlalchemy\n",
    "from sqlalchemy import orm\n",
    "from sqlalchemy import Column, Integer, String, Float, Date\n",
    "from sqlalchemy.ext.declarative import declarative_base\n",
    "from sqlalchemy import ForeignKey\n",
    "from sqlalchemy.orm import relationship\n",
    "\n",
    "db_engine = None\n",
    "Base = declarative_base()\n",
    "Session = None\n",
    "\n",
    "def connect_db(database=r\"C:\\Users\\dsx.AD3\\Projects\\test.sqlite\"):\n",
    "\t\"\"\"\n",
    "\t\tJust a helper function that sets up the database engine\n",
    "\t:return:\n",
    "\t\"\"\"\n",
    "\tglobal db_engine\n",
    "\tdb_engine = sqlalchemy.create_engine('sqlite:///{}'.format(database))\n",
    "\n",
    "\n",
    "def db_session(engine=db_engine):\n",
    "\t\"\"\"\n",
    "\t\tprovides a Session to the database - can be run for each thing that needs a new session.\n",
    "\t:param engine:\n",
    "\t:return:\n",
    "\t\"\"\"\n",
    "\tglobal Session\n",
    "\n",
    "\tif not Session:\n",
    "\t\tSession = orm.sessionmaker(bind=engine)\n",
    "\n",
    "\treturn Session()\n",
    "\n",
    "\n",
    "class Site(Base):\n",
    "\t__tablename__ = \"sites\"\n",
    "\n",
    "\tid = Column(Integer, primary_key=True)\n",
    "\tname = Column(String)\n",
    "\n",
    "\n",
    "class WaterQuality(Base):\n",
    "\t\"\"\"\n",
    "\t\tEach instance of this class is an observation in the database\n",
    "\t\"\"\"\n",
    "\t__tablename__ = 'water_quality'\n",
    "\n",
    "\tid = Column(Integer, primary_key=True)\n",
    "\n",
    "\tsite_id = Column(Integer, ForeignKey('sites.id'))\n",
    "\tsite = relationship(\"Site\",\n",
    "\t\t\t\t\t\tprimaryjoin=(site_id == Site.id),\n",
    "\t\t\t\t\t\tbackref=\"water_quality_records\")"
   ]
  },
  {
   "cell_type": "code",
   "execution_count": 3,
   "metadata": {
    "collapsed": false
   },
   "outputs": [],
   "source": [
    "connect_db(r\"C:\\Users\\dsx.AD3\\Projects\\test.sqlite\")\n",
    "Base.metadata.create_all(db_engine)"
   ]
  },
  {
   "cell_type": "code",
   "execution_count": 5,
   "metadata": {
    "collapsed": false
   },
   "outputs": [],
   "source": [
    "session = db_session()\n",
    "site = Site(name=\"test\")"
   ]
  },
  {
   "cell_type": "code",
   "execution_count": 13,
   "metadata": {
    "collapsed": false
   },
   "outputs": [
    {
     "data": {
      "text/plain": [
       "'1.1.2'"
      ]
     },
     "execution_count": 13,
     "metadata": {},
     "output_type": "execute_result"
    }
   ],
   "source": []
  },
  {
   "cell_type": "code",
   "execution_count": 102,
   "metadata": {
    "collapsed": false
   },
   "outputs": [
    {
     "data": {
      "text/plain": [
       "'C:\\\\Python27\\\\ArcGIS10.3\\\\python.exe'"
      ]
     },
     "execution_count": 102,
     "metadata": {},
     "output_type": "execute_result"
    }
   ],
   "source": []
  },
  {
   "cell_type": "code",
   "execution_count": 5,
   "metadata": {
    "collapsed": false
   },
   "outputs": [
    {
     "ename": "ImportError",
     "evalue": "No module named pandas",
     "output_type": "error",
     "traceback": [
      "\u001b[1;31m---------------------------------------------------------------------------\u001b[0m",
      "\u001b[1;31mImportError\u001b[0m                               Traceback (most recent call last)",
      "\u001b[1;32m<ipython-input-5-3180ee3d2a66>\u001b[0m in \u001b[0;36m<module>\u001b[1;34m()\u001b[0m\n\u001b[0;32m      2\u001b[0m \u001b[1;32mimport\u001b[0m \u001b[0marcpy\u001b[0m\u001b[1;33m\u001b[0m\u001b[0m\n\u001b[0;32m      3\u001b[0m \u001b[1;32mimport\u001b[0m \u001b[0mnumpy\u001b[0m\u001b[1;33m\u001b[0m\u001b[0m\n\u001b[1;32m----> 4\u001b[1;33m \u001b[1;32mimport\u001b[0m \u001b[0mpandas\u001b[0m\u001b[1;33m\u001b[0m\u001b[0m\n\u001b[0m\u001b[0;32m      5\u001b[0m \u001b[1;33m\u001b[0m\u001b[0m\n\u001b[0;32m      6\u001b[0m \u001b[0moutFC\u001b[0m \u001b[1;33m=\u001b[0m \u001b[0mos\u001b[0m\u001b[1;33m.\u001b[0m\u001b[0mpath\u001b[0m\u001b[1;33m.\u001b[0m\u001b[0mjoin\u001b[0m\u001b[1;33m(\u001b[0m\u001b[0mos\u001b[0m\u001b[1;33m.\u001b[0m\u001b[0mgetcwd\u001b[0m\u001b[1;33m(\u001b[0m\u001b[1;33m)\u001b[0m\u001b[1;33m,\u001b[0m \u001b[1;34m\"test.shp\"\u001b[0m\u001b[1;33m)\u001b[0m\u001b[1;33m\u001b[0m\u001b[0m\n",
      "\u001b[1;31mImportError\u001b[0m: No module named pandas"
     ]
    }
   ],
   "source": [
    "import os\n",
    "import arcpy\n",
    "import numpy\n",
    "import pandas\n",
    "\n",
    "outFC = os.path.join(os.getcwd(), \"test.shp\")\n",
    "\n",
    "# Create a numpy array with an id field, and a field with a tuple \n",
    "#  of x,y coordinates\n",
    "#\n",
    "\n",
    "array = numpy.array([(1, -116.809, 34.271),\n",
    "                     (2, -114.241, 33.684)],\n",
    "                    numpy.dtype([('idfield',numpy.int32),('x_coord', '<f8'), ('y_coord', '<f8')]))\n",
    "\n",
    "df = pandas.DataFrame(array)\n",
    "\n",
    "# Define a spatial reference for the output feature class\n",
    "#\n",
    "SR = arcpy.SpatialReference(4269)\n",
    "\n",
    "# Export the numpy array to a feature class using the XY field to\n",
    "#  represent the output point feature\n",
    "#\n",
    "arcpy.da.NumPyArrayToFeatureClass(df.as_matrix(), outFC, ['x_coord', 'y_coord'], SR)\n"
   ]
  },
  {
   "cell_type": "code",
   "execution_count": null,
   "metadata": {
    "collapsed": true
   },
   "outputs": [],
   "source": []
  }
 ],
 "metadata": {
  "kernelspec": {
   "display_name": "Python 2",
   "language": "python",
   "name": "python2"
  },
  "language_info": {
   "codemirror_mode": {
    "name": "ipython",
    "version": 2
   },
   "file_extension": ".py",
   "mimetype": "text/x-python",
   "name": "python",
   "nbconvert_exporter": "python",
   "pygments_lexer": "ipython2",
   "version": "2.7.8"
  }
 },
 "nbformat": 4,
 "nbformat_minor": 0
}
